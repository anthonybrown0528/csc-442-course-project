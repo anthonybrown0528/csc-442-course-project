{
  "nbformat": 4,
  "nbformat_minor": 0,
  "metadata": {
    "colab": {
      "provenance": []
    },
    "kernelspec": {
      "name": "python3",
      "display_name": "Python 3"
    },
    "language_info": {
      "name": "python"
    }
  },
  "cells": [
    {
      "cell_type": "code",
      "execution_count": null,
      "metadata": {
        "id": "MU9pShFFJdRf"
      },
      "outputs": [],
      "source": [
        "import pandas as pd"
      ]
    },
    {
      "cell_type": "code",
      "source": [
        "df = pd.read_csv('https://raw.githubusercontent.com/anthonybrown0528/csc-442-course-project/main/dataset/clean/netflix_film_imdb_data.csv')\n",
        "print(df.head())"
      ],
      "metadata": {
        "colab": {
          "base_uri": "https://localhost:8080/"
        },
        "id": "vw4AnXznLFEG",
        "outputId": "d898b63a-ff29-4569-83de-2e1077e673b0"
      },
      "execution_count": null,
      "outputs": [
        {
          "output_type": "stream",
          "name": "stdout",
          "text": [
            "                             title  \\\n",
            "0  Monty Python and the Holy Grail   \n",
            "1                     My Fair Lady   \n",
            "2                  The Blue Lagoon   \n",
            "3                 Bonnie and Clyde   \n",
            "4             The Guns of Navarone   \n",
            "\n",
            "                                       description_x  release_year  runtime  \\\n",
            "0  King Arthur, accompanied by his squire, recrui...          1975       91   \n",
            "1  A snobbish phonetics professor agrees to a wag...          1964      170   \n",
            "2  Two small children and a ship's cook survive a...          1980      104   \n",
            "3  In the 1930s, bored waitress Bonnie Parker fal...          1967      110   \n",
            "4  A team of allied saboteurs are assigned an imp...          1961      158   \n",
            "\n",
            "     imdb_id  imdb_score  imdb_votes show_id   type  \\\n",
            "0  tt0071853         8.2      530877   s4218  Movie   \n",
            "1  tt0058385         7.8       94121   s1127  Movie   \n",
            "2  tt0080453         5.8       69053    s176  Movie   \n",
            "3  tt0061418         7.7      111189   s6359  Movie   \n",
            "4  tt0054953         7.5       50150    s178  Movie   \n",
            "\n",
            "                     director  ...                        country  \\\n",
            "0  Terry Gilliam, Terry Jones  ...                 United Kingdom   \n",
            "1                George Cukor  ...                  United States   \n",
            "2              Randal Kleiser  ...                  United States   \n",
            "3                 Arthur Penn  ...                  United States   \n",
            "4             J. Lee Thompson  ...  United Kingdom, United States   \n",
            "\n",
            "          date_added age_certification num_releases  \\\n",
            "0    January 2, 2019                PG            1   \n",
            "1      April 1, 2021                 G            1   \n",
            "2  September 1, 2021                 R            1   \n",
            "3    January 1, 2021                 R            1   \n",
            "4  September 1, 2021             TV-14            1   \n",
            "\n",
            "                                      listed_in  \\\n",
            "0  Action & Adventure, Classic Movies, Comedies   \n",
            "1              Classic Movies, Music & Musicals   \n",
            "2                       Dramas, Romantic Movies   \n",
            "3    Action & Adventure, Classic Movies, Dramas   \n",
            "4            Action & Adventure, Classic Movies   \n",
            "\n",
            "                                       description_y num_listed_in  \\\n",
            "0  The Monty Python comedy clan skewers King Arth...             3   \n",
            "1  When a Cockney flower girl takes elocution les...             2   \n",
            "2  Two shipwrecked children, stranded for years o...             2   \n",
            "3  Bonnie Parker and Clyde Barrow are young, in l...             3   \n",
            "4  During World War II, British forces launch an ...             2   \n",
            "\n",
            "       first_cast cast_freq_mean  genre_freq_mean  \n",
            "0  Graham Chapman      10.888889       831.000000  \n",
            "1  Audrey Hepburn       1.083333       203.500000  \n",
            "2  Brooke Shields       1.375000      1446.500000  \n",
            "3   Warren Beatty       1.777778      1076.333333  \n",
            "4    Gregory Peck       1.300000       459.500000  \n",
            "\n",
            "[5 rows x 21 columns]\n"
          ]
        }
      ]
    },
    {
      "cell_type": "code",
      "source": [
        "import pandas as pd\n",
        "import numpy as np\n",
        "import torch\n",
        "import torch.nn as nn\n",
        "import torch.optim as optim\n",
        "from torch.utils.data import TensorDataset, DataLoader\n",
        "from sklearn.preprocessing import LabelEncoder\n",
        "from sklearn.model_selection import train_test_split\n",
        "from sklearn.metrics import confusion_matrix, accuracy_score, precision_score, recall_score, f1_score\n",
        "import seaborn as sns\n",
        "import matplotlib.pyplot as plt\n",
        "\n",
        "df = pd.read_csv('https://raw.githubusercontent.com/anthonybrown0528/csc-442-course-project/main/dataset/clean/netflix_film_imdb_data.csv')\n",
        "columns_of_interest = ['director', 'cast_freq_mean', 'release_year', 'genre_freq_mean', 'imdb_score', 'imdb_votes']\n",
        "data = df[columns_of_interest].dropna()\n",
        "director_counts = data['director'].value_counts().reset_index()\n",
        "director_counts.columns = ['director', 'movie_count']\n",
        "data_merged = data.merge(director_counts, on='director')\n",
        "filtered_data = data_merged[data_merged['movie_count'].between(1, 13)]\n",
        "features = filtered_data.drop(columns=['director', 'imdb_score'])\n",
        "features['movie_count'] = filtered_data['movie_count']\n",
        "labels = np.where(filtered_data['imdb_score'] <= 6.3844, 0, 1)\n",
        "\n",
        "features_tensor = torch.tensor(features.values, dtype=torch.float32)\n",
        "labels_tensor = torch.tensor(labels, dtype=torch.long).squeeze()  # Ensure 1D tensor\n",
        "print(\"Features shape:\", features_tensor.shape)\n",
        "print(\"Labels shape:\", labels_tensor.shape)\n",
        "train_features, test_features, train_labels, test_labels = train_test_split(features_tensor, labels_tensor, test_size=0.2, random_state=42)\n",
        "train_dataset = TensorDataset(train_features, train_labels)\n",
        "test_dataset = TensorDataset(test_features, test_labels)\n",
        "train_dataloader = DataLoader(train_dataset, batch_size=32, shuffle=True)\n",
        "test_dataloader = DataLoader(test_dataset, batch_size=32, shuffle=False)\n",
        "\n"
      ],
      "metadata": {
        "colab": {
          "base_uri": "https://localhost:8080/"
        },
        "id": "uXSyl1bxNiNe",
        "outputId": "b5b12bab-f839-4456-934b-66f29e5485d2"
      },
      "execution_count": null,
      "outputs": [
        {
          "output_type": "stream",
          "name": "stdout",
          "text": [
            "Features shape: torch.Size([1881, 5])\n",
            "Labels shape: torch.Size([1881])\n"
          ]
        }
      ]
    },
    {
      "cell_type": "code",
      "source": [
        "class SimpleNN(nn.Module):\n",
        "    def __init__(self, input_size, output_size):\n",
        "        super(SimpleNN, self).__init__()\n",
        "        self.fc1 = nn.Linear(input_size, 32)\n",
        "        self.relu = nn.ReLU()\n",
        "        self.fc2 = nn.Linear(32, 64)\n",
        "        self.relu2 = nn.ReLU()\n",
        "        self.fc4 = nn.Linear(64,32)\n",
        "        self.relu4 = nn.ReLU()\n",
        "        self.fc5 = nn.Linear(32, output_size)\n",
        "\n",
        "    def forward(self, x):\n",
        "        out = self.fc1(x)\n",
        "        out = self.relu(out)\n",
        "        out = self.fc2(out)\n",
        "        out = self.relu2(out)\n",
        "        out = self.fc4(out)\n",
        "        out = self.relu4(out)\n",
        "        out = self.fc5(out)\n",
        "        return out"
      ],
      "metadata": {
        "id": "jQMPFQkhTcFP"
      },
      "execution_count": null,
      "outputs": []
    },
    {
      "cell_type": "code",
      "source": [
        "input_size = features_tensor.shape[1]\n",
        "model = SimpleNN(input_size, output_size=2)\n",
        "criterion = nn.CrossEntropyLoss()\n",
        "optimizer = optim.Adam(model.parameters(), lr=0.001)\n",
        "num_epochs = 100\n",
        "\n",
        "import matplotlib.pyplot as plt\n",
        "\n",
        "train_losses = []\n",
        "for epoch in range(num_epochs):\n",
        "    model.train()\n",
        "    total_loss = 0\n",
        "    correct_predictions = 0\n",
        "    total_samples = 0\n",
        "\n",
        "    for inputs, targets in train_dataloader:\n",
        "        outputs = model(inputs)\n",
        "        loss = criterion(outputs, targets)\n",
        "        optimizer.zero_grad()\n",
        "        loss.backward()\n",
        "        optimizer.step()\n",
        "\n",
        "        total_loss += loss.item()\n",
        "        _, predicted_labels = torch.max(outputs, 1)\n",
        "        correct_predictions += (predicted_labels == targets).sum().item()\n",
        "        total_samples += targets.size(0)\n",
        "\n",
        "    avg_loss = total_loss / len(train_dataloader)\n",
        "    train_losses.append(avg_loss)\n",
        "    accuracy = correct_predictions / total_samples\n",
        "    print(f'Epoch [{epoch + 1}/{num_epochs}], Loss: {avg_loss:.4f}, Accuracy: {accuracy:.4f}')\n",
        "plt.figure(figsize=(10, 5))\n",
        "plt.plot(range(1, num_epochs + 1), train_losses, label='Training Loss', color='blue')\n",
        "plt.xlabel('Epoch')\n",
        "plt.ylabel('Loss')\n",
        "plt.title('Training Loss Over Epochs')\n",
        "plt.legend()\n",
        "plt.grid(True)\n",
        "plt.show()"
      ],
      "metadata": {
        "colab": {
          "base_uri": "https://localhost:8080/",
          "height": 1000
        },
        "id": "dYApTypKTeVT",
        "outputId": "8b18839d-0124-4379-e855-4ced208ce7f7"
      },
      "execution_count": null,
      "outputs": [
        {
          "output_type": "stream",
          "name": "stdout",
          "text": [
            "Epoch [1/100], Loss: 30.1765, Accuracy: 0.5273\n",
            "Epoch [2/100], Loss: 13.7948, Accuracy: 0.5585\n",
            "Epoch [3/100], Loss: 9.0094, Accuracy: 0.5505\n",
            "Epoch [4/100], Loss: 34.7635, Accuracy: 0.5578\n",
            "Epoch [5/100], Loss: 25.1101, Accuracy: 0.5711\n",
            "Epoch [6/100], Loss: 14.4672, Accuracy: 0.5718\n",
            "Epoch [7/100], Loss: 5.5688, Accuracy: 0.5645\n",
            "Epoch [8/100], Loss: 4.7416, Accuracy: 0.5731\n",
            "Epoch [9/100], Loss: 4.3025, Accuracy: 0.5731\n",
            "Epoch [10/100], Loss: 10.0405, Accuracy: 0.5239\n",
            "Epoch [11/100], Loss: 10.0915, Accuracy: 0.5545\n",
            "Epoch [12/100], Loss: 2.6469, Accuracy: 0.5645\n",
            "Epoch [13/100], Loss: 4.4194, Accuracy: 0.5785\n",
            "Epoch [14/100], Loss: 1.4976, Accuracy: 0.5944\n",
            "Epoch [15/100], Loss: 6.8161, Accuracy: 0.5665\n",
            "Epoch [16/100], Loss: 3.1401, Accuracy: 0.5805\n",
            "Epoch [17/100], Loss: 3.8934, Accuracy: 0.5738\n",
            "Epoch [18/100], Loss: 4.7740, Accuracy: 0.5997\n",
            "Epoch [19/100], Loss: 3.0294, Accuracy: 0.6044\n",
            "Epoch [20/100], Loss: 1.6753, Accuracy: 0.6090\n",
            "Epoch [21/100], Loss: 1.6195, Accuracy: 0.6011\n",
            "Epoch [22/100], Loss: 1.4406, Accuracy: 0.6190\n",
            "Epoch [23/100], Loss: 5.8200, Accuracy: 0.5539\n",
            "Epoch [24/100], Loss: 0.9916, Accuracy: 0.6336\n",
            "Epoch [25/100], Loss: 1.7032, Accuracy: 0.6044\n",
            "Epoch [26/100], Loss: 3.6234, Accuracy: 0.5725\n",
            "Epoch [27/100], Loss: 8.9500, Accuracy: 0.5864\n",
            "Epoch [28/100], Loss: 3.9094, Accuracy: 0.5924\n",
            "Epoch [29/100], Loss: 3.1763, Accuracy: 0.6110\n",
            "Epoch [30/100], Loss: 2.1080, Accuracy: 0.6210\n",
            "Epoch [31/100], Loss: 1.5051, Accuracy: 0.6297\n",
            "Epoch [32/100], Loss: 1.8065, Accuracy: 0.6144\n",
            "Epoch [33/100], Loss: 2.2780, Accuracy: 0.6070\n",
            "Epoch [34/100], Loss: 1.3870, Accuracy: 0.6184\n",
            "Epoch [35/100], Loss: 4.4982, Accuracy: 0.5499\n",
            "Epoch [36/100], Loss: 1.1686, Accuracy: 0.6164\n",
            "Epoch [37/100], Loss: 1.1799, Accuracy: 0.6177\n",
            "Epoch [38/100], Loss: 2.4217, Accuracy: 0.5957\n",
            "Epoch [39/100], Loss: 0.8716, Accuracy: 0.6390\n",
            "Epoch [40/100], Loss: 0.8244, Accuracy: 0.6529\n",
            "Epoch [41/100], Loss: 0.8295, Accuracy: 0.6529\n",
            "Epoch [42/100], Loss: 1.1109, Accuracy: 0.6230\n",
            "Epoch [43/100], Loss: 0.9497, Accuracy: 0.6436\n",
            "Epoch [44/100], Loss: 1.1732, Accuracy: 0.6509\n",
            "Epoch [45/100], Loss: 2.3410, Accuracy: 0.6243\n",
            "Epoch [46/100], Loss: 4.4511, Accuracy: 0.5871\n",
            "Epoch [47/100], Loss: 1.5774, Accuracy: 0.5904\n",
            "Epoch [48/100], Loss: 1.0936, Accuracy: 0.6330\n",
            "Epoch [49/100], Loss: 0.7216, Accuracy: 0.6503\n",
            "Epoch [50/100], Loss: 0.8158, Accuracy: 0.6516\n",
            "Epoch [51/100], Loss: 0.8540, Accuracy: 0.6449\n",
            "Epoch [52/100], Loss: 0.6678, Accuracy: 0.6642\n",
            "Epoch [53/100], Loss: 0.7016, Accuracy: 0.6483\n",
            "Epoch [54/100], Loss: 0.7146, Accuracy: 0.6576\n",
            "Epoch [55/100], Loss: 0.9594, Accuracy: 0.6423\n",
            "Epoch [56/100], Loss: 0.7952, Accuracy: 0.6469\n",
            "Epoch [57/100], Loss: 0.9074, Accuracy: 0.6456\n",
            "Epoch [58/100], Loss: 0.6990, Accuracy: 0.6430\n",
            "Epoch [59/100], Loss: 0.6614, Accuracy: 0.6602\n",
            "Epoch [60/100], Loss: 0.6761, Accuracy: 0.6543\n",
            "Epoch [61/100], Loss: 0.6707, Accuracy: 0.6390\n",
            "Epoch [62/100], Loss: 0.7713, Accuracy: 0.6562\n",
            "Epoch [63/100], Loss: 0.7226, Accuracy: 0.6456\n",
            "Epoch [64/100], Loss: 0.7481, Accuracy: 0.6569\n",
            "Epoch [65/100], Loss: 0.6469, Accuracy: 0.6523\n",
            "Epoch [66/100], Loss: 0.6828, Accuracy: 0.6642\n",
            "Epoch [67/100], Loss: 0.7381, Accuracy: 0.6456\n",
            "Epoch [68/100], Loss: 0.6750, Accuracy: 0.6769\n",
            "Epoch [69/100], Loss: 0.6769, Accuracy: 0.6582\n",
            "Epoch [70/100], Loss: 0.6546, Accuracy: 0.6582\n",
            "Epoch [71/100], Loss: 0.6409, Accuracy: 0.6676\n",
            "Epoch [72/100], Loss: 0.7065, Accuracy: 0.6556\n",
            "Epoch [73/100], Loss: 0.6514, Accuracy: 0.6609\n",
            "Epoch [74/100], Loss: 0.7751, Accuracy: 0.6370\n",
            "Epoch [75/100], Loss: 0.6807, Accuracy: 0.6469\n",
            "Epoch [76/100], Loss: 0.7065, Accuracy: 0.6403\n",
            "Epoch [77/100], Loss: 0.6528, Accuracy: 0.6629\n",
            "Epoch [78/100], Loss: 0.6177, Accuracy: 0.6769\n",
            "Epoch [79/100], Loss: 0.6392, Accuracy: 0.6742\n",
            "Epoch [80/100], Loss: 0.8434, Accuracy: 0.6496\n",
            "Epoch [81/100], Loss: 0.6636, Accuracy: 0.6576\n",
            "Epoch [82/100], Loss: 0.6380, Accuracy: 0.6423\n",
            "Epoch [83/100], Loss: 0.6340, Accuracy: 0.6669\n",
            "Epoch [84/100], Loss: 0.8075, Accuracy: 0.6483\n",
            "Epoch [85/100], Loss: 0.7231, Accuracy: 0.6516\n",
            "Epoch [86/100], Loss: 0.6650, Accuracy: 0.6549\n",
            "Epoch [87/100], Loss: 0.6314, Accuracy: 0.6602\n",
            "Epoch [88/100], Loss: 0.6326, Accuracy: 0.6636\n",
            "Epoch [89/100], Loss: 0.6121, Accuracy: 0.6622\n",
            "Epoch [90/100], Loss: 0.6564, Accuracy: 0.6456\n",
            "Epoch [91/100], Loss: 0.6472, Accuracy: 0.6695\n",
            "Epoch [92/100], Loss: 0.6562, Accuracy: 0.6702\n",
            "Epoch [93/100], Loss: 0.6091, Accuracy: 0.6775\n",
            "Epoch [94/100], Loss: 0.6101, Accuracy: 0.6742\n",
            "Epoch [95/100], Loss: 0.6222, Accuracy: 0.6822\n",
            "Epoch [96/100], Loss: 0.6130, Accuracy: 0.6715\n",
            "Epoch [97/100], Loss: 0.6281, Accuracy: 0.6569\n",
            "Epoch [98/100], Loss: 0.6155, Accuracy: 0.6689\n",
            "Epoch [99/100], Loss: 0.6221, Accuracy: 0.6569\n",
            "Epoch [100/100], Loss: 0.6176, Accuracy: 0.6629\n"
          ]
        },
        {
          "output_type": "display_data",
          "data": {
            "text/plain": [
              "<Figure size 1000x500 with 1 Axes>"
            ],
            "image/png": "[encoded data removed]"
          },
          "metadata": {}
        }
      ]
    },
    {
      "cell_type": "code",
      "source": [
        "import seaborn as sns\n",
        "import matplotlib.pyplot as plt\n",
        "from sklearn.metrics import confusion_matrix, accuracy_score, precision_score, recall_score, f1_score\n",
        "\n",
        "model.eval()\n",
        "all_targets = []\n",
        "all_preds = []\n",
        "with torch.no_grad():\n",
        "    for inputs, targets in test_dataloader:\n",
        "        outputs = model(inputs)\n",
        "        _, predicted_labels = torch.max(outputs, 1)\n",
        "        all_targets.extend(targets.cpu().numpy())\n",
        "        all_preds.extend(predicted_labels.cpu().numpy())\n",
        "conf_matrix = confusion_matrix(all_targets, all_preds)\n",
        "plt.figure(figsize=(8, 6))\n",
        "sns.heatmap(conf_matrix, annot=True, fmt=\"d\", cmap=\"Blues\", xticklabels=[0, 1], yticklabels=[0, 1])\n",
        "plt.xlabel(\"Predicted Labels\")\n",
        "plt.ylabel(\"True Labels\")\n",
        "plt.title(\"Confusion Matrix\")\n",
        "plt.show()"
      ],
      "metadata": {
        "colab": {
          "base_uri": "https://localhost:8080/",
          "height": 564
        },
        "id": "XmNfFAFMcCIA",
        "outputId": "7bbaa850-d9fe-4e16-bd4e-0e7f36d5db42"
      },
      "execution_count": null,
      "outputs": [
        {
          "output_type": "display_data",
          "data": {
            "text/plain": [
              "<Figure size 800x600 with 2 Axes>"
            ],
            "image/png": "[encoded data removed]"
          },
          "metadata": {}
        }
      ]
    },
    {
      "cell_type": "code",
      "source": [
        "accuracy = accuracy_score(all_targets, all_preds)\n",
        "precision = precision_score(all_targets, all_preds, average='binary')\n",
        "recall = recall_score(all_targets, all_preds, average='binary')\n",
        "f1 = f1_score(all_targets, all_preds, average='binary')\n",
        "print(f\"Accuracy: {accuracy:.4f}\")\n",
        "print(f\"Precision: {precision:.4f}\")\n",
        "print(f\"Recall: {recall:.4f}\")\n",
        "print(f\"F1-Score: {f1:.4f}\")"
      ],
      "metadata": {
        "colab": {
          "base_uri": "https://localhost:8080/"
        },
        "id": "zOvXEdhdKmxx",
        "outputId": "41a7bb4a-8b32-4bf4-b091-4a842a23a878"
      },
      "execution_count": null,
      "outputs": [
        {
          "output_type": "stream",
          "name": "stdout",
          "text": [
            "Accuracy: 0.6631\n",
            "Precision: 0.6412\n",
            "Recall: 0.6229\n",
            "F1-Score: 0.6319\n"
          ]
        }
      ]
    }
  ]
}