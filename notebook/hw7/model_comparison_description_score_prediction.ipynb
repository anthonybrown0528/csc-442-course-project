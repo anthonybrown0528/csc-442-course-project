{
  "nbformat": 4,
  "nbformat_minor": 0,
  "metadata": {
    "colab": {
      "provenance": [],
      "authorship_tag": "ABX9TyNkZ+BjuPFE7+4X3iDDagbw",
      "include_colab_link": true
    },
    "kernelspec": {
      "name": "python3",
      "display_name": "Python 3"
    },
    "language_info": {
      "name": "python"
    }
  },
  "cells": [
    {
      "cell_type": "markdown",
      "metadata": {
        "id": "view-in-github",
        "colab_type": "text"
      },
      "source": [
        "<a href=\"https://colab.research.google.com/github/anthonybrown0528/csc-442-course-project/blob/main/notebook/hw7/model_comparison_description_score_prediction.ipynb\" target=\"_parent\"><img src=\"https://colab.research.google.com/assets/colab-badge.svg\" alt=\"Open In Colab\"/></a>"
      ]
    },
    {
      "cell_type": "code",
      "execution_count": 60,
      "metadata": {
        "id": "O8_HfxfJ8rG2"
      },
      "outputs": [],
      "source": [
        "import pandas as pd"
      ]
    },
    {
      "cell_type": "code",
      "source": [
        "filepath = 'https://raw.githubusercontent.com/anthonybrown0528/csc-442-course-project/refs/heads/main/dataset/clean/hw6/netflix_film_imdb_scores_cleaned_descriptions_df.csv'\n",
        "df = pd.read_csv(filepath)"
      ],
      "metadata": {
        "id": "Mq_Zyc6k8vHu"
      },
      "execution_count": 61,
      "outputs": []
    },
    {
      "cell_type": "code",
      "source": [
        "df.head()"
      ],
      "metadata": {
        "colab": {
          "base_uri": "https://localhost:8080/",
          "height": 568
        },
        "id": "FlNoLXrf8vLT",
        "outputId": "ff4cea52-7f09-4398-a4ee-e1f3b82d94f1"
      },
      "execution_count": 62,
      "outputs": [
        {
          "output_type": "execute_result",
          "data": {
            "text/plain": [
              "                             title  \\\n",
              "0  Monty Python and the Holy Grail   \n",
              "1                     My Fair Lady   \n",
              "2                  The Blue Lagoon   \n",
              "3                 Bonnie and Clyde   \n",
              "4             The Guns of Navarone   \n",
              "\n",
              "                                       description_x  release_year  runtime  \\\n",
              "0  King Arthur accompany squire recruit Knights R...          1975       91   \n",
              "1  snobbish phonetics professor agree wager take ...          1964      170   \n",
              "2  Two small child ship cook survive shipwreck fi...          1980      104   \n",
              "3  In 1930s bore waitress Bonnie Parker fall love...          1967      110   \n",
              "4  team allied saboteur assign impossible mission...          1961      158   \n",
              "\n",
              "     imdb_id  imdb_score  imdb_votes show_id   type  \\\n",
              "0  tt0071853         8.2      530877   s4218  Movie   \n",
              "1  tt0058385         7.8       94121   s1127  Movie   \n",
              "2  tt0080453         5.8       69053    s176  Movie   \n",
              "3  tt0061418         7.7      111189   s6359  Movie   \n",
              "4  tt0054953         7.5       50150    s178  Movie   \n",
              "\n",
              "                     director  ...                        country  \\\n",
              "0  Terry Gilliam, Terry Jones  ...                 United Kingdom   \n",
              "1                George Cukor  ...                  United States   \n",
              "2              Randal Kleiser  ...                  United States   \n",
              "3                 Arthur Penn  ...                  United States   \n",
              "4             J. Lee Thompson  ...  United Kingdom, United States   \n",
              "\n",
              "          date_added age_certification num_releases  \\\n",
              "0    January 2, 2019                PG            1   \n",
              "1      April 1, 2021                 G            1   \n",
              "2  September 1, 2021                 R            1   \n",
              "3    January 1, 2021                 R            1   \n",
              "4  September 1, 2021             TV-14            1   \n",
              "\n",
              "                                      listed_in  \\\n",
              "0  Action & Adventure, Classic Movies, Comedies   \n",
              "1              Classic Movies, Music & Musicals   \n",
              "2                       Dramas, Romantic Movies   \n",
              "3    Action & Adventure, Classic Movies, Dramas   \n",
              "4            Action & Adventure, Classic Movies   \n",
              "\n",
              "                                       description_y num_listed_in  \\\n",
              "0  The Monty Python comedy clan skewers King Arth...             3   \n",
              "1  When a Cockney flower girl takes elocution les...             2   \n",
              "2  Two shipwrecked children, stranded for years o...             2   \n",
              "3  Bonnie Parker and Clyde Barrow are young, in l...             3   \n",
              "4  During World War II, British forces launch an ...             2   \n",
              "\n",
              "       first_cast cast_freq_mean  genre_freq_mean  \n",
              "0  Graham Chapman      10.888889       831.000000  \n",
              "1  Audrey Hepburn       1.083333       203.500000  \n",
              "2  Brooke Shields       1.375000      1446.500000  \n",
              "3   Warren Beatty       1.777778      1076.333333  \n",
              "4    Gregory Peck       1.300000       459.500000  \n",
              "\n",
              "[5 rows x 21 columns]"
            ],
            "text/html": [
              "\n",
              "  <div id=\"df-7b865b15-ee8d-4add-a5c7-927d63bc3fa0\" class=\"colab-df-container\">\n",
              "    <div>\n",
              "<style scoped>\n",
              "    .dataframe tbody tr th:only-of-type {\n",
              "        vertical-align: middle;\n",
              "    }\n",
              "\n",
              "    .dataframe tbody tr th {\n",
              "        vertical-align: top;\n",
              "    }\n",
              "\n",
              "    .dataframe thead th {\n",
              "        text-align: right;\n",
              "    }\n",
              "</style>\n",
              "<table border=\"1\" class=\"dataframe\">\n",
              "  <thead>\n",
              "    <tr style=\"text-align: right;\">\n",
              "      <th></th>\n",
              "      <th>title</th>\n",
              "      <th>description_x</th>\n",
              "      <th>release_year</th>\n",
              "      <th>runtime</th>\n",
              "      <th>imdb_id</th>\n",
              "      <th>imdb_score</th>\n",
              "      <th>imdb_votes</th>\n",
              "      <th>show_id</th>\n",
              "      <th>type</th>\n",
              "      <th>director</th>\n",
              "      <th>...</th>\n",
              "      <th>country</th>\n",
              "      <th>date_added</th>\n",
              "      <th>age_certification</th>\n",
              "      <th>num_releases</th>\n",
              "      <th>listed_in</th>\n",
              "      <th>description_y</th>\n",
              "      <th>num_listed_in</th>\n",
              "      <th>first_cast</th>\n",
              "      <th>cast_freq_mean</th>\n",
              "      <th>genre_freq_mean</th>\n",
              "    </tr>\n",
              "  </thead>\n",
              "  <tbody>\n",
              "    <tr>\n",
              "      <th>0</th>\n",
              "      <td>Monty Python and the Holy Grail</td>\n",
              "      <td>King Arthur accompany squire recruit Knights R...</td>\n",
              "      <td>1975</td>\n",
              "      <td>91</td>\n",
              "      <td>tt0071853</td>\n",
              "      <td>8.2</td>\n",
              "      <td>530877</td>\n",
              "      <td>s4218</td>\n",
              "      <td>Movie</td>\n",
              "      <td>Terry Gilliam, Terry Jones</td>\n",
              "      <td>...</td>\n",
              "      <td>United Kingdom</td>\n",
              "      <td>January 2, 2019</td>\n",
              "      <td>PG</td>\n",
              "      <td>1</td>\n",
              "      <td>Action &amp; Adventure, Classic Movies, Comedies</td>\n",
              "      <td>The Monty Python comedy clan skewers King Arth...</td>\n",
              "      <td>3</td>\n",
              "      <td>Graham Chapman</td>\n",
              "      <td>10.888889</td>\n",
              "      <td>831.000000</td>\n",
              "    </tr>\n",
              "    <tr>\n",
              "      <th>1</th>\n",
              "      <td>My Fair Lady</td>\n",
              "      <td>snobbish phonetics professor agree wager take ...</td>\n",
              "      <td>1964</td>\n",
              "      <td>170</td>\n",
              "      <td>tt0058385</td>\n",
              "      <td>7.8</td>\n",
              "      <td>94121</td>\n",
              "      <td>s1127</td>\n",
              "      <td>Movie</td>\n",
              "      <td>George Cukor</td>\n",
              "      <td>...</td>\n",
              "      <td>United States</td>\n",
              "      <td>April 1, 2021</td>\n",
              "      <td>G</td>\n",
              "      <td>1</td>\n",
              "      <td>Classic Movies, Music &amp; Musicals</td>\n",
              "      <td>When a Cockney flower girl takes elocution les...</td>\n",
              "      <td>2</td>\n",
              "      <td>Audrey Hepburn</td>\n",
              "      <td>1.083333</td>\n",
              "      <td>203.500000</td>\n",
              "    </tr>\n",
              "    <tr>\n",
              "      <th>2</th>\n",
              "      <td>The Blue Lagoon</td>\n",
              "      <td>Two small child ship cook survive shipwreck fi...</td>\n",
              "      <td>1980</td>\n",
              "      <td>104</td>\n",
              "      <td>tt0080453</td>\n",
              "      <td>5.8</td>\n",
              "      <td>69053</td>\n",
              "      <td>s176</td>\n",
              "      <td>Movie</td>\n",
              "      <td>Randal Kleiser</td>\n",
              "      <td>...</td>\n",
              "      <td>United States</td>\n",
              "      <td>September 1, 2021</td>\n",
              "      <td>R</td>\n",
              "      <td>1</td>\n",
              "      <td>Dramas, Romantic Movies</td>\n",
              "      <td>Two shipwrecked children, stranded for years o...</td>\n",
              "      <td>2</td>\n",
              "      <td>Brooke Shields</td>\n",
              "      <td>1.375000</td>\n",
              "      <td>1446.500000</td>\n",
              "    </tr>\n",
              "    <tr>\n",
              "      <th>3</th>\n",
              "      <td>Bonnie and Clyde</td>\n",
              "      <td>In 1930s bore waitress Bonnie Parker fall love...</td>\n",
              "      <td>1967</td>\n",
              "      <td>110</td>\n",
              "      <td>tt0061418</td>\n",
              "      <td>7.7</td>\n",
              "      <td>111189</td>\n",
              "      <td>s6359</td>\n",
              "      <td>Movie</td>\n",
              "      <td>Arthur Penn</td>\n",
              "      <td>...</td>\n",
              "      <td>United States</td>\n",
              "      <td>January 1, 2021</td>\n",
              "      <td>R</td>\n",
              "      <td>1</td>\n",
              "      <td>Action &amp; Adventure, Classic Movies, Dramas</td>\n",
              "      <td>Bonnie Parker and Clyde Barrow are young, in l...</td>\n",
              "      <td>3</td>\n",
              "      <td>Warren Beatty</td>\n",
              "      <td>1.777778</td>\n",
              "      <td>1076.333333</td>\n",
              "    </tr>\n",
              "    <tr>\n",
              "      <th>4</th>\n",
              "      <td>The Guns of Navarone</td>\n",
              "      <td>team allied saboteur assign impossible mission...</td>\n",
              "      <td>1961</td>\n",
              "      <td>158</td>\n",
              "      <td>tt0054953</td>\n",
              "      <td>7.5</td>\n",
              "      <td>50150</td>\n",
              "      <td>s178</td>\n",
              "      <td>Movie</td>\n",
              "      <td>J. Lee Thompson</td>\n",
              "      <td>...</td>\n",
              "      <td>United Kingdom, United States</td>\n",
              "      <td>September 1, 2021</td>\n",
              "      <td>TV-14</td>\n",
              "      <td>1</td>\n",
              "      <td>Action &amp; Adventure, Classic Movies</td>\n",
              "      <td>During World War II, British forces launch an ...</td>\n",
              "      <td>2</td>\n",
              "      <td>Gregory Peck</td>\n",
              "      <td>1.300000</td>\n",
              "      <td>459.500000</td>\n",
              "    </tr>\n",
              "  </tbody>\n",
              "</table>\n",
              "<p>5 rows × 21 columns</p>\n",
              "</div>\n",
              "    <div class=\"colab-df-buttons\">\n",
              "\n",
              "  <div class=\"colab-df-container\">\n",
              "    <button class=\"colab-df-convert\" onclick=\"convertToInteractive('df-7b865b15-ee8d-4add-a5c7-927d63bc3fa0')\"\n",
              "            title=\"Convert this dataframe to an interactive table.\"\n",
              "            style=\"display:none;\">\n",
              "\n",
              "  <svg xmlns=\"http://www.w3.org/2000/svg\" height=\"24px\" viewBox=\"0 -960 960 960\">\n",
              "    <path d=\"M120-120v-720h720v720H120Zm60-500h600v-160H180v160Zm220 220h160v-160H400v160Zm0 220h160v-160H400v160ZM180-400h160v-160H180v160Zm440 0h160v-160H620v160ZM180-180h160v-160H180v160Zm440 0h160v-160H620v160Z\"/>\n",
              "  </svg>\n",
              "    </button>\n",
              "\n",
              "  <style>\n",
              "    .colab-df-container {\n",
              "      display:flex;\n",
              "      gap: 12px;\n",
              "    }\n",
              "\n",
              "    .colab-df-convert {\n",
              "      background-color: #E8F0FE;\n",
              "      border: none;\n",
              "      border-radius: 50%;\n",
              "      cursor: pointer;\n",
              "      display: none;\n",
              "      fill: #1967D2;\n",
              "      height: 32px;\n",
              "      padding: 0 0 0 0;\n",
              "      width: 32px;\n",
              "    }\n",
              "\n",
              "    .colab-df-convert:hover {\n",
              "      background-color: #E2EBFA;\n",
              "      box-shadow: 0px 1px 2px rgba(60, 64, 67, 0.3), 0px 1px 3px 1px rgba(60, 64, 67, 0.15);\n",
              "      fill: #174EA6;\n",
              "    }\n",
              "\n",
              "    .colab-df-buttons div {\n",
              "      margin-bottom: 4px;\n",
              "    }\n",
              "\n",
              "    [theme=dark] .colab-df-convert {\n",
              "      background-color: #3B4455;\n",
              "      fill: #D2E3FC;\n",
              "    }\n",
              "\n",
              "    [theme=dark] .colab-df-convert:hover {\n",
              "      background-color: #434B5C;\n",
              "      box-shadow: 0px 1px 3px 1px rgba(0, 0, 0, 0.15);\n",
              "      filter: drop-shadow(0px 1px 2px rgba(0, 0, 0, 0.3));\n",
              "      fill: #FFFFFF;\n",
              "    }\n",
              "  </style>\n",
              "\n",
              "    <script>\n",
              "      const buttonEl =\n",
              "        document.querySelector('#df-7b865b15-ee8d-4add-a5c7-927d63bc3fa0 button.colab-df-convert');\n",
              "      buttonEl.style.display =\n",
              "        google.colab.kernel.accessAllowed ? 'block' : 'none';\n",
              "\n",
              "      async function convertToInteractive(key) {\n",
              "        const element = document.querySelector('#df-7b865b15-ee8d-4add-a5c7-927d63bc3fa0');\n",
              "        const dataTable =\n",
              "          await google.colab.kernel.invokeFunction('convertToInteractive',\n",
              "                                                    [key], {});\n",
              "        if (!dataTable) return;\n",
              "\n",
              "        const docLinkHtml = 'Like what you see? Visit the ' +\n",
              "          '<a target=\"_blank\" href=https://colab.research.google.com/notebooks/data_table.ipynb>data table notebook</a>'\n",
              "          + ' to learn more about interactive tables.';\n",
              "        element.innerHTML = '';\n",
              "        dataTable['output_type'] = 'display_data';\n",
              "        await google.colab.output.renderOutput(dataTable, element);\n",
              "        const docLink = document.createElement('div');\n",
              "        docLink.innerHTML = docLinkHtml;\n",
              "        element.appendChild(docLink);\n",
              "      }\n",
              "    </script>\n",
              "  </div>\n",
              "\n",
              "\n",
              "<div id=\"df-e6583480-de77-4a2b-9da8-c0d5aea7a4b0\">\n",
              "  <button class=\"colab-df-quickchart\" onclick=\"quickchart('df-e6583480-de77-4a2b-9da8-c0d5aea7a4b0')\"\n",
              "            title=\"Suggest charts\"\n",
              "            style=\"display:none;\">\n",
              "\n",
              "<svg xmlns=\"http://www.w3.org/2000/svg\" height=\"24px\"viewBox=\"0 0 24 24\"\n",
              "     width=\"24px\">\n",
              "    <g>\n",
              "        <path d=\"M19 3H5c-1.1 0-2 .9-2 2v14c0 1.1.9 2 2 2h14c1.1 0 2-.9 2-2V5c0-1.1-.9-2-2-2zM9 17H7v-7h2v7zm4 0h-2V7h2v10zm4 0h-2v-4h2v4z\"/>\n",
              "    </g>\n",
              "</svg>\n",
              "  </button>\n",
              "\n",
              "<style>\n",
              "  .colab-df-quickchart {\n",
              "      --bg-color: #E8F0FE;\n",
              "      --fill-color: #1967D2;\n",
              "      --hover-bg-color: #E2EBFA;\n",
              "      --hover-fill-color: #174EA6;\n",
              "      --disabled-fill-color: #AAA;\n",
              "      --disabled-bg-color: #DDD;\n",
              "  }\n",
              "\n",
              "  [theme=dark] .colab-df-quickchart {\n",
              "      --bg-color: #3B4455;\n",
              "      --fill-color: #D2E3FC;\n",
              "      --hover-bg-color: #434B5C;\n",
              "      --hover-fill-color: #FFFFFF;\n",
              "      --disabled-bg-color: #3B4455;\n",
              "      --disabled-fill-color: #666;\n",
              "  }\n",
              "\n",
              "  .colab-df-quickchart {\n",
              "    background-color: var(--bg-color);\n",
              "    border: none;\n",
              "    border-radius: 50%;\n",
              "    cursor: pointer;\n",
              "    display: none;\n",
              "    fill: var(--fill-color);\n",
              "    height: 32px;\n",
              "    padding: 0;\n",
              "    width: 32px;\n",
              "  }\n",
              "\n",
              "  .colab-df-quickchart:hover {\n",
              "    background-color: var(--hover-bg-color);\n",
              "    box-shadow: 0 1px 2px rgba(60, 64, 67, 0.3), 0 1px 3px 1px rgba(60, 64, 67, 0.15);\n",
              "    fill: var(--button-hover-fill-color);\n",
              "  }\n",
              "\n",
              "  .colab-df-quickchart-complete:disabled,\n",
              "  .colab-df-quickchart-complete:disabled:hover {\n",
              "    background-color: var(--disabled-bg-color);\n",
              "    fill: var(--disabled-fill-color);\n",
              "    box-shadow: none;\n",
              "  }\n",
              "\n",
              "  .colab-df-spinner {\n",
              "    border: 2px solid var(--fill-color);\n",
              "    border-color: transparent;\n",
              "    border-bottom-color: var(--fill-color);\n",
              "    animation:\n",
              "      spin 1s steps(1) infinite;\n",
              "  }\n",
              "\n",
              "  @keyframes spin {\n",
              "    0% {\n",
              "      border-color: transparent;\n",
              "      border-bottom-color: var(--fill-color);\n",
              "      border-left-color: var(--fill-color);\n",
              "    }\n",
              "    20% {\n",
              "      border-color: transparent;\n",
              "      border-left-color: var(--fill-color);\n",
              "      border-top-color: var(--fill-color);\n",
              "    }\n",
              "    30% {\n",
              "      border-color: transparent;\n",
              "      border-left-color: var(--fill-color);\n",
              "      border-top-color: var(--fill-color);\n",
              "      border-right-color: var(--fill-color);\n",
              "    }\n",
              "    40% {\n",
              "      border-color: transparent;\n",
              "      border-right-color: var(--fill-color);\n",
              "      border-top-color: var(--fill-color);\n",
              "    }\n",
              "    60% {\n",
              "      border-color: transparent;\n",
              "      border-right-color: var(--fill-color);\n",
              "    }\n",
              "    80% {\n",
              "      border-color: transparent;\n",
              "      border-right-color: var(--fill-color);\n",
              "      border-bottom-color: var(--fill-color);\n",
              "    }\n",
              "    90% {\n",
              "      border-color: transparent;\n",
              "      border-bottom-color: var(--fill-color);\n",
              "    }\n",
              "  }\n",
              "</style>\n",
              "\n",
              "  <script>\n",
              "    async function quickchart(key) {\n",
              "      const quickchartButtonEl =\n",
              "        document.querySelector('#' + key + ' button');\n",
              "      quickchartButtonEl.disabled = true;  // To prevent multiple clicks.\n",
              "      quickchartButtonEl.classList.add('colab-df-spinner');\n",
              "      try {\n",
              "        const charts = await google.colab.kernel.invokeFunction(\n",
              "            'suggestCharts', [key], {});\n",
              "      } catch (error) {\n",
              "        console.error('Error during call to suggestCharts:', error);\n",
              "      }\n",
              "      quickchartButtonEl.classList.remove('colab-df-spinner');\n",
              "      quickchartButtonEl.classList.add('colab-df-quickchart-complete');\n",
              "    }\n",
              "    (() => {\n",
              "      let quickchartButtonEl =\n",
              "        document.querySelector('#df-e6583480-de77-4a2b-9da8-c0d5aea7a4b0 button');\n",
              "      quickchartButtonEl.style.display =\n",
              "        google.colab.kernel.accessAllowed ? 'block' : 'none';\n",
              "    })();\n",
              "  </script>\n",
              "</div>\n",
              "\n",
              "    </div>\n",
              "  </div>\n"
            ],
            "application/vnd.google.colaboratory.intrinsic+json": {
              "type": "dataframe",
              "variable_name": "df"
            }
          },
          "metadata": {},
          "execution_count": 62
        }
      ]
    },
    {
      "cell_type": "code",
      "source": [
        "column_subset = ['title', 'release_year', 'listed_in', 'description_x', 'imdb_score']\n",
        "query_df = df[column_subset]\n",
        "\n",
        "query_df"
      ],
      "metadata": {
        "colab": {
          "base_uri": "https://localhost:8080/",
          "height": 424
        },
        "id": "WIErydSh8vN3",
        "outputId": "61c5fd45-62cb-4eab-9412-7c674a1dcb6f"
      },
      "execution_count": 63,
      "outputs": [
        {
          "output_type": "execute_result",
          "data": {
            "text/plain": [
              "                                   title  release_year  \\\n",
              "0        Monty Python and the Holy Grail          1975   \n",
              "1                           My Fair Lady          1964   \n",
              "2                        The Blue Lagoon          1980   \n",
              "3                       Bonnie and Clyde          1967   \n",
              "4                   The Guns of Navarone          1961   \n",
              "...                                  ...           ...   \n",
              "2472           Myriam Fares: The Journey          2021   \n",
              "2473          The Tambour of Retribution          2021   \n",
              "2474                       Pitta Kathalu          2021   \n",
              "2475             Loyiso Gola: Unlearning          2021   \n",
              "2476  Mighty Little Bheem: Kite Festival          2021   \n",
              "\n",
              "                                              listed_in  \\\n",
              "0          Action & Adventure, Classic Movies, Comedies   \n",
              "1                      Classic Movies, Music & Musicals   \n",
              "2                               Dramas, Romantic Movies   \n",
              "3            Action & Adventure, Classic Movies, Dramas   \n",
              "4                    Action & Adventure, Classic Movies   \n",
              "...                                                 ...   \n",
              "2472  Documentaries, International Movies, Music & M...   \n",
              "2473      Dramas, International Movies, Romantic Movies   \n",
              "2474                  International TV Shows, TV Dramas   \n",
              "2475                                    Stand-Up Comedy   \n",
              "2476                              Kids' TV, TV Comedies   \n",
              "\n",
              "                                          description_x  imdb_score  \n",
              "0     King Arthur accompany squire recruit Knights R...         8.2  \n",
              "1     snobbish phonetics professor agree wager take ...         7.8  \n",
              "2     Two small child ship cook survive shipwreck fi...         5.8  \n",
              "3     In 1930s bore waitress Bonnie Parker fall love...         7.7  \n",
              "4     team allied saboteur assign impossible mission...         7.5  \n",
              "...                                                 ...         ...  \n",
              "2472  From pregnancy album preparation Lebanese sing...         2.3  \n",
              "2473  son swordsman fall love daughter Tagaga social...         6.9  \n",
              "2474  Four different woman four journey love betraya...         5.1  \n",
              "2475  South African comedian Loyiso Gola serve filte...         5.9  \n",
              "2476  With winter behind Bheem townspeople usher sun...         8.8  \n",
              "\n",
              "[2477 rows x 5 columns]"
            ],
            "text/html": [
              "\n",
              "  <div id=\"df-31b7bda5-d014-4ba8-921f-280fdfae6e85\" class=\"colab-df-container\">\n",
              "    <div>\n",
              "<style scoped>\n",
              "    .dataframe tbody tr th:only-of-type {\n",
              "        vertical-align: middle;\n",
              "    }\n",
              "\n",
              "    .dataframe tbody tr th {\n",
              "        vertical-align: top;\n",
              "    }\n",
              "\n",
              "    .dataframe thead th {\n",
              "        text-align: right;\n",
              "    }\n",
              "</style>\n",
              "<table border=\"1\" class=\"dataframe\">\n",
              "  <thead>\n",
              "    <tr style=\"text-align: right;\">\n",
              "      <th></th>\n",
              "      <th>title</th>\n",
              "      <th>release_year</th>\n",
              "      <th>listed_in</th>\n",
              "      <th>description_x</th>\n",
              "      <th>imdb_score</th>\n",
              "    </tr>\n",
              "  </thead>\n",
              "  <tbody>\n",
              "    <tr>\n",
              "      <th>0</th>\n",
              "      <td>Monty Python and the Holy Grail</td>\n",
              "      <td>1975</td>\n",
              "      <td>Action &amp; Adventure, Classic Movies, Comedies</td>\n",
              "      <td>King Arthur accompany squire recruit Knights R...</td>\n",
              "      <td>8.2</td>\n",
              "    </tr>\n",
              "    <tr>\n",
              "      <th>1</th>\n",
              "      <td>My Fair Lady</td>\n",
              "      <td>1964</td>\n",
              "      <td>Classic Movies, Music &amp; Musicals</td>\n",
              "      <td>snobbish phonetics professor agree wager take ...</td>\n",
              "      <td>7.8</td>\n",
              "    </tr>\n",
              "    <tr>\n",
              "      <th>2</th>\n",
              "      <td>The Blue Lagoon</td>\n",
              "      <td>1980</td>\n",
              "      <td>Dramas, Romantic Movies</td>\n",
              "      <td>Two small child ship cook survive shipwreck fi...</td>\n",
              "      <td>5.8</td>\n",
              "    </tr>\n",
              "    <tr>\n",
              "      <th>3</th>\n",
              "      <td>Bonnie and Clyde</td>\n",
              "      <td>1967</td>\n",
              "      <td>Action &amp; Adventure, Classic Movies, Dramas</td>\n",
              "      <td>In 1930s bore waitress Bonnie Parker fall love...</td>\n",
              "      <td>7.7</td>\n",
              "    </tr>\n",
              "    <tr>\n",
              "      <th>4</th>\n",
              "      <td>The Guns of Navarone</td>\n",
              "      <td>1961</td>\n",
              "      <td>Action &amp; Adventure, Classic Movies</td>\n",
              "      <td>team allied saboteur assign impossible mission...</td>\n",
              "      <td>7.5</td>\n",
              "    </tr>\n",
              "    <tr>\n",
              "      <th>...</th>\n",
              "      <td>...</td>\n",
              "      <td>...</td>\n",
              "      <td>...</td>\n",
              "      <td>...</td>\n",
              "      <td>...</td>\n",
              "    </tr>\n",
              "    <tr>\n",
              "      <th>2472</th>\n",
              "      <td>Myriam Fares: The Journey</td>\n",
              "      <td>2021</td>\n",
              "      <td>Documentaries, International Movies, Music &amp; M...</td>\n",
              "      <td>From pregnancy album preparation Lebanese sing...</td>\n",
              "      <td>2.3</td>\n",
              "    </tr>\n",
              "    <tr>\n",
              "      <th>2473</th>\n",
              "      <td>The Tambour of Retribution</td>\n",
              "      <td>2021</td>\n",
              "      <td>Dramas, International Movies, Romantic Movies</td>\n",
              "      <td>son swordsman fall love daughter Tagaga social...</td>\n",
              "      <td>6.9</td>\n",
              "    </tr>\n",
              "    <tr>\n",
              "      <th>2474</th>\n",
              "      <td>Pitta Kathalu</td>\n",
              "      <td>2021</td>\n",
              "      <td>International TV Shows, TV Dramas</td>\n",
              "      <td>Four different woman four journey love betraya...</td>\n",
              "      <td>5.1</td>\n",
              "    </tr>\n",
              "    <tr>\n",
              "      <th>2475</th>\n",
              "      <td>Loyiso Gola: Unlearning</td>\n",
              "      <td>2021</td>\n",
              "      <td>Stand-Up Comedy</td>\n",
              "      <td>South African comedian Loyiso Gola serve filte...</td>\n",
              "      <td>5.9</td>\n",
              "    </tr>\n",
              "    <tr>\n",
              "      <th>2476</th>\n",
              "      <td>Mighty Little Bheem: Kite Festival</td>\n",
              "      <td>2021</td>\n",
              "      <td>Kids' TV, TV Comedies</td>\n",
              "      <td>With winter behind Bheem townspeople usher sun...</td>\n",
              "      <td>8.8</td>\n",
              "    </tr>\n",
              "  </tbody>\n",
              "</table>\n",
              "<p>2477 rows × 5 columns</p>\n",
              "</div>\n",
              "    <div class=\"colab-df-buttons\">\n",
              "\n",
              "  <div class=\"colab-df-container\">\n",
              "    <button class=\"colab-df-convert\" onclick=\"convertToInteractive('df-31b7bda5-d014-4ba8-921f-280fdfae6e85')\"\n",
              "            title=\"Convert this dataframe to an interactive table.\"\n",
              "            style=\"display:none;\">\n",
              "\n",
              "  <svg xmlns=\"http://www.w3.org/2000/svg\" height=\"24px\" viewBox=\"0 -960 960 960\">\n",
              "    <path d=\"M120-120v-720h720v720H120Zm60-500h600v-160H180v160Zm220 220h160v-160H400v160Zm0 220h160v-160H400v160ZM180-400h160v-160H180v160Zm440 0h160v-160H620v160ZM180-180h160v-160H180v160Zm440 0h160v-160H620v160Z\"/>\n",
              "  </svg>\n",
              "    </button>\n",
              "\n",
              "  <style>\n",
              "    .colab-df-container {\n",
              "      display:flex;\n",
              "      gap: 12px;\n",
              "    }\n",
              "\n",
              "    .colab-df-convert {\n",
              "      background-color: #E8F0FE;\n",
              "      border: none;\n",
              "      border-radius: 50%;\n",
              "      cursor: pointer;\n",
              "      display: none;\n",
              "      fill: #1967D2;\n",
              "      height: 32px;\n",
              "      padding: 0 0 0 0;\n",
              "      width: 32px;\n",
              "    }\n",
              "\n",
              "    .colab-df-convert:hover {\n",
              "      background-color: #E2EBFA;\n",
              "      box-shadow: 0px 1px 2px rgba(60, 64, 67, 0.3), 0px 1px 3px 1px rgba(60, 64, 67, 0.15);\n",
              "      fill: #174EA6;\n",
              "    }\n",
              "\n",
              "    .colab-df-buttons div {\n",
              "      margin-bottom: 4px;\n",
              "    }\n",
              "\n",
              "    [theme=dark] .colab-df-convert {\n",
              "      background-color: #3B4455;\n",
              "      fill: #D2E3FC;\n",
              "    }\n",
              "\n",
              "    [theme=dark] .colab-df-convert:hover {\n",
              "      background-color: #434B5C;\n",
              "      box-shadow: 0px 1px 3px 1px rgba(0, 0, 0, 0.15);\n",
              "      filter: drop-shadow(0px 1px 2px rgba(0, 0, 0, 0.3));\n",
              "      fill: #FFFFFF;\n",
              "    }\n",
              "  </style>\n",
              "\n",
              "    <script>\n",
              "      const buttonEl =\n",
              "        document.querySelector('#df-31b7bda5-d014-4ba8-921f-280fdfae6e85 button.colab-df-convert');\n",
              "      buttonEl.style.display =\n",
              "        google.colab.kernel.accessAllowed ? 'block' : 'none';\n",
              "\n",
              "      async function convertToInteractive(key) {\n",
              "        const element = document.querySelector('#df-31b7bda5-d014-4ba8-921f-280fdfae6e85');\n",
              "        const dataTable =\n",
              "          await google.colab.kernel.invokeFunction('convertToInteractive',\n",
              "                                                    [key], {});\n",
              "        if (!dataTable) return;\n",
              "\n",
              "        const docLinkHtml = 'Like what you see? Visit the ' +\n",
              "          '<a target=\"_blank\" href=https://colab.research.google.com/notebooks/data_table.ipynb>data table notebook</a>'\n",
              "          + ' to learn more about interactive tables.';\n",
              "        element.innerHTML = '';\n",
              "        dataTable['output_type'] = 'display_data';\n",
              "        await google.colab.output.renderOutput(dataTable, element);\n",
              "        const docLink = document.createElement('div');\n",
              "        docLink.innerHTML = docLinkHtml;\n",
              "        element.appendChild(docLink);\n",
              "      }\n",
              "    </script>\n",
              "  </div>\n",
              "\n",
              "\n",
              "<div id=\"df-62003b4b-aaf7-4295-81c9-0a0272a25554\">\n",
              "  <button class=\"colab-df-quickchart\" onclick=\"quickchart('df-62003b4b-aaf7-4295-81c9-0a0272a25554')\"\n",
              "            title=\"Suggest charts\"\n",
              "            style=\"display:none;\">\n",
              "\n",
              "<svg xmlns=\"http://www.w3.org/2000/svg\" height=\"24px\"viewBox=\"0 0 24 24\"\n",
              "     width=\"24px\">\n",
              "    <g>\n",
              "        <path d=\"M19 3H5c-1.1 0-2 .9-2 2v14c0 1.1.9 2 2 2h14c1.1 0 2-.9 2-2V5c0-1.1-.9-2-2-2zM9 17H7v-7h2v7zm4 0h-2V7h2v10zm4 0h-2v-4h2v4z\"/>\n",
              "    </g>\n",
              "</svg>\n",
              "  </button>\n",
              "\n",
              "<style>\n",
              "  .colab-df-quickchart {\n",
              "      --bg-color: #E8F0FE;\n",
              "      --fill-color: #1967D2;\n",
              "      --hover-bg-color: #E2EBFA;\n",
              "      --hover-fill-color: #174EA6;\n",
              "      --disabled-fill-color: #AAA;\n",
              "      --disabled-bg-color: #DDD;\n",
              "  }\n",
              "\n",
              "  [theme=dark] .colab-df-quickchart {\n",
              "      --bg-color: #3B4455;\n",
              "      --fill-color: #D2E3FC;\n",
              "      --hover-bg-color: #434B5C;\n",
              "      --hover-fill-color: #FFFFFF;\n",
              "      --disabled-bg-color: #3B4455;\n",
              "      --disabled-fill-color: #666;\n",
              "  }\n",
              "\n",
              "  .colab-df-quickchart {\n",
              "    background-color: var(--bg-color);\n",
              "    border: none;\n",
              "    border-radius: 50%;\n",
              "    cursor: pointer;\n",
              "    display: none;\n",
              "    fill: var(--fill-color);\n",
              "    height: 32px;\n",
              "    padding: 0;\n",
              "    width: 32px;\n",
              "  }\n",
              "\n",
              "  .colab-df-quickchart:hover {\n",
              "    background-color: var(--hover-bg-color);\n",
              "    box-shadow: 0 1px 2px rgba(60, 64, 67, 0.3), 0 1px 3px 1px rgba(60, 64, 67, 0.15);\n",
              "    fill: var(--button-hover-fill-color);\n",
              "  }\n",
              "\n",
              "  .colab-df-quickchart-complete:disabled,\n",
              "  .colab-df-quickchart-complete:disabled:hover {\n",
              "    background-color: var(--disabled-bg-color);\n",
              "    fill: var(--disabled-fill-color);\n",
              "    box-shadow: none;\n",
              "  }\n",
              "\n",
              "  .colab-df-spinner {\n",
              "    border: 2px solid var(--fill-color);\n",
              "    border-color: transparent;\n",
              "    border-bottom-color: var(--fill-color);\n",
              "    animation:\n",
              "      spin 1s steps(1) infinite;\n",
              "  }\n",
              "\n",
              "  @keyframes spin {\n",
              "    0% {\n",
              "      border-color: transparent;\n",
              "      border-bottom-color: var(--fill-color);\n",
              "      border-left-color: var(--fill-color);\n",
              "    }\n",
              "    20% {\n",
              "      border-color: transparent;\n",
              "      border-left-color: var(--fill-color);\n",
              "      border-top-color: var(--fill-color);\n",
              "    }\n",
              "    30% {\n",
              "      border-color: transparent;\n",
              "      border-left-color: var(--fill-color);\n",
              "      border-top-color: var(--fill-color);\n",
              "      border-right-color: var(--fill-color);\n",
              "    }\n",
              "    40% {\n",
              "      border-color: transparent;\n",
              "      border-right-color: var(--fill-color);\n",
              "      border-top-color: var(--fill-color);\n",
              "    }\n",
              "    60% {\n",
              "      border-color: transparent;\n",
              "      border-right-color: var(--fill-color);\n",
              "    }\n",
              "    80% {\n",
              "      border-color: transparent;\n",
              "      border-right-color: var(--fill-color);\n",
              "      border-bottom-color: var(--fill-color);\n",
              "    }\n",
              "    90% {\n",
              "      border-color: transparent;\n",
              "      border-bottom-color: var(--fill-color);\n",
              "    }\n",
              "  }\n",
              "</style>\n",
              "\n",
              "  <script>\n",
              "    async function quickchart(key) {\n",
              "      const quickchartButtonEl =\n",
              "        document.querySelector('#' + key + ' button');\n",
              "      quickchartButtonEl.disabled = true;  // To prevent multiple clicks.\n",
              "      quickchartButtonEl.classList.add('colab-df-spinner');\n",
              "      try {\n",
              "        const charts = await google.colab.kernel.invokeFunction(\n",
              "            'suggestCharts', [key], {});\n",
              "      } catch (error) {\n",
              "        console.error('Error during call to suggestCharts:', error);\n",
              "      }\n",
              "      quickchartButtonEl.classList.remove('colab-df-spinner');\n",
              "      quickchartButtonEl.classList.add('colab-df-quickchart-complete');\n",
              "    }\n",
              "    (() => {\n",
              "      let quickchartButtonEl =\n",
              "        document.querySelector('#df-62003b4b-aaf7-4295-81c9-0a0272a25554 button');\n",
              "      quickchartButtonEl.style.display =\n",
              "        google.colab.kernel.accessAllowed ? 'block' : 'none';\n",
              "    })();\n",
              "  </script>\n",
              "</div>\n",
              "\n",
              "  <div id=\"id_883e0b8c-2f16-4c87-978b-2fe5d20ae136\">\n",
              "    <style>\n",
              "      .colab-df-generate {\n",
              "        background-color: #E8F0FE;\n",
              "        border: none;\n",
              "        border-radius: 50%;\n",
              "        cursor: pointer;\n",
              "        display: none;\n",
              "        fill: #1967D2;\n",
              "        height: 32px;\n",
              "        padding: 0 0 0 0;\n",
              "        width: 32px;\n",
              "      }\n",
              "\n",
              "      .colab-df-generate:hover {\n",
              "        background-color: #E2EBFA;\n",
              "        box-shadow: 0px 1px 2px rgba(60, 64, 67, 0.3), 0px 1px 3px 1px rgba(60, 64, 67, 0.15);\n",
              "        fill: #174EA6;\n",
              "      }\n",
              "\n",
              "      [theme=dark] .colab-df-generate {\n",
              "        background-color: #3B4455;\n",
              "        fill: #D2E3FC;\n",
              "      }\n",
              "\n",
              "      [theme=dark] .colab-df-generate:hover {\n",
              "        background-color: #434B5C;\n",
              "        box-shadow: 0px 1px 3px 1px rgba(0, 0, 0, 0.15);\n",
              "        filter: drop-shadow(0px 1px 2px rgba(0, 0, 0, 0.3));\n",
              "        fill: #FFFFFF;\n",
              "      }\n",
              "    </style>\n",
              "    <button class=\"colab-df-generate\" onclick=\"generateWithVariable('query_df')\"\n",
              "            title=\"Generate code using this dataframe.\"\n",
              "            style=\"display:none;\">\n",
              "\n",
              "  <svg xmlns=\"http://www.w3.org/2000/svg\" height=\"24px\"viewBox=\"0 0 24 24\"\n",
              "       width=\"24px\">\n",
              "    <path d=\"M7,19H8.4L18.45,9,17,7.55,7,17.6ZM5,21V16.75L18.45,3.32a2,2,0,0,1,2.83,0l1.4,1.43a1.91,1.91,0,0,1,.58,1.4,1.91,1.91,0,0,1-.58,1.4L9.25,21ZM18.45,9,17,7.55Zm-12,3A5.31,5.31,0,0,0,4.9,8.1,5.31,5.31,0,0,0,1,6.5,5.31,5.31,0,0,0,4.9,4.9,5.31,5.31,0,0,0,6.5,1,5.31,5.31,0,0,0,8.1,4.9,5.31,5.31,0,0,0,12,6.5,5.46,5.46,0,0,0,6.5,12Z\"/>\n",
              "  </svg>\n",
              "    </button>\n",
              "    <script>\n",
              "      (() => {\n",
              "      const buttonEl =\n",
              "        document.querySelector('#id_883e0b8c-2f16-4c87-978b-2fe5d20ae136 button.colab-df-generate');\n",
              "      buttonEl.style.display =\n",
              "        google.colab.kernel.accessAllowed ? 'block' : 'none';\n",
              "\n",
              "      buttonEl.onclick = () => {\n",
              "        google.colab.notebook.generateWithVariable('query_df');\n",
              "      }\n",
              "      })();\n",
              "    </script>\n",
              "  </div>\n",
              "\n",
              "    </div>\n",
              "  </div>\n"
            ],
            "application/vnd.google.colaboratory.intrinsic+json": {
              "type": "dataframe",
              "variable_name": "query_df",
              "summary": "{\n  \"name\": \"query_df\",\n  \"rows\": 2477,\n  \"fields\": [\n    {\n      \"column\": \"title\",\n      \"properties\": {\n        \"dtype\": \"string\",\n        \"num_unique_values\": 2475,\n        \"samples\": [\n          \"The Discovery\",\n          \"Typewriter\",\n          \"Shimmer Lake\"\n        ],\n        \"semantic_type\": \"\",\n        \"description\": \"\"\n      }\n    },\n    {\n      \"column\": \"release_year\",\n      \"properties\": {\n        \"dtype\": \"number\",\n        \"std\": 7,\n        \"min\": 1954,\n        \"max\": 2021,\n        \"num_unique_values\": 59,\n        \"samples\": [\n          1975,\n          1979,\n          1996\n        ],\n        \"semantic_type\": \"\",\n        \"description\": \"\"\n      }\n    },\n    {\n      \"column\": \"listed_in\",\n      \"properties\": {\n        \"dtype\": \"category\",\n        \"num_unique_values\": 300,\n        \"samples\": [\n          \"Romantic TV Shows, Teen TV Shows\",\n          \"Children & Family Movies, Comedies, Sports Movies\",\n          \"International Movies, Sci-Fi & Fantasy\"\n        ],\n        \"semantic_type\": \"\",\n        \"description\": \"\"\n      }\n    },\n    {\n      \"column\": \"description_x\",\n      \"properties\": {\n        \"dtype\": \"string\",\n        \"num_unique_values\": 2477,\n        \"samples\": [\n          \"American hypochondriac work baggage handler force confront fear British teenager terminal illness enlist help carry eccentric bucket list\",\n          \"young 15 year old girl Lamia live southern Lebanese village border Israel She give marriage cousin side border As Lamia cross barbed wire also pass childhood adulthood brutal country event follow\",\n          \"It summer everyone favorite Junior Rescuers Flounders back Tower 2 With International Junior Rescue Championships head Southern California eye entire planet Malibu Beach But Team USA fall victim bout food poisoning Tyler Dylan Eric Lizzie Gina represent country world extreme lifeguard challenge\"\n        ],\n        \"semantic_type\": \"\",\n        \"description\": \"\"\n      }\n    },\n    {\n      \"column\": \"imdb_score\",\n      \"properties\": {\n        \"dtype\": \"number\",\n        \"std\": 1.1430713513006847,\n        \"min\": 1.5,\n        \"max\": 9.3,\n        \"num_unique_values\": 74,\n        \"samples\": [\n          7.5,\n          2.1,\n          6.0\n        ],\n        \"semantic_type\": \"\",\n        \"description\": \"\"\n      }\n    }\n  ]\n}"
            }
          },
          "metadata": {},
          "execution_count": 63
        }
      ]
    },
    {
      "cell_type": "code",
      "source": [
        "features = ['title', 'release_year', 'genre', 'description']"
      ],
      "metadata": {
        "id": "aHkhdXkw8vQC"
      },
      "execution_count": 64,
      "outputs": []
    },
    {
      "cell_type": "code",
      "source": [
        "def separate_genre_df(data):\n",
        "  movie_genre_map = {\n",
        "      'title': [],\n",
        "      'release_year': [],\n",
        "      'genre': [],\n",
        "      'description': [],\n",
        "      'imdb_score': []\n",
        "  }\n",
        "\n",
        "  for _, row in data.iterrows():\n",
        "    genres = row['listed_in'].split(',')\n",
        "\n",
        "    for genre in genres:\n",
        "      movie_genre_map['title'].append(row['title'])\n",
        "      movie_genre_map['release_year'].append(row['release_year'])\n",
        "      movie_genre_map['genre'].append(genre.strip())\n",
        "      movie_genre_map['description'].append(row['description_x'].strip())\n",
        "      movie_genre_map['imdb_score'].append(row['imdb_score'])\n",
        "\n",
        "\n",
        "  movie_genre_df = pd.DataFrame(movie_genre_map)\n",
        "\n",
        "  movie_genre_df = movie_genre_df[movie_genre_df['genre'] != 'International Movies']\n",
        "  movie_genre_df = movie_genre_df[movie_genre_df['genre'] != 'International TV Shows']\n",
        "\n",
        "  movie_genre_df\n",
        "\n",
        "  return movie_genre_df\n",
        "\n",
        "data_cleaned_df = separate_genre_df(query_df)\n",
        "\n",
        "feature_df = data_cleaned_df[features]\n",
        "target_df = data_cleaned_df['imdb_score']\n",
        "\n",
        "data_cleaned_df['genre'].nunique()"
      ],
      "metadata": {
        "colab": {
          "base_uri": "https://localhost:8080/"
        },
        "id": "fbBwIUh79E_h",
        "outputId": "ae9e1205-ef33-4f8f-ff49-2b7b0567d4d5"
      },
      "execution_count": 65,
      "outputs": [
        {
          "output_type": "execute_result",
          "data": {
            "text/plain": [
              "39"
            ]
          },
          "metadata": {},
          "execution_count": 65
        }
      ]
    },
    {
      "cell_type": "code",
      "source": [
        "from sklearn.model_selection import train_test_split"
      ],
      "metadata": {
        "id": "m1MexHQr8vSR"
      },
      "execution_count": 66,
      "outputs": []
    },
    {
      "cell_type": "code",
      "source": [
        "X_train, X_test, y_train, y_test = train_test_split(feature_df, target_df, test_size=0.3, random_state=42)"
      ],
      "metadata": {
        "id": "zbw5YM-_8vUX"
      },
      "execution_count": 67,
      "outputs": []
    },
    {
      "cell_type": "code",
      "source": [
        "from sklearn.pipeline import Pipeline\n",
        "from sklearn.model_selection import KFold\n",
        "import numpy as np\n",
        "from sklearn.feature_extraction.text import CountVectorizer, TfidfVectorizer\n",
        "from sklearn.naive_bayes import MultinomialNB\n",
        "from sklearn.linear_model import LinearRegression\n",
        "from sklearn.metrics import mean_squared_error"
      ],
      "metadata": {
        "id": "kKA6OmEq-I1l"
      },
      "execution_count": 68,
      "outputs": []
    },
    {
      "cell_type": "code",
      "source": [
        "n_splits = 5\n",
        "\n",
        "cv = KFold(n_splits=n_splits)\n",
        "cv_scores = np.zeros(n_splits)\n",
        "errors = np.zeros(n_splits)\n",
        "\n",
        "for index, (train, val) in enumerate(cv.split(X_train, y_train)):\n",
        "  X_train_train = X_train.iloc[train]\n",
        "  y_train_train = y_train.iloc[train]\n",
        "\n",
        "  X_train_val = X_train.iloc[val]\n",
        "  y_train_val = y_train.iloc[val]\n",
        "\n",
        "  # Set up a pipeline for feature extraction\n",
        "  genre_probabilities_pipeline = Pipeline([('vectorizer', CountVectorizer(stop_words='english')), ('topic_model', MultinomialNB())])\n",
        "  genre_probabilities_pipeline = genre_probabilities_pipeline.fit(X=X_train_train['description'], y=X_train_train['genre'])\n",
        "\n",
        "  # Set up a pipeline for regression\n",
        "  X_train_tmp = X_train_train.copy()\n",
        "\n",
        "  X_train_tmp['imdb_score'] = y_train_train\n",
        "  X_train_tmp = X_train_tmp.drop_duplicates(subset=['title', 'release_year'])\n",
        "\n",
        "  X_train_train = X_train_tmp[features]\n",
        "  y_train_train = X_train_tmp['imdb_score']\n",
        "\n",
        "  compressed_feature = genre_probabilities_pipeline.predict_proba(X=X_train_train['description'])\n",
        "\n",
        "  genre_weights_score_pipeline = Pipeline([('regressor', LinearRegression())])\n",
        "\n",
        "  genre_weights_score_pipeline = genre_weights_score_pipeline.fit(X=compressed_feature, y=y_train_train)\n",
        "\n",
        "  # Validate the final model\n",
        "\n",
        "  X_val_tmp = X_train_val.copy()\n",
        "\n",
        "  X_val_tmp['imdb_score'] = y_train_val\n",
        "  X_val_tmp = X_val_tmp.drop_duplicates(subset=['title', 'release_year'])\n",
        "\n",
        "  X_train_val = X_val_tmp[features]\n",
        "  y_train_val = X_val_tmp['imdb_score']\n",
        "\n",
        "  compressed_feature = genre_probabilities_pipeline.predict_proba(X=X_train_val['description'])\n",
        "  score = genre_weights_score_pipeline.score(X=compressed_feature, y=y_train_val)\n",
        "\n",
        "  cv_scores[index] = score\n",
        "  errors[index] = mean_squared_error(y_train_val, genre_weights_score_pipeline.predict(compressed_feature))"
      ],
      "metadata": {
        "id": "t-1ZTGB28vWj"
      },
      "execution_count": 69,
      "outputs": []
    },
    {
      "cell_type": "code",
      "source": [
        "print(cv_scores)\n",
        "cv_scores.mean()"
      ],
      "metadata": {
        "colab": {
          "base_uri": "https://localhost:8080/"
        },
        "id": "z4mkUHODCbLC",
        "outputId": "13816be2-1fa0-4e15-81d1-ada3cae46980"
      },
      "execution_count": 70,
      "outputs": [
        {
          "output_type": "stream",
          "name": "stdout",
          "text": [
            "[0.0938909  0.09746741 0.10848268 0.05511257 0.07077847]\n"
          ]
        },
        {
          "output_type": "execute_result",
          "data": {
            "text/plain": [
              "np.float64(0.08514640591255193)"
            ]
          },
          "metadata": {},
          "execution_count": 70
        }
      ]
    },
    {
      "cell_type": "code",
      "source": [
        "print(errors)\n",
        "errors.mean()"
      ],
      "metadata": {
        "colab": {
          "base_uri": "https://localhost:8080/"
        },
        "id": "CnJu1bIvCmjn",
        "outputId": "4596b639-8276-45e1-fbfc-5f01e4a53af5"
      },
      "execution_count": 71,
      "outputs": [
        {
          "output_type": "stream",
          "name": "stdout",
          "text": [
            "[1.13977267 1.2235283  1.26606114 1.11798943 1.20711184]\n"
          ]
        },
        {
          "output_type": "execute_result",
          "data": {
            "text/plain": [
              "np.float64(1.1908926749149626)"
            ]
          },
          "metadata": {},
          "execution_count": 71
        }
      ]
    },
    {
      "cell_type": "code",
      "source": [
        "n_splits = 5\n",
        "\n",
        "cv = KFold(n_splits=n_splits)\n",
        "cv_scores = np.zeros(n_splits)\n",
        "\n",
        "for index, (train, val) in enumerate(cv.split(X_train, y_train)):\n",
        "  X_train_train = X_train.iloc[train]\n",
        "  y_train_train = y_train.iloc[train]\n",
        "\n",
        "  X_train_val = X_train.iloc[val]\n",
        "  y_train_val = y_train.iloc[val]\n",
        "\n",
        "  # Set up a pipeline for feature extraction\n",
        "  genre_probabilities_pipeline = Pipeline([('vectorizer', TfidfVectorizer(stop_words='english')), ('topic_model', MultinomialNB())])\n",
        "  genre_probabilities_pipeline = genre_probabilities_pipeline.fit(X=X_train_train['description'], y=X_train_train['genre'])\n",
        "\n",
        "  # Set up a pipeline for regression\n",
        "  X_train_tmp = X_train_train.copy()\n",
        "\n",
        "  X_train_tmp['imdb_score'] = y_train_train\n",
        "  X_train_tmp = X_train_tmp.drop_duplicates(subset=['title', 'release_year'])\n",
        "\n",
        "  X_train_train = X_train_tmp[features]\n",
        "  y_train_train = X_train_tmp['imdb_score']\n",
        "\n",
        "  compressed_feature = genre_probabilities_pipeline.predict_proba(X=X_train_train['description'])\n",
        "\n",
        "  genre_weights_score_pipeline = Pipeline([('regressor', LinearRegression())])\n",
        "\n",
        "  genre_weights_score_pipeline = genre_weights_score_pipeline.fit(X=compressed_feature, y=y_train_train)\n",
        "\n",
        "  # Validate the final model\n",
        "\n",
        "  X_val_tmp = X_train_val.copy()\n",
        "\n",
        "  X_val_tmp['imdb_score'] = y_train_val\n",
        "  X_val_tmp = X_val_tmp.drop_duplicates(subset=['title', 'release_year'])\n",
        "\n",
        "  X_train_val = X_val_tmp[features]\n",
        "  y_train_val = X_val_tmp['imdb_score']\n",
        "\n",
        "  compressed_feature = genre_probabilities_pipeline.predict_proba(X=X_train_val['description'])\n",
        "  score = genre_weights_score_pipeline.score(X=compressed_feature, y=y_train_val)\n",
        "\n",
        "  cv_scores[index] = score\n",
        "  errors[index] = mean_squared_error(y_train_val, genre_weights_score_pipeline.predict(compressed_feature))"
      ],
      "metadata": {
        "id": "suCEmyDg8vcJ"
      },
      "execution_count": 72,
      "outputs": []
    },
    {
      "cell_type": "code",
      "source": [
        "print(cv_scores)\n",
        "cv_scores.mean()"
      ],
      "metadata": {
        "colab": {
          "base_uri": "https://localhost:8080/"
        },
        "id": "-UnQ6ZQrCYLo",
        "outputId": "9bd83dce-a79d-4a5b-f672-646b5c643c6d"
      },
      "execution_count": 73,
      "outputs": [
        {
          "output_type": "stream",
          "name": "stdout",
          "text": [
            "[0.12189837 0.09665193 0.1310359  0.0473204  0.08724317]\n"
          ]
        },
        {
          "output_type": "execute_result",
          "data": {
            "text/plain": [
              "np.float64(0.09682995369621865)"
            ]
          },
          "metadata": {},
          "execution_count": 73
        }
      ]
    },
    {
      "cell_type": "code",
      "source": [
        "print(errors)\n",
        "errors.mean()"
      ],
      "metadata": {
        "colab": {
          "base_uri": "https://localhost:8080/"
        },
        "id": "1BLUL__XCZR4",
        "outputId": "598098a8-196e-4454-bc27-b08a3e2e2e16"
      },
      "execution_count": 74,
      "outputs": [
        {
          "output_type": "stream",
          "name": "stdout",
          "text": [
            "[1.10454276 1.22463382 1.23403286 1.12720911 1.18572325]\n"
          ]
        },
        {
          "output_type": "execute_result",
          "data": {
            "text/plain": [
              "np.float64(1.1752283607190426)"
            ]
          },
          "metadata": {},
          "execution_count": 74
        }
      ]
    },
    {
      "cell_type": "code",
      "source": [
        "from sklearn.decomposition import LatentDirichletAllocation"
      ],
      "metadata": {
        "id": "1lh71qqYEdZf"
      },
      "execution_count": 75,
      "outputs": []
    },
    {
      "cell_type": "code",
      "source": [
        "n_splits = 5\n",
        "\n",
        "cv = KFold(n_splits=n_splits)\n",
        "cv_scores = np.zeros(n_splits)\n",
        "\n",
        "for index, (train, val) in enumerate(cv.split(X_train, y_train)):\n",
        "  X_train_train = X_train.iloc[train]\n",
        "  y_train_train = y_train.iloc[train]\n",
        "\n",
        "  X_train_val = X_train.iloc[val]\n",
        "  y_train_val = y_train.iloc[val]\n",
        "\n",
        "  # Set up a pipeline for regression\n",
        "  X_train_tmp = X_train_train.copy()\n",
        "\n",
        "  X_train_tmp['imdb_score'] = y_train_train\n",
        "  X_train_tmp = X_train_tmp.drop_duplicates(subset=['title', 'release_year'])\n",
        "\n",
        "  X_train_train = X_train_tmp[features]\n",
        "  y_train_train = X_train_tmp['imdb_score']\n",
        "\n",
        "  genre_weights_score_pipeline = Pipeline([\n",
        "      ('vectorizer', TfidfVectorizer(stop_words='english')),\n",
        "      ('topic_model', LatentDirichletAllocation(n_components=50, random_state=42)),\n",
        "      ('regressor', LinearRegression())]\n",
        "  )\n",
        "\n",
        "  genre_weights_score_pipeline = genre_weights_score_pipeline.fit(X=X_train_train['description'], y=y_train_train)\n",
        "\n",
        "  # Validate the final model\n",
        "\n",
        "  X_val_tmp = X_train_val.copy()\n",
        "\n",
        "  X_val_tmp['imdb_score'] = y_train_val\n",
        "  X_val_tmp = X_val_tmp.drop_duplicates(subset=['title', 'release_year'])\n",
        "\n",
        "  X_train_val = X_val_tmp[features]\n",
        "  y_train_val = X_val_tmp['imdb_score']\n",
        "\n",
        "  score = genre_weights_score_pipeline.score(X=X_train_val['description'], y=y_train_val)\n",
        "\n",
        "  cv_scores[index] = score\n",
        "  errors[index] = mean_squared_error(y_train_val, genre_weights_score_pipeline.predict(X_train_val['description']))"
      ],
      "metadata": {
        "id": "RaMgAPciCpyp"
      },
      "execution_count": 76,
      "outputs": []
    },
    {
      "cell_type": "code",
      "source": [
        "print(cv_scores)\n",
        "cv_scores.mean()"
      ],
      "metadata": {
        "colab": {
          "base_uri": "https://localhost:8080/"
        },
        "id": "vfyHTssdC5jf",
        "outputId": "7dfe61ef-e62e-4326-c502-44f1572c591f"
      },
      "execution_count": 77,
      "outputs": [
        {
          "output_type": "stream",
          "name": "stdout",
          "text": [
            "[0.01048254 0.01571268 0.03525614 0.01438399 0.00972956]\n"
          ]
        },
        {
          "output_type": "execute_result",
          "data": {
            "text/plain": [
              "np.float64(0.017112982278118704)"
            ]
          },
          "metadata": {},
          "execution_count": 77
        }
      ]
    },
    {
      "cell_type": "code",
      "source": [
        "print(errors)\n",
        "errors.mean()"
      ],
      "metadata": {
        "colab": {
          "base_uri": "https://localhost:8080/"
        },
        "id": "MEjL2WkdC5lv",
        "outputId": "76ad0b1d-7d71-4792-ea59-7e67979a17f0"
      },
      "execution_count": 78,
      "outputs": [
        {
          "output_type": "stream",
          "name": "stdout",
          "text": [
            "[1.24469002 1.33436001 1.37005157 1.16617943 1.28641786]\n"
          ]
        },
        {
          "output_type": "execute_result",
          "data": {
            "text/plain": [
              "np.float64(1.280339777263522)"
            ]
          },
          "metadata": {},
          "execution_count": 78
        }
      ]
    },
    {
      "cell_type": "code",
      "source": [
        "n_splits = 5\n",
        "\n",
        "cv = KFold(n_splits=n_splits)\n",
        "cv_scores = np.zeros(n_splits)\n",
        "\n",
        "for index, (train, val) in enumerate(cv.split(X_train, y_train)):\n",
        "  X_train_train = X_train.iloc[train]\n",
        "  y_train_train = y_train.iloc[train]\n",
        "\n",
        "  X_train_val = X_train.iloc[val]\n",
        "  y_train_val = y_train.iloc[val]\n",
        "\n",
        "  # Set up a pipeline for regression\n",
        "  X_train_tmp = X_train_train.copy()\n",
        "\n",
        "  X_train_tmp['imdb_score'] = y_train_train\n",
        "  X_train_tmp = X_train_tmp.drop_duplicates(subset=['title', 'release_year'])\n",
        "\n",
        "  X_train_train = X_train_tmp[features]\n",
        "  y_train_train = X_train_tmp['imdb_score']\n",
        "\n",
        "  genre_weights_score_pipeline = Pipeline([\n",
        "      ('vectorizer', TfidfVectorizer(stop_words='english')),\n",
        "      ('regressor', LinearRegression())]\n",
        "  )\n",
        "\n",
        "  genre_weights_score_pipeline = genre_weights_score_pipeline.fit(X=X_train_train['description'], y=y_train_train)\n",
        "\n",
        "  # Validate the final model\n",
        "\n",
        "  X_val_tmp = X_train_val.copy()\n",
        "\n",
        "  X_val_tmp['imdb_score'] = y_train_val\n",
        "  X_val_tmp = X_val_tmp.drop_duplicates(subset=['title', 'release_year'])\n",
        "\n",
        "  X_train_val = X_val_tmp[features]\n",
        "  y_train_val = X_val_tmp['imdb_score']\n",
        "\n",
        "  score = genre_weights_score_pipeline.score(X=X_train_val['description'], y=y_train_val)\n",
        "\n",
        "  cv_scores[index] = score\n",
        "  errors[index] = mean_squared_error(y_train_val, genre_weights_score_pipeline.predict(X_train_val['description']))"
      ],
      "metadata": {
        "id": "zB1nI6NjJVJx"
      },
      "execution_count": 86,
      "outputs": []
    },
    {
      "cell_type": "code",
      "source": [
        "print(cv_scores)\n",
        "cv_scores.mean()"
      ],
      "metadata": {
        "id": "M7LqUjZJJbRJ",
        "outputId": "412bb368-23ba-476f-95de-5bc7260b922b",
        "colab": {
          "base_uri": "https://localhost:8080/"
        }
      },
      "execution_count": 87,
      "outputs": [
        {
          "output_type": "stream",
          "name": "stdout",
          "text": [
            "[0.30991723 0.43124064 0.50889727 0.26164168 0.36125954]\n"
          ]
        },
        {
          "output_type": "execute_result",
          "data": {
            "text/plain": [
              "np.float64(0.37459127053676167)"
            ]
          },
          "metadata": {},
          "execution_count": 87
        }
      ]
    },
    {
      "cell_type": "code",
      "source": [
        "import seaborn as sns\n",
        "import matplotlib.pyplot as plt\n",
        "\n",
        "coefficients = genre_weights_score_pipeline['regressor'].coef_\n",
        "words = genre_weights_score_pipeline['vectorizer'].get_feature_names_out()\n",
        "\n",
        "results_df = {\n",
        "    'coef': coefficients,\n",
        "    'word': words\n",
        "}\n",
        "results_df = pd.DataFrame(results_df)\n",
        "significant_words = results_df.sort_values(by='coef', ascending=False).iloc[:10]\n",
        "\n",
        "plt.figure(figsize=(20,12))  # set plot size (denoted in inches) Source: https://stackoverflow.com/questions/59447378/sklearn-plot-tree-plot-is-too-small\n",
        "sns.barplot(significant_words, x='word', y='coef')"
      ],
      "metadata": {
        "id": "Wft_9lShKNDZ",
        "outputId": "2c310392-4bc2-49c8-c1a8-31830631d1d1",
        "colab": {
          "base_uri": "https://localhost:8080/",
          "height": 941
        }
      },
      "execution_count": 89,
      "outputs": [
        {
          "output_type": "execute_result",
          "data": {
            "text/plain": [
              "<Axes: xlabel='word', ylabel='coef'>"
            ]
          },
          "metadata": {},
          "execution_count": 89
        },
        {
          "output_type": "display_data",
          "data": {
            "text/plain": [
              "<Figure size 2000x1200 with 1 Axes>"
            ],
            "image/png": "[encoded data removed]"
          },
          "metadata": {}
        }
      ]
    },
    {
      "cell_type": "code",
      "source": [
        "print(errors)\n",
        "errors.mean()"
      ],
      "metadata": {
        "id": "PBl2i3JEJeKG",
        "outputId": "5cdea32b-65ef-4b2b-f6d0-15d303c2e54f",
        "colab": {
          "base_uri": "https://localhost:8080/"
        }
      },
      "execution_count": 82,
      "outputs": [
        {
          "output_type": "stream",
          "name": "stdout",
          "text": [
            "[0.86803839 0.77104493 0.69742457 0.87362448 0.82976034]\n"
          ]
        },
        {
          "output_type": "execute_result",
          "data": {
            "text/plain": [
              "np.float64(0.807978542418639)"
            ]
          },
          "metadata": {},
          "execution_count": 82
        }
      ]
    },
    {
      "cell_type": "code",
      "source": [
        "n_splits = 5\n",
        "\n",
        "cv = KFold(n_splits=n_splits)\n",
        "cv_scores = np.zeros(n_splits)\n",
        "\n",
        "for index, (train, val) in enumerate(cv.split(X_train, y_train)):\n",
        "  X_train_train = X_train.iloc[train]\n",
        "  y_train_train = y_train.iloc[train]\n",
        "\n",
        "  X_train_val = X_train.iloc[val]\n",
        "  y_train_val = y_train.iloc[val]\n",
        "\n",
        "  # Set up a pipeline for regression\n",
        "  X_train_tmp = X_train_train.copy()\n",
        "\n",
        "  X_train_tmp['imdb_score'] = y_train_train\n",
        "  X_train_tmp = X_train_tmp.drop_duplicates(subset=['title', 'release_year'])\n",
        "\n",
        "  X_train_train = X_train_tmp[features]\n",
        "  y_train_train = X_train_tmp['imdb_score']\n",
        "\n",
        "  genre_weights_score_pipeline = Pipeline([\n",
        "      ('vectorizer', CountVectorizer(stop_words='english')),\n",
        "      ('regressor', LinearRegression())]\n",
        "  )\n",
        "\n",
        "  genre_weights_score_pipeline = genre_weights_score_pipeline.fit(X=X_train_train['description'], y=y_train_train)\n",
        "\n",
        "  # Validate the final model\n",
        "\n",
        "  X_val_tmp = X_train_val.copy()\n",
        "\n",
        "  X_val_tmp['imdb_score'] = y_train_val\n",
        "  X_val_tmp = X_val_tmp.drop_duplicates(subset=['title', 'release_year'])\n",
        "\n",
        "  X_train_val = X_val_tmp[features]\n",
        "  y_train_val = X_val_tmp['imdb_score']\n",
        "\n",
        "  score = genre_weights_score_pipeline.score(X=X_train_val['description'], y=y_train_val)\n",
        "\n",
        "  cv_scores[index] = score\n",
        "  errors[index] = mean_squared_error(y_train_val, genre_weights_score_pipeline.predict(X_train_val['description']))"
      ],
      "metadata": {
        "id": "0rAzJ_8gJeUi"
      },
      "execution_count": 83,
      "outputs": []
    },
    {
      "cell_type": "code",
      "source": [
        "print(cv_scores)\n",
        "cv_scores.mean()"
      ],
      "metadata": {
        "id": "glbaoTz0JvF2",
        "outputId": "51b2b4de-4d3b-435f-b3ff-0844ff580d19",
        "colab": {
          "base_uri": "https://localhost:8080/"
        }
      },
      "execution_count": 84,
      "outputs": [
        {
          "output_type": "stream",
          "name": "stdout",
          "text": [
            "[0.11087257 0.33635445 0.37872405 0.03399504 0.19464706]\n"
          ]
        },
        {
          "output_type": "execute_result",
          "data": {
            "text/plain": [
              "np.float64(0.21091863450732226)"
            ]
          },
          "metadata": {},
          "execution_count": 84
        }
      ]
    },
    {
      "cell_type": "code",
      "source": [
        "print(errors)\n",
        "errors.mean()"
      ],
      "metadata": {
        "id": "WCYJP2xzJxRq",
        "outputId": "c09d658a-d17b-4201-e6e0-bca593f2a5b6",
        "colab": {
          "base_uri": "https://localhost:8080/"
        }
      },
      "execution_count": 85,
      "outputs": [
        {
          "output_type": "stream",
          "name": "stdout",
          "text": [
            "[1.11841184 0.89967844 0.8822861  1.14297566 1.04619946]\n"
          ]
        },
        {
          "output_type": "execute_result",
          "data": {
            "text/plain": [
              "np.float64(1.0179102988248645)"
            ]
          },
          "metadata": {},
          "execution_count": 85
        }
      ]
    },
    {
      "cell_type": "code",
      "source": [],
      "metadata": {
        "id": "wCQ50usvJ09Z"
      },
      "execution_count": 85,
      "outputs": []
    }
  ]
}