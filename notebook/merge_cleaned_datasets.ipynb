{
  "cells": [
    {
      "cell_type": "markdown",
      "source": [
        "# Dataset"
      ],
      "metadata": {
        "id": "1QWzwpT5Gll3"
      },
      "id": "1QWzwpT5Gll3"
    },
    {
      "cell_type": "code",
      "execution_count": 78,
      "id": "538b0ba1-21cd-4a31-bd7a-50c7c36c46af",
      "metadata": {
        "id": "538b0ba1-21cd-4a31-bd7a-50c7c36c46af"
      },
      "outputs": [],
      "source": [
        "import pandas as pd"
      ]
    },
    {
      "cell_type": "code",
      "execution_count": 79,
      "id": "ebd093ba-54a6-4aca-bd26-b1eff0bee7e5",
      "metadata": {
        "id": "ebd093ba-54a6-4aca-bd26-b1eff0bee7e5"
      },
      "outputs": [],
      "source": [
        "# Load the cleaned datasets\n",
        "netflix_df = pd.read_csv('https://raw.githubusercontent.com/anthonybrown0528/csc-442-course-project/refs/heads/main/dataset/clean/netflix_film_data.csv')\n",
        "imdb_df = pd.read_csv('https://raw.githubusercontent.com/anthonybrown0528/csc-442-course-project/refs/heads/main/dataset/clean/netflix_imdb_scores.csv')"
      ]
    },
    {
      "cell_type": "markdown",
      "source": [
        "## 1. Data Merging"
      ],
      "metadata": {
        "id": "Om1P-61oG9-3"
      },
      "id": "Om1P-61oG9-3"
    },
    {
      "cell_type": "markdown",
      "source": [
        "### 1.1 Identify Common Columns"
      ],
      "metadata": {
        "id": "QeW9yg3OHJQW"
      },
      "id": "QeW9yg3OHJQW"
    },
    {
      "cell_type": "code",
      "execution_count": 80,
      "id": "29ae4e4e-203f-4c58-9c62-6c182a34fca9",
      "metadata": {
        "colab": {
          "base_uri": "https://localhost:8080/"
        },
        "id": "29ae4e4e-203f-4c58-9c62-6c182a34fca9",
        "outputId": "b12f75a8-7989-4be0-8562-a9f8c9b01fa0"
      },
      "outputs": [
        {
          "output_type": "stream",
          "name": "stdout",
          "text": [
            "<class 'pandas.core.frame.DataFrame'>\n",
            "RangeIndex: 7293 entries, 0 to 7292\n",
            "Data columns (total 16 columns):\n",
            " #   Column         Non-Null Count  Dtype \n",
            "---  ------         --------------  ----- \n",
            " 0   Unnamed: 0     7293 non-null   int64 \n",
            " 1   show_id        7293 non-null   object\n",
            " 2   type           7293 non-null   object\n",
            " 3   title          7293 non-null   object\n",
            " 4   director       7293 non-null   object\n",
            " 5   cast           7293 non-null   object\n",
            " 6   country        7293 non-null   object\n",
            " 7   date_added     7293 non-null   object\n",
            " 8   release_year   7293 non-null   int64 \n",
            " 9   rating         7290 non-null   object\n",
            " 10  duration       7293 non-null   object\n",
            " 11  listed_in      7293 non-null   object\n",
            " 12  description    7293 non-null   object\n",
            " 13  num_listed_in  7293 non-null   int64 \n",
            " 14  first_cast     7293 non-null   object\n",
            " 15  num_genre      7293 non-null   int64 \n",
            "dtypes: int64(4), object(12)\n",
            "memory usage: 911.8+ KB\n"
          ]
        }
      ],
      "source": [
        "netflix_df.info()"
      ]
    },
    {
      "cell_type": "code",
      "source": [
        "imdb_df.info()"
      ],
      "metadata": {
        "colab": {
          "base_uri": "https://localhost:8080/"
        },
        "id": "agBEFD7vFb2s",
        "outputId": "2e59958c-d2bf-4d0e-b66b-e0811a15b43c"
      },
      "id": "agBEFD7vFb2s",
      "execution_count": 81,
      "outputs": [
        {
          "output_type": "stream",
          "name": "stdout",
          "text": [
            "<class 'pandas.core.frame.DataFrame'>\n",
            "RangeIndex: 5278 entries, 0 to 5277\n",
            "Data columns (total 10 columns):\n",
            " #   Column             Non-Null Count  Dtype  \n",
            "---  ------             --------------  -----  \n",
            " 0   Unnamed: 0         5278 non-null   int64  \n",
            " 1   title              5278 non-null   object \n",
            " 2   type               5278 non-null   object \n",
            " 3   description        5278 non-null   object \n",
            " 4   release_year       5278 non-null   int64  \n",
            " 5   age_certification  2996 non-null   object \n",
            " 6   runtime            5278 non-null   int64  \n",
            " 7   imdb_id            5278 non-null   object \n",
            " 8   imdb_score         5278 non-null   float64\n",
            " 9   imdb_votes         5278 non-null   int64  \n",
            "dtypes: float64(1), int64(4), object(5)\n",
            "memory usage: 412.5+ KB\n"
          ]
        }
      ]
    },
    {
      "cell_type": "code",
      "source": [
        "common_titles = list(set(imdb_df[\"title\"]) & set(netflix_df[\"title\"]))\n",
        "print('Common Titles:', len(common_titles))\n",
        "\n",
        "common_release_year = list(set(imdb_df[\"release_year\"]) & set(netflix_df[\"release_year\"]))\n",
        "print('Common Release Years:', len(common_release_year))\n",
        "\n",
        "common_age_certification_year = list(set(imdb_df[\"age_certification\"]) & set(netflix_df[\"rating\"]))\n",
        "print('Common Age Certifications:', len(common_age_certification_year))"
      ],
      "metadata": {
        "colab": {
          "base_uri": "https://localhost:8080/"
        },
        "id": "bxWyqdGmJ2Q0",
        "outputId": "5c3eb08c-09ce-49cb-ca6f-77f39fee05ca"
      },
      "id": "bxWyqdGmJ2Q0",
      "execution_count": 82,
      "outputs": [
        {
          "output_type": "stream",
          "name": "stdout",
          "text": [
            "Common Titles: 3177\n",
            "Common Release Years: 64\n",
            "Common Age Certifications: 12\n"
          ]
        }
      ]
    },
    {
      "cell_type": "markdown",
      "source": [
        "The datasets share the `title`, `release_year`, and `age_certification` columns and contain common values. The title and release year are sufficient to identify a unique film in this dataset."
      ],
      "metadata": {
        "id": "8-au52AcHaem"
      },
      "id": "8-au52AcHaem"
    },
    {
      "cell_type": "markdown",
      "source": [
        "## 1.2 Broad Merge"
      ],
      "metadata": {
        "id": "3lNfj64VIJe3"
      },
      "id": "3lNfj64VIJe3"
    },
    {
      "cell_type": "code",
      "execution_count": 83,
      "id": "7a6fc66d-58bb-4f09-99ce-a4d447083d47",
      "metadata": {
        "id": "7a6fc66d-58bb-4f09-99ce-a4d447083d47"
      },
      "outputs": [],
      "source": [
        "# Rename the rating column to age_certification to be consistent with the\n",
        "# column label in the other dataset\n",
        "netflix_df = netflix_df.rename(columns={'rating': 'age_certification'})"
      ]
    },
    {
      "cell_type": "code",
      "execution_count": 84,
      "id": "5ec81627-ea4c-455e-a81c-77a494f232e2",
      "metadata": {
        "colab": {
          "base_uri": "https://localhost:8080/",
          "height": 712
        },
        "id": "5ec81627-ea4c-455e-a81c-77a494f232e2",
        "outputId": "47a3c26c-ae58-4b36-e8c2-321730cb125c"
      },
      "outputs": [
        {
          "output_type": "execute_result",
          "data": {
            "text/plain": [
              "   Unnamed: 0 show_id   type                          title         director  \\\n",
              "0           1      s2   SHOW                  Blood & Water          Unknown   \n",
              "1           4      s5   SHOW                   Kota Factory          Unknown   \n",
              "2           7      s8  MOVIE                        Sankofa     Haile Gerima   \n",
              "3           8      s9   SHOW  The Great British Baking Show  Andy Devonshire   \n",
              "4           9     s10  MOVIE                   The Starling   Theodore Melfi   \n",
              "\n",
              "                                                cast  \\\n",
              "0  Ama Qamata, Khosi Ngema, Gail Mabalane, Thaban...   \n",
              "1  Mayur More, Jitendra Kumar, Ranjan Raj, Alam K...   \n",
              "2  Kofi Ghanaba, Oyafunmike Ogunlano, Alexandra D...   \n",
              "3  Mel Giedroyc, Sue Perkins, Mary Berry, Paul Ho...   \n",
              "4  Melissa McCarthy, Chris O'Dowd, Kevin Kline, T...   \n",
              "\n",
              "                                             country  date_added  \\\n",
              "0                                       South Africa  2021-09-24   \n",
              "1                                              India  2021-09-24   \n",
              "2  United States, Ghana, Burkina Faso, United Kin...  2021-09-24   \n",
              "3                                     United Kingdom  2021-09-24   \n",
              "4                                      United States  2021-09-24   \n",
              "\n",
              "   release_year age_certification   duration  \\\n",
              "0          2021             TV-MA  2 Seasons   \n",
              "1          2021             TV-MA  2 Seasons   \n",
              "2          1993             TV-MA    125 min   \n",
              "3          2021             TV-14  9 Seasons   \n",
              "4          2021             PG-13    104 min   \n",
              "\n",
              "                                           listed_in  \\\n",
              "0    International TV Shows, TV Dramas, TV Mysteries   \n",
              "1  International TV Shows, Romantic TV Shows, TV ...   \n",
              "2   Dramas, Independent Movies, International Movies   \n",
              "3                       British TV Shows, Reality TV   \n",
              "4                                   Comedies, Dramas   \n",
              "\n",
              "                                         description  num_listed_in  \\\n",
              "0  After crossing paths at a party, a Cape Town t...              3   \n",
              "1  In a city of coaching centers known to train I...              3   \n",
              "2  On a photo shoot in Ghana, an American model s...              3   \n",
              "3  A talented batch of amateur bakers face off in...              2   \n",
              "4  A woman adjusting to life after a loss contend...              2   \n",
              "\n",
              "         first_cast  num_genre  \n",
              "0        Ama Qamata          3  \n",
              "1        Mayur More          3  \n",
              "2      Kofi Ghanaba          3  \n",
              "3      Mel Giedroyc          2  \n",
              "4  Melissa McCarthy          2  "
            ],
            "text/html": [
              "\n",
              "  <div id=\"df-4639178d-f9c6-4c5e-803c-370d09a2bdf4\" class=\"colab-df-container\">\n",
              "    <div>\n",
              "<style scoped>\n",
              "    .dataframe tbody tr th:only-of-type {\n",
              "        vertical-align: middle;\n",
              "    }\n",
              "\n",
              "    .dataframe tbody tr th {\n",
              "        vertical-align: top;\n",
              "    }\n",
              "\n",
              "    .dataframe thead th {\n",
              "        text-align: right;\n",
              "    }\n",
              "</style>\n",
              "<table border=\"1\" class=\"dataframe\">\n",
              "  <thead>\n",
              "    <tr style=\"text-align: right;\">\n",
              "      <th></th>\n",
              "      <th>Unnamed: 0</th>\n",
              "      <th>show_id</th>\n",
              "      <th>type</th>\n",
              "      <th>title</th>\n",
              "      <th>director</th>\n",
              "      <th>cast</th>\n",
              "      <th>country</th>\n",
              "      <th>date_added</th>\n",
              "      <th>release_year</th>\n",
              "      <th>age_certification</th>\n",
              "      <th>duration</th>\n",
              "      <th>listed_in</th>\n",
              "      <th>description</th>\n",
              "      <th>num_listed_in</th>\n",
              "      <th>first_cast</th>\n",
              "      <th>num_genre</th>\n",
              "    </tr>\n",
              "  </thead>\n",
              "  <tbody>\n",
              "    <tr>\n",
              "      <th>0</th>\n",
              "      <td>1</td>\n",
              "      <td>s2</td>\n",
              "      <td>SHOW</td>\n",
              "      <td>Blood &amp; Water</td>\n",
              "      <td>Unknown</td>\n",
              "      <td>Ama Qamata, Khosi Ngema, Gail Mabalane, Thaban...</td>\n",
              "      <td>South Africa</td>\n",
              "      <td>2021-09-24</td>\n",
              "      <td>2021</td>\n",
              "      <td>TV-MA</td>\n",
              "      <td>2 Seasons</td>\n",
              "      <td>International TV Shows, TV Dramas, TV Mysteries</td>\n",
              "      <td>After crossing paths at a party, a Cape Town t...</td>\n",
              "      <td>3</td>\n",
              "      <td>Ama Qamata</td>\n",
              "      <td>3</td>\n",
              "    </tr>\n",
              "    <tr>\n",
              "      <th>1</th>\n",
              "      <td>4</td>\n",
              "      <td>s5</td>\n",
              "      <td>SHOW</td>\n",
              "      <td>Kota Factory</td>\n",
              "      <td>Unknown</td>\n",
              "      <td>Mayur More, Jitendra Kumar, Ranjan Raj, Alam K...</td>\n",
              "      <td>India</td>\n",
              "      <td>2021-09-24</td>\n",
              "      <td>2021</td>\n",
              "      <td>TV-MA</td>\n",
              "      <td>2 Seasons</td>\n",
              "      <td>International TV Shows, Romantic TV Shows, TV ...</td>\n",
              "      <td>In a city of coaching centers known to train I...</td>\n",
              "      <td>3</td>\n",
              "      <td>Mayur More</td>\n",
              "      <td>3</td>\n",
              "    </tr>\n",
              "    <tr>\n",
              "      <th>2</th>\n",
              "      <td>7</td>\n",
              "      <td>s8</td>\n",
              "      <td>MOVIE</td>\n",
              "      <td>Sankofa</td>\n",
              "      <td>Haile Gerima</td>\n",
              "      <td>Kofi Ghanaba, Oyafunmike Ogunlano, Alexandra D...</td>\n",
              "      <td>United States, Ghana, Burkina Faso, United Kin...</td>\n",
              "      <td>2021-09-24</td>\n",
              "      <td>1993</td>\n",
              "      <td>TV-MA</td>\n",
              "      <td>125 min</td>\n",
              "      <td>Dramas, Independent Movies, International Movies</td>\n",
              "      <td>On a photo shoot in Ghana, an American model s...</td>\n",
              "      <td>3</td>\n",
              "      <td>Kofi Ghanaba</td>\n",
              "      <td>3</td>\n",
              "    </tr>\n",
              "    <tr>\n",
              "      <th>3</th>\n",
              "      <td>8</td>\n",
              "      <td>s9</td>\n",
              "      <td>SHOW</td>\n",
              "      <td>The Great British Baking Show</td>\n",
              "      <td>Andy Devonshire</td>\n",
              "      <td>Mel Giedroyc, Sue Perkins, Mary Berry, Paul Ho...</td>\n",
              "      <td>United Kingdom</td>\n",
              "      <td>2021-09-24</td>\n",
              "      <td>2021</td>\n",
              "      <td>TV-14</td>\n",
              "      <td>9 Seasons</td>\n",
              "      <td>British TV Shows, Reality TV</td>\n",
              "      <td>A talented batch of amateur bakers face off in...</td>\n",
              "      <td>2</td>\n",
              "      <td>Mel Giedroyc</td>\n",
              "      <td>2</td>\n",
              "    </tr>\n",
              "    <tr>\n",
              "      <th>4</th>\n",
              "      <td>9</td>\n",
              "      <td>s10</td>\n",
              "      <td>MOVIE</td>\n",
              "      <td>The Starling</td>\n",
              "      <td>Theodore Melfi</td>\n",
              "      <td>Melissa McCarthy, Chris O'Dowd, Kevin Kline, T...</td>\n",
              "      <td>United States</td>\n",
              "      <td>2021-09-24</td>\n",
              "      <td>2021</td>\n",
              "      <td>PG-13</td>\n",
              "      <td>104 min</td>\n",
              "      <td>Comedies, Dramas</td>\n",
              "      <td>A woman adjusting to life after a loss contend...</td>\n",
              "      <td>2</td>\n",
              "      <td>Melissa McCarthy</td>\n",
              "      <td>2</td>\n",
              "    </tr>\n",
              "  </tbody>\n",
              "</table>\n",
              "</div>\n",
              "    <div class=\"colab-df-buttons\">\n",
              "\n",
              "  <div class=\"colab-df-container\">\n",
              "    <button class=\"colab-df-convert\" onclick=\"convertToInteractive('df-4639178d-f9c6-4c5e-803c-370d09a2bdf4')\"\n",
              "            title=\"Convert this dataframe to an interactive table.\"\n",
              "            style=\"display:none;\">\n",
              "\n",
              "  <svg xmlns=\"http://www.w3.org/2000/svg\" height=\"24px\" viewBox=\"0 -960 960 960\">\n",
              "    <path d=\"M120-120v-720h720v720H120Zm60-500h600v-160H180v160Zm220 220h160v-160H400v160Zm0 220h160v-160H400v160ZM180-400h160v-160H180v160Zm440 0h160v-160H620v160ZM180-180h160v-160H180v160Zm440 0h160v-160H620v160Z\"/>\n",
              "  </svg>\n",
              "    </button>\n",
              "\n",
              "  <style>\n",
              "    .colab-df-container {\n",
              "      display:flex;\n",
              "      gap: 12px;\n",
              "    }\n",
              "\n",
              "    .colab-df-convert {\n",
              "      background-color: #E8F0FE;\n",
              "      border: none;\n",
              "      border-radius: 50%;\n",
              "      cursor: pointer;\n",
              "      display: none;\n",
              "      fill: #1967D2;\n",
              "      height: 32px;\n",
              "      padding: 0 0 0 0;\n",
              "      width: 32px;\n",
              "    }\n",
              "\n",
              "    .colab-df-convert:hover {\n",
              "      background-color: #E2EBFA;\n",
              "      box-shadow: 0px 1px 2px rgba(60, 64, 67, 0.3), 0px 1px 3px 1px rgba(60, 64, 67, 0.15);\n",
              "      fill: #174EA6;\n",
              "    }\n",
              "\n",
              "    .colab-df-buttons div {\n",
              "      margin-bottom: 4px;\n",
              "    }\n",
              "\n",
              "    [theme=dark] .colab-df-convert {\n",
              "      background-color: #3B4455;\n",
              "      fill: #D2E3FC;\n",
              "    }\n",
              "\n",
              "    [theme=dark] .colab-df-convert:hover {\n",
              "      background-color: #434B5C;\n",
              "      box-shadow: 0px 1px 3px 1px rgba(0, 0, 0, 0.15);\n",
              "      filter: drop-shadow(0px 1px 2px rgba(0, 0, 0, 0.3));\n",
              "      fill: #FFFFFF;\n",
              "    }\n",
              "  </style>\n",
              "\n",
              "    <script>\n",
              "      const buttonEl =\n",
              "        document.querySelector('#df-4639178d-f9c6-4c5e-803c-370d09a2bdf4 button.colab-df-convert');\n",
              "      buttonEl.style.display =\n",
              "        google.colab.kernel.accessAllowed ? 'block' : 'none';\n",
              "\n",
              "      async function convertToInteractive(key) {\n",
              "        const element = document.querySelector('#df-4639178d-f9c6-4c5e-803c-370d09a2bdf4');\n",
              "        const dataTable =\n",
              "          await google.colab.kernel.invokeFunction('convertToInteractive',\n",
              "                                                    [key], {});\n",
              "        if (!dataTable) return;\n",
              "\n",
              "        const docLinkHtml = 'Like what you see? Visit the ' +\n",
              "          '<a target=\"_blank\" href=https://colab.research.google.com/notebooks/data_table.ipynb>data table notebook</a>'\n",
              "          + ' to learn more about interactive tables.';\n",
              "        element.innerHTML = '';\n",
              "        dataTable['output_type'] = 'display_data';\n",
              "        await google.colab.output.renderOutput(dataTable, element);\n",
              "        const docLink = document.createElement('div');\n",
              "        docLink.innerHTML = docLinkHtml;\n",
              "        element.appendChild(docLink);\n",
              "      }\n",
              "    </script>\n",
              "  </div>\n",
              "\n",
              "\n",
              "<div id=\"df-66675064-c7ef-4c20-8263-19f40422dd6a\">\n",
              "  <button class=\"colab-df-quickchart\" onclick=\"quickchart('df-66675064-c7ef-4c20-8263-19f40422dd6a')\"\n",
              "            title=\"Suggest charts\"\n",
              "            style=\"display:none;\">\n",
              "\n",
              "<svg xmlns=\"http://www.w3.org/2000/svg\" height=\"24px\"viewBox=\"0 0 24 24\"\n",
              "     width=\"24px\">\n",
              "    <g>\n",
              "        <path d=\"M19 3H5c-1.1 0-2 .9-2 2v14c0 1.1.9 2 2 2h14c1.1 0 2-.9 2-2V5c0-1.1-.9-2-2-2zM9 17H7v-7h2v7zm4 0h-2V7h2v10zm4 0h-2v-4h2v4z\"/>\n",
              "    </g>\n",
              "</svg>\n",
              "  </button>\n",
              "\n",
              "<style>\n",
              "  .colab-df-quickchart {\n",
              "      --bg-color: #E8F0FE;\n",
              "      --fill-color: #1967D2;\n",
              "      --hover-bg-color: #E2EBFA;\n",
              "      --hover-fill-color: #174EA6;\n",
              "      --disabled-fill-color: #AAA;\n",
              "      --disabled-bg-color: #DDD;\n",
              "  }\n",
              "\n",
              "  [theme=dark] .colab-df-quickchart {\n",
              "      --bg-color: #3B4455;\n",
              "      --fill-color: #D2E3FC;\n",
              "      --hover-bg-color: #434B5C;\n",
              "      --hover-fill-color: #FFFFFF;\n",
              "      --disabled-bg-color: #3B4455;\n",
              "      --disabled-fill-color: #666;\n",
              "  }\n",
              "\n",
              "  .colab-df-quickchart {\n",
              "    background-color: var(--bg-color);\n",
              "    border: none;\n",
              "    border-radius: 50%;\n",
              "    cursor: pointer;\n",
              "    display: none;\n",
              "    fill: var(--fill-color);\n",
              "    height: 32px;\n",
              "    padding: 0;\n",
              "    width: 32px;\n",
              "  }\n",
              "\n",
              "  .colab-df-quickchart:hover {\n",
              "    background-color: var(--hover-bg-color);\n",
              "    box-shadow: 0 1px 2px rgba(60, 64, 67, 0.3), 0 1px 3px 1px rgba(60, 64, 67, 0.15);\n",
              "    fill: var(--button-hover-fill-color);\n",
              "  }\n",
              "\n",
              "  .colab-df-quickchart-complete:disabled,\n",
              "  .colab-df-quickchart-complete:disabled:hover {\n",
              "    background-color: var(--disabled-bg-color);\n",
              "    fill: var(--disabled-fill-color);\n",
              "    box-shadow: none;\n",
              "  }\n",
              "\n",
              "  .colab-df-spinner {\n",
              "    border: 2px solid var(--fill-color);\n",
              "    border-color: transparent;\n",
              "    border-bottom-color: var(--fill-color);\n",
              "    animation:\n",
              "      spin 1s steps(1) infinite;\n",
              "  }\n",
              "\n",
              "  @keyframes spin {\n",
              "    0% {\n",
              "      border-color: transparent;\n",
              "      border-bottom-color: var(--fill-color);\n",
              "      border-left-color: var(--fill-color);\n",
              "    }\n",
              "    20% {\n",
              "      border-color: transparent;\n",
              "      border-left-color: var(--fill-color);\n",
              "      border-top-color: var(--fill-color);\n",
              "    }\n",
              "    30% {\n",
              "      border-color: transparent;\n",
              "      border-left-color: var(--fill-color);\n",
              "      border-top-color: var(--fill-color);\n",
              "      border-right-color: var(--fill-color);\n",
              "    }\n",
              "    40% {\n",
              "      border-color: transparent;\n",
              "      border-right-color: var(--fill-color);\n",
              "      border-top-color: var(--fill-color);\n",
              "    }\n",
              "    60% {\n",
              "      border-color: transparent;\n",
              "      border-right-color: var(--fill-color);\n",
              "    }\n",
              "    80% {\n",
              "      border-color: transparent;\n",
              "      border-right-color: var(--fill-color);\n",
              "      border-bottom-color: var(--fill-color);\n",
              "    }\n",
              "    90% {\n",
              "      border-color: transparent;\n",
              "      border-bottom-color: var(--fill-color);\n",
              "    }\n",
              "  }\n",
              "</style>\n",
              "\n",
              "  <script>\n",
              "    async function quickchart(key) {\n",
              "      const quickchartButtonEl =\n",
              "        document.querySelector('#' + key + ' button');\n",
              "      quickchartButtonEl.disabled = true;  // To prevent multiple clicks.\n",
              "      quickchartButtonEl.classList.add('colab-df-spinner');\n",
              "      try {\n",
              "        const charts = await google.colab.kernel.invokeFunction(\n",
              "            'suggestCharts', [key], {});\n",
              "      } catch (error) {\n",
              "        console.error('Error during call to suggestCharts:', error);\n",
              "      }\n",
              "      quickchartButtonEl.classList.remove('colab-df-spinner');\n",
              "      quickchartButtonEl.classList.add('colab-df-quickchart-complete');\n",
              "    }\n",
              "    (() => {\n",
              "      let quickchartButtonEl =\n",
              "        document.querySelector('#df-66675064-c7ef-4c20-8263-19f40422dd6a button');\n",
              "      quickchartButtonEl.style.display =\n",
              "        google.colab.kernel.accessAllowed ? 'block' : 'none';\n",
              "    })();\n",
              "  </script>\n",
              "</div>\n",
              "\n",
              "    </div>\n",
              "  </div>\n"
            ],
            "application/vnd.google.colaboratory.intrinsic+json": {
              "type": "dataframe",
              "variable_name": "netflix_df",
              "summary": "{\n  \"name\": \"netflix_df\",\n  \"rows\": 7293,\n  \"fields\": [\n    {\n      \"column\": \"Unnamed: 0\",\n      \"properties\": {\n        \"dtype\": \"number\",\n        \"std\": 2487,\n        \"min\": 1,\n        \"max\": 8806,\n        \"num_unique_values\": 7293,\n        \"samples\": [\n          6915,\n          2234,\n          3647\n        ],\n        \"semantic_type\": \"\",\n        \"description\": \"\"\n      }\n    },\n    {\n      \"column\": \"show_id\",\n      \"properties\": {\n        \"dtype\": \"string\",\n        \"num_unique_values\": 7293,\n        \"samples\": [\n          \"s6916\",\n          \"s2235\",\n          \"s3648\"\n        ],\n        \"semantic_type\": \"\",\n        \"description\": \"\"\n      }\n    },\n    {\n      \"column\": \"type\",\n      \"properties\": {\n        \"dtype\": \"category\",\n        \"num_unique_values\": 2,\n        \"samples\": [\n          \"MOVIE\",\n          \"SHOW\"\n        ],\n        \"semantic_type\": \"\",\n        \"description\": \"\"\n      }\n    },\n    {\n      \"column\": \"title\",\n      \"properties\": {\n        \"dtype\": \"string\",\n        \"num_unique_values\": 7293,\n        \"samples\": [\n          \"Hangman\",\n          \"Cold Feet\"\n        ],\n        \"semantic_type\": \"\",\n        \"description\": \"\"\n      }\n    },\n    {\n      \"column\": \"director\",\n      \"properties\": {\n        \"dtype\": \"string\",\n        \"num_unique_values\": 3947,\n        \"samples\": [\n          \"Janusz Majewski\",\n          \"Felix Starck\"\n        ],\n        \"semantic_type\": \"\",\n        \"description\": \"\"\n      }\n    },\n    {\n      \"column\": \"cast\",\n      \"properties\": {\n        \"dtype\": \"string\",\n        \"num_unique_values\": 7095,\n        \"samples\": [\n          \"Liam Neeson, Diane Kruger, January Jones, Aidan Quinn, Bruno Ganz, Frank Langella, Sebastian Koch, Olivier Schneider, Stipe Erceg, Rainer Bock\",\n          \"Syrus Shahidi, Lionel Abelanski, Charlotte Gabris, Tom Hygreck, Sylvain Quimene, Laura Boujenah, Foed Amara\"\n        ],\n        \"semantic_type\": \"\",\n        \"description\": \"\"\n      }\n    },\n    {\n      \"column\": \"country\",\n      \"properties\": {\n        \"dtype\": \"category\",\n        \"num_unique_values\": 689,\n        \"samples\": [\n          \"Netherlands, Germany, Denmark, United Kingdom\",\n          \"United Kingdom, Canada, France, United States\"\n        ],\n        \"semantic_type\": \"\",\n        \"description\": \"\"\n      }\n    },\n    {\n      \"column\": \"date_added\",\n      \"properties\": {\n        \"dtype\": \"object\",\n        \"num_unique_values\": 1630,\n        \"samples\": [\n          \"2019-07-16\",\n          \"2020-11-22\"\n        ],\n        \"semantic_type\": \"\",\n        \"description\": \"\"\n      }\n    },\n    {\n      \"column\": \"release_year\",\n      \"properties\": {\n        \"dtype\": \"number\",\n        \"std\": 8,\n        \"min\": 1942,\n        \"max\": 2021,\n        \"num_unique_values\": 72,\n        \"samples\": [\n          1998,\n          1977\n        ],\n        \"semantic_type\": \"\",\n        \"description\": \"\"\n      }\n    },\n    {\n      \"column\": \"age_certification\",\n      \"properties\": {\n        \"dtype\": \"category\",\n        \"num_unique_values\": 14,\n        \"samples\": [\n          \"G\",\n          \"NR\"\n        ],\n        \"semantic_type\": \"\",\n        \"description\": \"\"\n      }\n    },\n    {\n      \"column\": \"duration\",\n      \"properties\": {\n        \"dtype\": \"category\",\n        \"num_unique_values\": 206,\n        \"samples\": [\n          \"116 min\",\n          \"97 min\"\n        ],\n        \"semantic_type\": \"\",\n        \"description\": \"\"\n      }\n    },\n    {\n      \"column\": \"listed_in\",\n      \"properties\": {\n        \"dtype\": \"category\",\n        \"num_unique_values\": 489,\n        \"samples\": [\n          \"British TV Shows, TV Dramas, TV Sci-Fi & Fantasy\",\n          \"TV Dramas, TV Horror, TV Mysteries\"\n        ],\n        \"semantic_type\": \"\",\n        \"description\": \"\"\n      }\n    },\n    {\n      \"column\": \"description\",\n      \"properties\": {\n        \"dtype\": \"string\",\n        \"num_unique_values\": 7280,\n        \"samples\": [\n          \"Upon returning to his industrial hometown, a young man must decide whether to follow his own dreams or acquiesce to his father's plans for his future.\",\n          \"A huge fan of a Korean TV drama is transported to a magical realm where she has the power to alter her favorite show's story line as a \\\"Facilitator.\\\"\"\n        ],\n        \"semantic_type\": \"\",\n        \"description\": \"\"\n      }\n    },\n    {\n      \"column\": \"num_listed_in\",\n      \"properties\": {\n        \"dtype\": \"number\",\n        \"std\": 0,\n        \"min\": 1,\n        \"max\": 3,\n        \"num_unique_values\": 3,\n        \"samples\": [\n          3,\n          2\n        ],\n        \"semantic_type\": \"\",\n        \"description\": \"\"\n      }\n    },\n    {\n      \"column\": \"first_cast\",\n      \"properties\": {\n        \"dtype\": \"string\",\n        \"num_unique_values\": 5020,\n        \"samples\": [\n          \"Mirai Shida\",\n          \"Sean Faris\"\n        ],\n        \"semantic_type\": \"\",\n        \"description\": \"\"\n      }\n    },\n    {\n      \"column\": \"num_genre\",\n      \"properties\": {\n        \"dtype\": \"number\",\n        \"std\": 0,\n        \"min\": 1,\n        \"max\": 3,\n        \"num_unique_values\": 3,\n        \"samples\": [\n          3,\n          2\n        ],\n        \"semantic_type\": \"\",\n        \"description\": \"\"\n      }\n    }\n  ]\n}"
            }
          },
          "metadata": {},
          "execution_count": 84
        }
      ],
      "source": [
        "netflix_df.head()"
      ]
    },
    {
      "cell_type": "code",
      "execution_count": 85,
      "id": "7e5c5a5a-8aa4-4d20-9864-6adc14661d48",
      "metadata": {
        "colab": {
          "base_uri": "https://localhost:8080/"
        },
        "id": "7e5c5a5a-8aa4-4d20-9864-6adc14661d48",
        "outputId": "9e36aa5e-365d-4248-a0a3-2e1b7299e728"
      },
      "outputs": [
        {
          "output_type": "stream",
          "name": "stdout",
          "text": [
            "<class 'pandas.core.frame.DataFrame'>\n",
            "RangeIndex: 2477 entries, 0 to 2476\n",
            "Data columns (total 22 columns):\n",
            " #   Column             Non-Null Count  Dtype  \n",
            "---  ------             --------------  -----  \n",
            " 0   Unnamed: 0_x       2477 non-null   int64  \n",
            " 1   title              2477 non-null   object \n",
            " 2   description_x      2477 non-null   object \n",
            " 3   release_year       2477 non-null   int64  \n",
            " 4   runtime            2477 non-null   int64  \n",
            " 5   imdb_id            2477 non-null   object \n",
            " 6   imdb_score         2477 non-null   float64\n",
            " 7   imdb_votes         2477 non-null   int64  \n",
            " 8   Unnamed: 0_y       2477 non-null   int64  \n",
            " 9   show_id            2477 non-null   object \n",
            " 10  type               2477 non-null   object \n",
            " 11  director           2477 non-null   object \n",
            " 12  cast               2477 non-null   object \n",
            " 13  country            2477 non-null   object \n",
            " 14  date_added         2477 non-null   object \n",
            " 15  age_certification  2477 non-null   object \n",
            " 16  duration           2477 non-null   object \n",
            " 17  listed_in          2477 non-null   object \n",
            " 18  description_y      2477 non-null   object \n",
            " 19  num_listed_in      2477 non-null   int64  \n",
            " 20  first_cast         2477 non-null   object \n",
            " 21  num_genre          2477 non-null   int64  \n",
            "dtypes: float64(1), int64(7), object(14)\n",
            "memory usage: 425.9+ KB\n"
          ]
        }
      ],
      "source": [
        "# Perform an inner join on film title and release year\n",
        "netflix_film_imdb_data = pd.merge(imdb_df, netflix_df, how='inner', on=['title', 'release_year'])\n",
        "\n",
        "# The duplicate type and age certification are redundant\n",
        "# Remove one of each from the merged data and retain the columns which\n",
        "# do not contain missing values\n",
        "#\n",
        "# Merging with duplicate columns forced a renaming,\n",
        "# so revert the columns back to the original naming\n",
        "netflix_film_imdb_data = netflix_film_imdb_data \\\n",
        "            .drop(columns=['type_x', 'age_certification_x']) \\\n",
        "            .rename(columns={'type_y': 'type', 'age_certification_y': 'age_certification'})\n",
        "\n",
        "netflix_film_imdb_data.info()"
      ]
    },
    {
      "cell_type": "code",
      "source": [
        "netflix_film_imdb_data.to_csv('netflix_film_imdb_data.csv')"
      ],
      "metadata": {
        "id": "Ps9ZplpHLPWH"
      },
      "id": "Ps9ZplpHLPWH",
      "execution_count": 86,
      "outputs": []
    },
    {
      "cell_type": "markdown",
      "source": [
        "# Credit\n",
        "\n",
        "This notebook contains contributions from Anthony Brown.\n",
        "\n",
        "The organization of this notebook is inspired by a notebook provided as a workshop for CSC 442 at NC State University. This workshop was created by Aditi Mallavarapu, Claire Cahoon and Walt Gurley, adapted from previous workshop materials by Scott Bailey and Simon Wiles, of Stanford Libraries."
      ],
      "metadata": {
        "id": "q1OSTOg5Kwmb"
      },
      "id": "q1OSTOg5Kwmb"
    }
  ],
  "metadata": {
    "kernelspec": {
      "display_name": "Python 3 (ipykernel)",
      "language": "python",
      "name": "python3"
    },
    "language_info": {
      "codemirror_mode": {
        "name": "ipython",
        "version": 3
      },
      "file_extension": ".py",
      "mimetype": "text/x-python",
      "name": "python",
      "nbconvert_exporter": "python",
      "pygments_lexer": "ipython3",
      "version": "3.8.3"
    },
    "colab": {
      "provenance": []
    }
  },
  "nbformat": 4,
  "nbformat_minor": 5
}