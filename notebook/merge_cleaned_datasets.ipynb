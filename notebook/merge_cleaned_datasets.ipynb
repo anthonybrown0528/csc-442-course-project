{
  "cells": [
    {
      "cell_type": "markdown",
      "source": [
        "# Dataset"
      ],
      "metadata": {
        "id": "1QWzwpT5Gll3"
      },
      "id": "1QWzwpT5Gll3"
    },
    {
      "cell_type": "code",
      "execution_count": null,
      "id": "538b0ba1-21cd-4a31-bd7a-50c7c36c46af",
      "metadata": {
        "id": "538b0ba1-21cd-4a31-bd7a-50c7c36c46af"
      },
      "outputs": [],
      "source": [
        "import pandas as pd\n",
        "import matplotlib.pyplot as plt"
      ]
    },
    {
      "cell_type": "code",
      "execution_count": null,
      "id": "ebd093ba-54a6-4aca-bd26-b1eff0bee7e5",
      "metadata": {
        "id": "ebd093ba-54a6-4aca-bd26-b1eff0bee7e5"
      },
      "outputs": [],
      "source": [
        "# Load the cleaned datasets\n",
        "netflix_df = pd.read_csv('https://raw.githubusercontent.com/anthonybrown0528/csc-442-course-project/refs/heads/main/dataset/clean/netflix_film_data.csv')\n",
        "imdb_df = pd.read_csv('https://raw.githubusercontent.com/anthonybrown0528/csc-442-course-project/refs/heads/main/dataset/clean/netflix_imdb_scores.csv')"
      ]
    },
    {
      "cell_type": "markdown",
      "source": [
        "## 1. Data Merging"
      ],
      "metadata": {
        "id": "Om1P-61oG9-3"
      },
      "id": "Om1P-61oG9-3"
    },
    {
      "cell_type": "markdown",
      "source": [
        "### 1.1 Identify Common Columns"
      ],
      "metadata": {
        "id": "QeW9yg3OHJQW"
      },
      "id": "QeW9yg3OHJQW"
    },
    {
      "cell_type": "code",
      "execution_count": null,
      "id": "29ae4e4e-203f-4c58-9c62-6c182a34fca9",
      "metadata": {
        "colab": {
          "base_uri": "https://localhost:8080/"
        },
        "id": "29ae4e4e-203f-4c58-9c62-6c182a34fca9",
        "outputId": "d4cc8757-2850-4b4d-8222-0093fb5915d5"
      },
      "outputs": [
        {
          "output_type": "stream",
          "name": "stdout",
          "text": [
            "<class 'pandas.core.frame.DataFrame'>\n",
            "RangeIndex: 7293 entries, 0 to 7292\n",
            "Data columns (total 16 columns):\n",
            " #   Column           Non-Null Count  Dtype  \n",
            "---  ------           --------------  -----  \n",
            " 0   show_id          7293 non-null   object \n",
            " 1   type             7293 non-null   object \n",
            " 2   title            7293 non-null   object \n",
            " 3   director         7293 non-null   object \n",
            " 4   cast             7293 non-null   object \n",
            " 5   country          7293 non-null   object \n",
            " 6   date_added       7293 non-null   object \n",
            " 7   release_year     7293 non-null   int64  \n",
            " 8   rating           7290 non-null   object \n",
            " 9   num_releases     7293 non-null   int64  \n",
            " 10  listed_in        7293 non-null   object \n",
            " 11  description      7293 non-null   object \n",
            " 12  num_listed_in    7293 non-null   int64  \n",
            " 13  first_cast       7293 non-null   object \n",
            " 14  cast_freq_mean   7293 non-null   float64\n",
            " 15  genre_freq_mean  7293 non-null   float64\n",
            "dtypes: float64(2), int64(3), object(11)\n",
            "memory usage: 911.8+ KB\n"
          ]
        }
      ],
      "source": [
        "netflix_df.info()"
      ]
    },
    {
      "cell_type": "code",
      "source": [
        "imdb_df.info()"
      ],
      "metadata": {
        "colab": {
          "base_uri": "https://localhost:8080/"
        },
        "id": "agBEFD7vFb2s",
        "outputId": "55302ec0-1170-4534-a139-f701f661b104"
      },
      "id": "agBEFD7vFb2s",
      "execution_count": null,
      "outputs": [
        {
          "output_type": "stream",
          "name": "stdout",
          "text": [
            "<class 'pandas.core.frame.DataFrame'>\n",
            "RangeIndex: 5278 entries, 0 to 5277\n",
            "Data columns (total 9 columns):\n",
            " #   Column             Non-Null Count  Dtype  \n",
            "---  ------             --------------  -----  \n",
            " 0   title              5278 non-null   object \n",
            " 1   type               5278 non-null   object \n",
            " 2   description        5278 non-null   object \n",
            " 3   release_year       5278 non-null   int64  \n",
            " 4   age_certification  2996 non-null   object \n",
            " 5   runtime            5278 non-null   int64  \n",
            " 6   imdb_id            5278 non-null   object \n",
            " 7   imdb_score         5278 non-null   float64\n",
            " 8   imdb_votes         5278 non-null   int64  \n",
            "dtypes: float64(1), int64(3), object(5)\n",
            "memory usage: 371.2+ KB\n"
          ]
        }
      ]
    },
    {
      "cell_type": "code",
      "source": [
        "common_titles = list(set(imdb_df[\"title\"]) & set(netflix_df[\"title\"]))\n",
        "print('Common Titles:', len(common_titles))\n",
        "\n",
        "common_release_year = list(set(imdb_df[\"release_year\"]) & set(netflix_df[\"release_year\"]))\n",
        "print('Common Release Years:', len(common_release_year))\n",
        "\n",
        "common_age_certification_year = list(set(imdb_df[\"age_certification\"]) & set(netflix_df[\"rating\"]))\n",
        "print('Common Age Certifications:', len(common_age_certification_year))"
      ],
      "metadata": {
        "colab": {
          "base_uri": "https://localhost:8080/"
        },
        "id": "bxWyqdGmJ2Q0",
        "outputId": "a843ab38-8f79-4237-9802-f2cb27b80146"
      },
      "id": "bxWyqdGmJ2Q0",
      "execution_count": null,
      "outputs": [
        {
          "output_type": "stream",
          "name": "stdout",
          "text": [
            "Common Titles: 3177\n",
            "Common Release Years: 64\n",
            "Common Age Certifications: 12\n"
          ]
        }
      ]
    },
    {
      "cell_type": "markdown",
      "source": [
        "The datasets share the `title`, `release_year`, and `age_certification` columns and contain common values. The title and release year are sufficient to identify a unique film in this dataset."
      ],
      "metadata": {
        "id": "8-au52AcHaem"
      },
      "id": "8-au52AcHaem"
    },
    {
      "cell_type": "markdown",
      "source": [
        "## 1.2 Broad Merge"
      ],
      "metadata": {
        "id": "3lNfj64VIJe3"
      },
      "id": "3lNfj64VIJe3"
    },
    {
      "cell_type": "code",
      "execution_count": null,
      "id": "7a6fc66d-58bb-4f09-99ce-a4d447083d47",
      "metadata": {
        "id": "7a6fc66d-58bb-4f09-99ce-a4d447083d47"
      },
      "outputs": [],
      "source": [
        "# Rename the rating column to age_certification to be consistent with the\n",
        "# column label in the other dataset\n",
        "netflix_df = netflix_df.rename(columns={'rating': 'age_certification'})"
      ]
    },
    {
      "cell_type": "code",
      "execution_count": null,
      "id": "5ec81627-ea4c-455e-a81c-77a494f232e2",
      "metadata": {
        "colab": {
          "base_uri": "https://localhost:8080/",
          "height": 467
        },
        "id": "5ec81627-ea4c-455e-a81c-77a494f232e2",
        "outputId": "8bd0c0da-39c3-4a31-fe3e-f77c52a47421"
      },
      "outputs": [
        {
          "output_type": "execute_result",
          "data": {
            "text/plain": [
              "  show_id     type                          title         director  \\\n",
              "0      s2  TV Show                  Blood & Water          Unknown   \n",
              "1      s5  TV Show                   Kota Factory          Unknown   \n",
              "2      s8    Movie                        Sankofa     Haile Gerima   \n",
              "3      s9  TV Show  The Great British Baking Show  Andy Devonshire   \n",
              "4     s10    Movie                   The Starling   Theodore Melfi   \n",
              "\n",
              "                                                cast  \\\n",
              "0  Ama Qamata, Khosi Ngema, Gail Mabalane, Thaban...   \n",
              "1  Mayur More, Jitendra Kumar, Ranjan Raj, Alam K...   \n",
              "2  Kofi Ghanaba, Oyafunmike Ogunlano, Alexandra D...   \n",
              "3  Mel Giedroyc, Sue Perkins, Mary Berry, Paul Ho...   \n",
              "4  Melissa McCarthy, Chris O'Dowd, Kevin Kline, T...   \n",
              "\n",
              "                                             country          date_added  \\\n",
              "0                                       South Africa  September 24, 2021   \n",
              "1                                              India  September 24, 2021   \n",
              "2  United States, Ghana, Burkina Faso, United Kin...  September 24, 2021   \n",
              "3                                     United Kingdom  September 24, 2021   \n",
              "4                                      United States  September 24, 2021   \n",
              "\n",
              "   release_year age_certification  num_releases  \\\n",
              "0          2021             TV-MA             2   \n",
              "1          2021             TV-MA             2   \n",
              "2          1993             TV-MA             1   \n",
              "3          2021             TV-14             9   \n",
              "4          2021             PG-13             1   \n",
              "\n",
              "                                           listed_in  \\\n",
              "0    International TV Shows, TV Dramas, TV Mysteries   \n",
              "1  International TV Shows, Romantic TV Shows, TV ...   \n",
              "2   Dramas, Independent Movies, International Movies   \n",
              "3                       British TV Shows, Reality TV   \n",
              "4                                   Comedies, Dramas   \n",
              "\n",
              "                                         description  num_listed_in  \\\n",
              "0  After crossing paths at a party, a Cape Town t...              3   \n",
              "1  In a city of coaching centers known to train I...              3   \n",
              "2  On a photo shoot in Ghana, an American model s...              3   \n",
              "3  A talented batch of amateur bakers face off in...              2   \n",
              "4  A woman adjusting to life after a loss contend...              2   \n",
              "\n",
              "         first_cast  cast_freq_mean  genre_freq_mean  \n",
              "0        Ama Qamata        1.157895       597.666667  \n",
              "1        Mayur More        2.000000       608.000000  \n",
              "2      Kofi Ghanaba        1.000000      1814.666667  \n",
              "3      Mel Giedroyc        2.000000       171.000000  \n",
              "4  Melissa McCarthy        5.090909      1942.000000  "
            ],
            "text/html": [
              "\n",
              "  <div id=\"df-20fa237c-be27-4427-8206-912c332fd933\" class=\"colab-df-container\">\n",
              "    <div>\n",
              "<style scoped>\n",
              "    .dataframe tbody tr th:only-of-type {\n",
              "        vertical-align: middle;\n",
              "    }\n",
              "\n",
              "    .dataframe tbody tr th {\n",
              "        vertical-align: top;\n",
              "    }\n",
              "\n",
              "    .dataframe thead th {\n",
              "        text-align: right;\n",
              "    }\n",
              "</style>\n",
              "<table border=\"1\" class=\"dataframe\">\n",
              "  <thead>\n",
              "    <tr style=\"text-align: right;\">\n",
              "      <th></th>\n",
              "      <th>show_id</th>\n",
              "      <th>type</th>\n",
              "      <th>title</th>\n",
              "      <th>director</th>\n",
              "      <th>cast</th>\n",
              "      <th>country</th>\n",
              "      <th>date_added</th>\n",
              "      <th>release_year</th>\n",
              "      <th>age_certification</th>\n",
              "      <th>num_releases</th>\n",
              "      <th>listed_in</th>\n",
              "      <th>description</th>\n",
              "      <th>num_listed_in</th>\n",
              "      <th>first_cast</th>\n",
              "      <th>cast_freq_mean</th>\n",
              "      <th>genre_freq_mean</th>\n",
              "    </tr>\n",
              "  </thead>\n",
              "  <tbody>\n",
              "    <tr>\n",
              "      <th>0</th>\n",
              "      <td>s2</td>\n",
              "      <td>TV Show</td>\n",
              "      <td>Blood &amp; Water</td>\n",
              "      <td>Unknown</td>\n",
              "      <td>Ama Qamata, Khosi Ngema, Gail Mabalane, Thaban...</td>\n",
              "      <td>South Africa</td>\n",
              "      <td>September 24, 2021</td>\n",
              "      <td>2021</td>\n",
              "      <td>TV-MA</td>\n",
              "      <td>2</td>\n",
              "      <td>International TV Shows, TV Dramas, TV Mysteries</td>\n",
              "      <td>After crossing paths at a party, a Cape Town t...</td>\n",
              "      <td>3</td>\n",
              "      <td>Ama Qamata</td>\n",
              "      <td>1.157895</td>\n",
              "      <td>597.666667</td>\n",
              "    </tr>\n",
              "    <tr>\n",
              "      <th>1</th>\n",
              "      <td>s5</td>\n",
              "      <td>TV Show</td>\n",
              "      <td>Kota Factory</td>\n",
              "      <td>Unknown</td>\n",
              "      <td>Mayur More, Jitendra Kumar, Ranjan Raj, Alam K...</td>\n",
              "      <td>India</td>\n",
              "      <td>September 24, 2021</td>\n",
              "      <td>2021</td>\n",
              "      <td>TV-MA</td>\n",
              "      <td>2</td>\n",
              "      <td>International TV Shows, Romantic TV Shows, TV ...</td>\n",
              "      <td>In a city of coaching centers known to train I...</td>\n",
              "      <td>3</td>\n",
              "      <td>Mayur More</td>\n",
              "      <td>2.000000</td>\n",
              "      <td>608.000000</td>\n",
              "    </tr>\n",
              "    <tr>\n",
              "      <th>2</th>\n",
              "      <td>s8</td>\n",
              "      <td>Movie</td>\n",
              "      <td>Sankofa</td>\n",
              "      <td>Haile Gerima</td>\n",
              "      <td>Kofi Ghanaba, Oyafunmike Ogunlano, Alexandra D...</td>\n",
              "      <td>United States, Ghana, Burkina Faso, United Kin...</td>\n",
              "      <td>September 24, 2021</td>\n",
              "      <td>1993</td>\n",
              "      <td>TV-MA</td>\n",
              "      <td>1</td>\n",
              "      <td>Dramas, Independent Movies, International Movies</td>\n",
              "      <td>On a photo shoot in Ghana, an American model s...</td>\n",
              "      <td>3</td>\n",
              "      <td>Kofi Ghanaba</td>\n",
              "      <td>1.000000</td>\n",
              "      <td>1814.666667</td>\n",
              "    </tr>\n",
              "    <tr>\n",
              "      <th>3</th>\n",
              "      <td>s9</td>\n",
              "      <td>TV Show</td>\n",
              "      <td>The Great British Baking Show</td>\n",
              "      <td>Andy Devonshire</td>\n",
              "      <td>Mel Giedroyc, Sue Perkins, Mary Berry, Paul Ho...</td>\n",
              "      <td>United Kingdom</td>\n",
              "      <td>September 24, 2021</td>\n",
              "      <td>2021</td>\n",
              "      <td>TV-14</td>\n",
              "      <td>9</td>\n",
              "      <td>British TV Shows, Reality TV</td>\n",
              "      <td>A talented batch of amateur bakers face off in...</td>\n",
              "      <td>2</td>\n",
              "      <td>Mel Giedroyc</td>\n",
              "      <td>2.000000</td>\n",
              "      <td>171.000000</td>\n",
              "    </tr>\n",
              "    <tr>\n",
              "      <th>4</th>\n",
              "      <td>s10</td>\n",
              "      <td>Movie</td>\n",
              "      <td>The Starling</td>\n",
              "      <td>Theodore Melfi</td>\n",
              "      <td>Melissa McCarthy, Chris O'Dowd, Kevin Kline, T...</td>\n",
              "      <td>United States</td>\n",
              "      <td>September 24, 2021</td>\n",
              "      <td>2021</td>\n",
              "      <td>PG-13</td>\n",
              "      <td>1</td>\n",
              "      <td>Comedies, Dramas</td>\n",
              "      <td>A woman adjusting to life after a loss contend...</td>\n",
              "      <td>2</td>\n",
              "      <td>Melissa McCarthy</td>\n",
              "      <td>5.090909</td>\n",
              "      <td>1942.000000</td>\n",
              "    </tr>\n",
              "  </tbody>\n",
              "</table>\n",
              "</div>\n",
              "    <div class=\"colab-df-buttons\">\n",
              "\n",
              "  <div class=\"colab-df-container\">\n",
              "    <button class=\"colab-df-convert\" onclick=\"convertToInteractive('df-20fa237c-be27-4427-8206-912c332fd933')\"\n",
              "            title=\"Convert this dataframe to an interactive table.\"\n",
              "            style=\"display:none;\">\n",
              "\n",
              "  <svg xmlns=\"http://www.w3.org/2000/svg\" height=\"24px\" viewBox=\"0 -960 960 960\">\n",
              "    <path d=\"M120-120v-720h720v720H120Zm60-500h600v-160H180v160Zm220 220h160v-160H400v160Zm0 220h160v-160H400v160ZM180-400h160v-160H180v160Zm440 0h160v-160H620v160ZM180-180h160v-160H180v160Zm440 0h160v-160H620v160Z\"/>\n",
              "  </svg>\n",
              "    </button>\n",
              "\n",
              "  <style>\n",
              "    .colab-df-container {\n",
              "      display:flex;\n",
              "      gap: 12px;\n",
              "    }\n",
              "\n",
              "    .colab-df-convert {\n",
              "      background-color: #E8F0FE;\n",
              "      border: none;\n",
              "      border-radius: 50%;\n",
              "      cursor: pointer;\n",
              "      display: none;\n",
              "      fill: #1967D2;\n",
              "      height: 32px;\n",
              "      padding: 0 0 0 0;\n",
              "      width: 32px;\n",
              "    }\n",
              "\n",
              "    .colab-df-convert:hover {\n",
              "      background-color: #E2EBFA;\n",
              "      box-shadow: 0px 1px 2px rgba(60, 64, 67, 0.3), 0px 1px 3px 1px rgba(60, 64, 67, 0.15);\n",
              "      fill: #174EA6;\n",
              "    }\n",
              "\n",
              "    .colab-df-buttons div {\n",
              "      margin-bottom: 4px;\n",
              "    }\n",
              "\n",
              "    [theme=dark] .colab-df-convert {\n",
              "      background-color: #3B4455;\n",
              "      fill: #D2E3FC;\n",
              "    }\n",
              "\n",
              "    [theme=dark] .colab-df-convert:hover {\n",
              "      background-color: #434B5C;\n",
              "      box-shadow: 0px 1px 3px 1px rgba(0, 0, 0, 0.15);\n",
              "      filter: drop-shadow(0px 1px 2px rgba(0, 0, 0, 0.3));\n",
              "      fill: #FFFFFF;\n",
              "    }\n",
              "  </style>\n",
              "\n",
              "    <script>\n",
              "      const buttonEl =\n",
              "        document.querySelector('#df-20fa237c-be27-4427-8206-912c332fd933 button.colab-df-convert');\n",
              "      buttonEl.style.display =\n",
              "        google.colab.kernel.accessAllowed ? 'block' : 'none';\n",
              "\n",
              "      async function convertToInteractive(key) {\n",
              "        const element = document.querySelector('#df-20fa237c-be27-4427-8206-912c332fd933');\n",
              "        const dataTable =\n",
              "          await google.colab.kernel.invokeFunction('convertToInteractive',\n",
              "                                                    [key], {});\n",
              "        if (!dataTable) return;\n",
              "\n",
              "        const docLinkHtml = 'Like what you see? Visit the ' +\n",
              "          '<a target=\"_blank\" href=https://colab.research.google.com/notebooks/data_table.ipynb>data table notebook</a>'\n",
              "          + ' to learn more about interactive tables.';\n",
              "        element.innerHTML = '';\n",
              "        dataTable['output_type'] = 'display_data';\n",
              "        await google.colab.output.renderOutput(dataTable, element);\n",
              "        const docLink = document.createElement('div');\n",
              "        docLink.innerHTML = docLinkHtml;\n",
              "        element.appendChild(docLink);\n",
              "      }\n",
              "    </script>\n",
              "  </div>\n",
              "\n",
              "\n",
              "<div id=\"df-3d4bb142-9b47-4ea0-b0b7-650cc39621d8\">\n",
              "  <button class=\"colab-df-quickchart\" onclick=\"quickchart('df-3d4bb142-9b47-4ea0-b0b7-650cc39621d8')\"\n",
              "            title=\"Suggest charts\"\n",
              "            style=\"display:none;\">\n",
              "\n",
              "<svg xmlns=\"http://www.w3.org/2000/svg\" height=\"24px\"viewBox=\"0 0 24 24\"\n",
              "     width=\"24px\">\n",
              "    <g>\n",
              "        <path d=\"M19 3H5c-1.1 0-2 .9-2 2v14c0 1.1.9 2 2 2h14c1.1 0 2-.9 2-2V5c0-1.1-.9-2-2-2zM9 17H7v-7h2v7zm4 0h-2V7h2v10zm4 0h-2v-4h2v4z\"/>\n",
              "    </g>\n",
              "</svg>\n",
              "  </button>\n",
              "\n",
              "<style>\n",
              "  .colab-df-quickchart {\n",
              "      --bg-color: #E8F0FE;\n",
              "      --fill-color: #1967D2;\n",
              "      --hover-bg-color: #E2EBFA;\n",
              "      --hover-fill-color: #174EA6;\n",
              "      --disabled-fill-color: #AAA;\n",
              "      --disabled-bg-color: #DDD;\n",
              "  }\n",
              "\n",
              "  [theme=dark] .colab-df-quickchart {\n",
              "      --bg-color: #3B4455;\n",
              "      --fill-color: #D2E3FC;\n",
              "      --hover-bg-color: #434B5C;\n",
              "      --hover-fill-color: #FFFFFF;\n",
              "      --disabled-bg-color: #3B4455;\n",
              "      --disabled-fill-color: #666;\n",
              "  }\n",
              "\n",
              "  .colab-df-quickchart {\n",
              "    background-color: var(--bg-color);\n",
              "    border: none;\n",
              "    border-radius: 50%;\n",
              "    cursor: pointer;\n",
              "    display: none;\n",
              "    fill: var(--fill-color);\n",
              "    height: 32px;\n",
              "    padding: 0;\n",
              "    width: 32px;\n",
              "  }\n",
              "\n",
              "  .colab-df-quickchart:hover {\n",
              "    background-color: var(--hover-bg-color);\n",
              "    box-shadow: 0 1px 2px rgba(60, 64, 67, 0.3), 0 1px 3px 1px rgba(60, 64, 67, 0.15);\n",
              "    fill: var(--button-hover-fill-color);\n",
              "  }\n",
              "\n",
              "  .colab-df-quickchart-complete:disabled,\n",
              "  .colab-df-quickchart-complete:disabled:hover {\n",
              "    background-color: var(--disabled-bg-color);\n",
              "    fill: var(--disabled-fill-color);\n",
              "    box-shadow: none;\n",
              "  }\n",
              "\n",
              "  .colab-df-spinner {\n",
              "    border: 2px solid var(--fill-color);\n",
              "    border-color: transparent;\n",
              "    border-bottom-color: var(--fill-color);\n",
              "    animation:\n",
              "      spin 1s steps(1) infinite;\n",
              "  }\n",
              "\n",
              "  @keyframes spin {\n",
              "    0% {\n",
              "      border-color: transparent;\n",
              "      border-bottom-color: var(--fill-color);\n",
              "      border-left-color: var(--fill-color);\n",
              "    }\n",
              "    20% {\n",
              "      border-color: transparent;\n",
              "      border-left-color: var(--fill-color);\n",
              "      border-top-color: var(--fill-color);\n",
              "    }\n",
              "    30% {\n",
              "      border-color: transparent;\n",
              "      border-left-color: var(--fill-color);\n",
              "      border-top-color: var(--fill-color);\n",
              "      border-right-color: var(--fill-color);\n",
              "    }\n",
              "    40% {\n",
              "      border-color: transparent;\n",
              "      border-right-color: var(--fill-color);\n",
              "      border-top-color: var(--fill-color);\n",
              "    }\n",
              "    60% {\n",
              "      border-color: transparent;\n",
              "      border-right-color: var(--fill-color);\n",
              "    }\n",
              "    80% {\n",
              "      border-color: transparent;\n",
              "      border-right-color: var(--fill-color);\n",
              "      border-bottom-color: var(--fill-color);\n",
              "    }\n",
              "    90% {\n",
              "      border-color: transparent;\n",
              "      border-bottom-color: var(--fill-color);\n",
              "    }\n",
              "  }\n",
              "</style>\n",
              "\n",
              "  <script>\n",
              "    async function quickchart(key) {\n",
              "      const quickchartButtonEl =\n",
              "        document.querySelector('#' + key + ' button');\n",
              "      quickchartButtonEl.disabled = true;  // To prevent multiple clicks.\n",
              "      quickchartButtonEl.classList.add('colab-df-spinner');\n",
              "      try {\n",
              "        const charts = await google.colab.kernel.invokeFunction(\n",
              "            'suggestCharts', [key], {});\n",
              "      } catch (error) {\n",
              "        console.error('Error during call to suggestCharts:', error);\n",
              "      }\n",
              "      quickchartButtonEl.classList.remove('colab-df-spinner');\n",
              "      quickchartButtonEl.classList.add('colab-df-quickchart-complete');\n",
              "    }\n",
              "    (() => {\n",
              "      let quickchartButtonEl =\n",
              "        document.querySelector('#df-3d4bb142-9b47-4ea0-b0b7-650cc39621d8 button');\n",
              "      quickchartButtonEl.style.display =\n",
              "        google.colab.kernel.accessAllowed ? 'block' : 'none';\n",
              "    })();\n",
              "  </script>\n",
              "</div>\n",
              "\n",
              "    </div>\n",
              "  </div>\n"
            ],
            "application/vnd.google.colaboratory.intrinsic+json": {
              "type": "dataframe",
              "variable_name": "netflix_df",
              "summary": "{\n  \"name\": \"netflix_df\",\n  \"rows\": 7293,\n  \"fields\": [\n    {\n      \"column\": \"show_id\",\n      \"properties\": {\n        \"dtype\": \"string\",\n        \"num_unique_values\": 7293,\n        \"samples\": [\n          \"s6916\",\n          \"s2235\",\n          \"s3648\"\n        ],\n        \"semantic_type\": \"\",\n        \"description\": \"\"\n      }\n    },\n    {\n      \"column\": \"type\",\n      \"properties\": {\n        \"dtype\": \"category\",\n        \"num_unique_values\": 2,\n        \"samples\": [\n          \"Movie\",\n          \"TV Show\"\n        ],\n        \"semantic_type\": \"\",\n        \"description\": \"\"\n      }\n    },\n    {\n      \"column\": \"title\",\n      \"properties\": {\n        \"dtype\": \"string\",\n        \"num_unique_values\": 7293,\n        \"samples\": [\n          \"Hangman\",\n          \"Cold Feet\"\n        ],\n        \"semantic_type\": \"\",\n        \"description\": \"\"\n      }\n    },\n    {\n      \"column\": \"director\",\n      \"properties\": {\n        \"dtype\": \"string\",\n        \"num_unique_values\": 3947,\n        \"samples\": [\n          \"Janusz Majewski\",\n          \"Felix Starck\"\n        ],\n        \"semantic_type\": \"\",\n        \"description\": \"\"\n      }\n    },\n    {\n      \"column\": \"cast\",\n      \"properties\": {\n        \"dtype\": \"string\",\n        \"num_unique_values\": 7095,\n        \"samples\": [\n          \"Liam Neeson, Diane Kruger, January Jones, Aidan Quinn, Bruno Ganz, Frank Langella, Sebastian Koch, Olivier Schneider, Stipe Erceg, Rainer Bock\",\n          \"Syrus Shahidi, Lionel Abelanski, Charlotte Gabris, Tom Hygreck, Sylvain Quimene, Laura Boujenah, Foed Amara\"\n        ],\n        \"semantic_type\": \"\",\n        \"description\": \"\"\n      }\n    },\n    {\n      \"column\": \"country\",\n      \"properties\": {\n        \"dtype\": \"category\",\n        \"num_unique_values\": 689,\n        \"samples\": [\n          \"Netherlands, Germany, Denmark, United Kingdom\",\n          \"United Kingdom, Canada, France, United States\"\n        ],\n        \"semantic_type\": \"\",\n        \"description\": \"\"\n      }\n    },\n    {\n      \"column\": \"date_added\",\n      \"properties\": {\n        \"dtype\": \"category\",\n        \"num_unique_values\": 1673,\n        \"samples\": [\n          \"April 25, 2020\",\n          \"April 13, 2019\"\n        ],\n        \"semantic_type\": \"\",\n        \"description\": \"\"\n      }\n    },\n    {\n      \"column\": \"release_year\",\n      \"properties\": {\n        \"dtype\": \"number\",\n        \"std\": 8,\n        \"min\": 1942,\n        \"max\": 2021,\n        \"num_unique_values\": 72,\n        \"samples\": [\n          1998,\n          1977\n        ],\n        \"semantic_type\": \"\",\n        \"description\": \"\"\n      }\n    },\n    {\n      \"column\": \"age_certification\",\n      \"properties\": {\n        \"dtype\": \"category\",\n        \"num_unique_values\": 14,\n        \"samples\": [\n          \"G\",\n          \"NR\"\n        ],\n        \"semantic_type\": \"\",\n        \"description\": \"\"\n      }\n    },\n    {\n      \"column\": \"num_releases\",\n      \"properties\": {\n        \"dtype\": \"number\",\n        \"std\": 0,\n        \"min\": 1,\n        \"max\": 17,\n        \"num_unique_values\": 15,\n        \"samples\": [\n          8,\n          13\n        ],\n        \"semantic_type\": \"\",\n        \"description\": \"\"\n      }\n    },\n    {\n      \"column\": \"listed_in\",\n      \"properties\": {\n        \"dtype\": \"category\",\n        \"num_unique_values\": 489,\n        \"samples\": [\n          \"British TV Shows, TV Dramas, TV Sci-Fi & Fantasy\",\n          \"TV Dramas, TV Horror, TV Mysteries\"\n        ],\n        \"semantic_type\": \"\",\n        \"description\": \"\"\n      }\n    },\n    {\n      \"column\": \"description\",\n      \"properties\": {\n        \"dtype\": \"string\",\n        \"num_unique_values\": 7280,\n        \"samples\": [\n          \"Upon returning to his industrial hometown, a young man must decide whether to follow his own dreams or acquiesce to his father's plans for his future.\",\n          \"A huge fan of a Korean TV drama is transported to a magical realm where she has the power to alter her favorite show's story line as a \\\"Facilitator.\\\"\"\n        ],\n        \"semantic_type\": \"\",\n        \"description\": \"\"\n      }\n    },\n    {\n      \"column\": \"num_listed_in\",\n      \"properties\": {\n        \"dtype\": \"number\",\n        \"std\": 0,\n        \"min\": 1,\n        \"max\": 3,\n        \"num_unique_values\": 3,\n        \"samples\": [\n          3,\n          2\n        ],\n        \"semantic_type\": \"\",\n        \"description\": \"\"\n      }\n    },\n    {\n      \"column\": \"first_cast\",\n      \"properties\": {\n        \"dtype\": \"string\",\n        \"num_unique_values\": 5020,\n        \"samples\": [\n          \"Mirai Shida\",\n          \"Sean Faris\"\n        ],\n        \"semantic_type\": \"\",\n        \"description\": \"\"\n      }\n    },\n    {\n      \"column\": \"cast_freq_mean\",\n      \"properties\": {\n        \"dtype\": \"number\",\n        \"std\": 2.824645610312923,\n        \"min\": 1.0,\n        \"max\": 31.0,\n        \"num_unique_values\": 759,\n        \"samples\": [\n          1.0769230769230769,\n          9.454545454545457\n        ],\n        \"semantic_type\": \"\",\n        \"description\": \"\"\n      }\n    },\n    {\n      \"column\": \"genre_freq_mean\",\n      \"properties\": {\n        \"dtype\": \"number\",\n        \"std\": 662.299370470267,\n        \"min\": 5.0,\n        \"max\": 2392.0,\n        \"num_unique_values\": 466,\n        \"samples\": [\n          421.0,\n          968.6666666666666\n        ],\n        \"semantic_type\": \"\",\n        \"description\": \"\"\n      }\n    }\n  ]\n}"
            }
          },
          "metadata": {},
          "execution_count": 7
        }
      ],
      "source": [
        "netflix_df.head()"
      ]
    },
    {
      "cell_type": "code",
      "execution_count": null,
      "id": "7e5c5a5a-8aa4-4d20-9864-6adc14661d48",
      "metadata": {
        "colab": {
          "base_uri": "https://localhost:8080/"
        },
        "id": "7e5c5a5a-8aa4-4d20-9864-6adc14661d48",
        "outputId": "8fdc8d7c-cb82-44d7-c5e6-d0b0dc85b1d2"
      },
      "outputs": [
        {
          "output_type": "stream",
          "name": "stdout",
          "text": [
            "<class 'pandas.core.frame.DataFrame'>\n",
            "RangeIndex: 2477 entries, 0 to 2476\n",
            "Data columns (total 21 columns):\n",
            " #   Column             Non-Null Count  Dtype  \n",
            "---  ------             --------------  -----  \n",
            " 0   title              2477 non-null   object \n",
            " 1   description_x      2477 non-null   object \n",
            " 2   release_year       2477 non-null   int64  \n",
            " 3   runtime            2477 non-null   int64  \n",
            " 4   imdb_id            2477 non-null   object \n",
            " 5   imdb_score         2477 non-null   float64\n",
            " 6   imdb_votes         2477 non-null   int64  \n",
            " 7   show_id            2477 non-null   object \n",
            " 8   type               2477 non-null   object \n",
            " 9   director           2477 non-null   object \n",
            " 10  cast               2477 non-null   object \n",
            " 11  country            2477 non-null   object \n",
            " 12  date_added         2477 non-null   object \n",
            " 13  age_certification  2477 non-null   object \n",
            " 14  num_releases       2477 non-null   int64  \n",
            " 15  listed_in          2477 non-null   object \n",
            " 16  description_y      2477 non-null   object \n",
            " 17  num_listed_in      2477 non-null   int64  \n",
            " 18  first_cast         2477 non-null   object \n",
            " 19  cast_freq_mean     2477 non-null   float64\n",
            " 20  genre_freq_mean    2477 non-null   float64\n",
            "dtypes: float64(3), int64(5), object(13)\n",
            "memory usage: 406.5+ KB\n"
          ]
        }
      ],
      "source": [
        "# Perform an inner join on film title and release year\n",
        "netflix_film_imdb_data = pd.merge(imdb_df, netflix_df, how='inner', on=['title', 'release_year'])\n",
        "\n",
        "# The duplicate type and age certification are redundant\n",
        "# Remove one of each from the merged data and retain the columns which\n",
        "# do not contain missing values\n",
        "#\n",
        "# Merging with duplicate columns forced a renaming,\n",
        "# so revert the columns back to the original naming\n",
        "netflix_film_imdb_data = netflix_film_imdb_data \\\n",
        "            .drop(columns=['type_x', 'age_certification_x']) \\\n",
        "            .rename(columns={'type_y': 'type', 'age_certification_y': 'age_certification'})\n",
        "\n",
        "netflix_film_imdb_data.info()"
      ]
    },
    {
      "cell_type": "markdown",
      "source": [
        "# **Outlier Analysis**"
      ],
      "metadata": {
        "id": "yWie2b8Szv-a"
      },
      "id": "yWie2b8Szv-a"
    },
    {
      "cell_type": "markdown",
      "source": [
        "Columns with outliers:\n",
        "*   release_year\n",
        "*   runtime\n",
        "*   imdb_score\n",
        "*   imdb_votes\n",
        "*   num_releases\n",
        "*   cast_freq_mean"
      ],
      "metadata": {
        "id": "pp2B3_Z5LGEc"
      },
      "id": "pp2B3_Z5LGEc"
    },
    {
      "cell_type": "markdown",
      "source": [
        "**Outliers for release_year**\n",
        "\n",
        "*   The release_year column holds the year that the movie was released in (19XX or 20XX). The distribution has a negative skew, std of 7.3, and a median of 2018. All 335 outliers fall below the lower bound of 2011.5.\n",
        "\n",
        "*   The datasets we used are based off of the Netflix library which is not a complete library, but one that holds popular enough movies that Netflix streams for its customers. Because Netflix's library is dependent on the popularity of movies and TV shows, it makes perfect sense that movies released longer ago will generally be less popular because people have seen them, while newer content will be more popular because fewer people have seen those movies and TV shows. It also makes sense that there is not a large portion of the distribution centered around 2020 because COVID-19 created a halt in the movie industry.\n",
        "\n",
        "*   The slow decline in frequency of data points as time goes back is consistent with this information. Therefore, the outliers in this column accurately represent the expected distribution of the release year for each movie and TV show."
      ],
      "metadata": {
        "id": "AYxvQH0LiScK"
      },
      "id": "AYxvQH0LiScK"
    },
    {
      "cell_type": "code",
      "source": [
        "# release_year outliers\n",
        "col = 'release_year'\n",
        "iqr = netflix_film_imdb_data[col].quantile(0.75) - netflix_film_imdb_data[col].quantile(0.25)\n",
        "\n",
        "lower_bound = netflix_film_imdb_data[col].quantile(0.25) - 1.5 * iqr\n",
        "upper_bound = netflix_film_imdb_data[col].quantile(0.75) + 1.5 * iqr\n",
        "\n",
        "print(f\"Number of '{col}' outliers: {((netflix_film_imdb_data[col] < lower_bound) | (netflix_film_imdb_data[col] > upper_bound)).sum()}\")\n",
        "print(f\"Upper Bound: {upper_bound}\")\n",
        "print(f\"Lower Bound: {lower_bound}\")\n",
        "print(f\"Median: {netflix_film_imdb_data[col].median()}\")\n",
        "print(f\"Skew: {netflix_film_imdb_data[col].skew()}\")\n",
        "netflix_film_imdb_data.boxplot(column=[col])\n",
        "netflix_film_imdb_data[col].describe()"
      ],
      "metadata": {
        "colab": {
          "base_uri": "https://localhost:8080/",
          "height": 835
        },
        "id": "k6yLdGREz150",
        "outputId": "5f64b6a0-a5d8-4799-f65c-4c0d7b06667b"
      },
      "id": "k6yLdGREz150",
      "execution_count": null,
      "outputs": [
        {
          "output_type": "stream",
          "name": "stdout",
          "text": [
            "Number of 'release_year' outliers: 335\n",
            "Upper Bound: 2023.5\n",
            "Lower Bound: 2011.5\n",
            "Median: 2018.0\n",
            "Skew: -4.042983632542392\n"
          ]
        },
        {
          "output_type": "execute_result",
          "data": {
            "text/plain": [
              "count    2477.000000\n",
              "mean     2015.745660\n",
              "std         7.300435\n",
              "min      1954.000000\n",
              "25%      2016.000000\n",
              "50%      2018.000000\n",
              "75%      2019.000000\n",
              "max      2021.000000\n",
              "Name: release_year, dtype: float64"
            ],
            "text/html": [
              "<div>\n",
              "<style scoped>\n",
              "    .dataframe tbody tr th:only-of-type {\n",
              "        vertical-align: middle;\n",
              "    }\n",
              "\n",
              "    .dataframe tbody tr th {\n",
              "        vertical-align: top;\n",
              "    }\n",
              "\n",
              "    .dataframe thead th {\n",
              "        text-align: right;\n",
              "    }\n",
              "</style>\n",
              "<table border=\"1\" class=\"dataframe\">\n",
              "  <thead>\n",
              "    <tr style=\"text-align: right;\">\n",
              "      <th></th>\n",
              "      <th>release_year</th>\n",
              "    </tr>\n",
              "  </thead>\n",
              "  <tbody>\n",
              "    <tr>\n",
              "      <th>count</th>\n",
              "      <td>2477.000000</td>\n",
              "    </tr>\n",
              "    <tr>\n",
              "      <th>mean</th>\n",
              "      <td>2015.745660</td>\n",
              "    </tr>\n",
              "    <tr>\n",
              "      <th>std</th>\n",
              "      <td>7.300435</td>\n",
              "    </tr>\n",
              "    <tr>\n",
              "      <th>min</th>\n",
              "      <td>1954.000000</td>\n",
              "    </tr>\n",
              "    <tr>\n",
              "      <th>25%</th>\n",
              "      <td>2016.000000</td>\n",
              "    </tr>\n",
              "    <tr>\n",
              "      <th>50%</th>\n",
              "      <td>2018.000000</td>\n",
              "    </tr>\n",
              "    <tr>\n",
              "      <th>75%</th>\n",
              "      <td>2019.000000</td>\n",
              "    </tr>\n",
              "    <tr>\n",
              "      <th>max</th>\n",
              "      <td>2021.000000</td>\n",
              "    </tr>\n",
              "  </tbody>\n",
              "</table>\n",
              "</div><br><label><b>dtype:</b> float64</label>"
            ]
          },
          "metadata": {},
          "execution_count": 91
        },
        {
          "output_type": "display_data",
          "data": {
            "text/plain": [
              "<Figure size 640x480 with 1 Axes>"
            ],
            "image/png": "[encoded data removed]"
          },
          "metadata": {}
        }
      ]
    },
    {
      "cell_type": "markdown",
      "source": [
        "**Outliers for runtime**\n",
        "*   The runtime column holds the minute duration of the movie or single episode of the show. The distribution has a median of 94, std of 37.49 and a slight negative skew. All 6 outliers fall above the upper bound of 190.\n",
        "\n",
        "*   Because this column holds the runtime and because the outliers are not far above the upper bound, there is no concern of this affecting the data set. The runtime column should record the real runtime of the movie or TV episode and a variability in runtimes is expected. It is also expected that very few movies exceed the 180 minute mark based on movie runtime history and that is represented in the data.\n",
        "\n",
        "*   We will keep these outliers to maintain accuracy to the data and to possibly use these large runtimes to see how runtime affects things like rating."
      ],
      "metadata": {
        "id": "lFFnKtlgh1R6"
      },
      "id": "lFFnKtlgh1R6"
    },
    {
      "cell_type": "code",
      "source": [
        "# runtume outliers\n",
        "col = 'runtime'\n",
        "iqr = netflix_film_imdb_data[col].quantile(0.75) - netflix_film_imdb_data[col].quantile(0.25)\n",
        "\n",
        "lower_bound = netflix_film_imdb_data[col].quantile(0.25) - 1.5 * iqr\n",
        "upper_bound = netflix_film_imdb_data[col].quantile(0.75) + 1.5 * iqr\n",
        "\n",
        "print(f\"Number of '{col}' outliers: {((netflix_film_imdb_data[col] < lower_bound) | (netflix_film_imdb_data[col] > upper_bound)).sum()}\")\n",
        "print(f\"Upper Bound: {upper_bound}\")\n",
        "print(f\"Lower Bound: {lower_bound}\")\n",
        "print(f\"Median: {netflix_film_imdb_data[col].median()}\")\n",
        "print(f\"Skew: {netflix_film_imdb_data[col].skew()}\")\n",
        "netflix_film_imdb_data.boxplot(column=[col])\n",
        "netflix_film_imdb_data[col].describe()"
      ],
      "metadata": {
        "colab": {
          "base_uri": "https://localhost:8080/",
          "height": 835
        },
        "id": "NydgOsOOhAnc",
        "outputId": "413f546b-83df-4bff-f8be-9d642dbb2e4d"
      },
      "id": "NydgOsOOhAnc",
      "execution_count": null,
      "outputs": [
        {
          "output_type": "stream",
          "name": "stdout",
          "text": [
            "Number of 'runtime' outliers: 6\n",
            "Upper Bound: 190.0\n",
            "Lower Bound: -18.0\n",
            "Median: 94.0\n",
            "Skew: -0.034278256651771324\n"
          ]
        },
        {
          "output_type": "execute_result",
          "data": {
            "text/plain": [
              "count    2477.000000\n",
              "mean       88.945902\n",
              "std        37.487654\n",
              "min         0.000000\n",
              "25%        60.000000\n",
              "50%        94.000000\n",
              "75%       112.000000\n",
              "max       229.000000\n",
              "Name: runtime, dtype: float64"
            ],
            "text/html": [
              "<div>\n",
              "<style scoped>\n",
              "    .dataframe tbody tr th:only-of-type {\n",
              "        vertical-align: middle;\n",
              "    }\n",
              "\n",
              "    .dataframe tbody tr th {\n",
              "        vertical-align: top;\n",
              "    }\n",
              "\n",
              "    .dataframe thead th {\n",
              "        text-align: right;\n",
              "    }\n",
              "</style>\n",
              "<table border=\"1\" class=\"dataframe\">\n",
              "  <thead>\n",
              "    <tr style=\"text-align: right;\">\n",
              "      <th></th>\n",
              "      <th>runtime</th>\n",
              "    </tr>\n",
              "  </thead>\n",
              "  <tbody>\n",
              "    <tr>\n",
              "      <th>count</th>\n",
              "      <td>2477.000000</td>\n",
              "    </tr>\n",
              "    <tr>\n",
              "      <th>mean</th>\n",
              "      <td>88.945902</td>\n",
              "    </tr>\n",
              "    <tr>\n",
              "      <th>std</th>\n",
              "      <td>37.487654</td>\n",
              "    </tr>\n",
              "    <tr>\n",
              "      <th>min</th>\n",
              "      <td>0.000000</td>\n",
              "    </tr>\n",
              "    <tr>\n",
              "      <th>25%</th>\n",
              "      <td>60.000000</td>\n",
              "    </tr>\n",
              "    <tr>\n",
              "      <th>50%</th>\n",
              "      <td>94.000000</td>\n",
              "    </tr>\n",
              "    <tr>\n",
              "      <th>75%</th>\n",
              "      <td>112.000000</td>\n",
              "    </tr>\n",
              "    <tr>\n",
              "      <th>max</th>\n",
              "      <td>229.000000</td>\n",
              "    </tr>\n",
              "  </tbody>\n",
              "</table>\n",
              "</div><br><label><b>dtype:</b> float64</label>"
            ]
          },
          "metadata": {},
          "execution_count": 93
        },
        {
          "output_type": "display_data",
          "data": {
            "text/plain": [
              "<Figure size 640x480 with 1 Axes>"
            ],
            "image/png": "[encoded data removed]"
          },
          "metadata": {}
        }
      ]
    },
    {
      "cell_type": "markdown",
      "source": [
        "**Outliers for imdb_score**\n",
        "*   The imdb_score column holds the IMDb score for each movie between 1-10 where higher is better. The distribution has a median of 6.5, std of 1.14, and slight negative skew.\n",
        "\n",
        "*   The outliers for this dataset are low ratings that range from 3.45 to 1.5. These outliers do not negatively affect the data in any way. A small number of low ratings are expected as well as a decrease in the frequency of data points as the score lowers. This is partly due to Netflix only streaming movies that are popular and the IMDb score is a decent indicator of the movie being popular.\n",
        "\n",
        "* These outliers are good to have and could be helpful for determining factors that could play into the popularity or lack thereof for a movie or TV show."
      ],
      "metadata": {
        "id": "w-c-uqRFiZpv"
      },
      "id": "w-c-uqRFiZpv"
    },
    {
      "cell_type": "code",
      "source": [
        "# imdb_score outliers\n",
        "col = 'imdb_score'\n",
        "iqr = netflix_film_imdb_data[col].quantile(0.75) - netflix_film_imdb_data[col].quantile(0.25)\n",
        "\n",
        "lower_bound = netflix_film_imdb_data[col].quantile(0.25) - 1.5 * iqr\n",
        "upper_bound = netflix_film_imdb_data[col].quantile(0.75) + 1.5 * iqr\n",
        "\n",
        "print(f\"Number of '{col}' outliers: {((netflix_film_imdb_data[col] < lower_bound) | (netflix_film_imdb_data[col] > upper_bound)).sum()}\")\n",
        "print(f\"Upper Bound: {upper_bound}\")\n",
        "print(f\"Lower Bound: {lower_bound}\")\n",
        "print(f\"Median: {netflix_film_imdb_data[col].median()}\")\n",
        "print(f\"Skew: {netflix_film_imdb_data[col].skew()}\")\n",
        "netflix_film_imdb_data.boxplot(column=[col])\n",
        "netflix_film_imdb_data[col].describe()"
      ],
      "metadata": {
        "colab": {
          "base_uri": "https://localhost:8080/",
          "height": 835
        },
        "id": "-VjpAat9hDXM",
        "outputId": "96faafd3-ac22-447e-9fa1-d3b952f30f97"
      },
      "id": "-VjpAat9hDXM",
      "execution_count": null,
      "outputs": [
        {
          "output_type": "stream",
          "name": "stdout",
          "text": [
            "Number of 'imdb_score' outliers: 44\n",
            "Upper Bound: 9.45\n",
            "Lower Bound: 3.45\n",
            "Median: 6.5\n",
            "Skew: -0.5998179409558249\n"
          ]
        },
        {
          "output_type": "execute_result",
          "data": {
            "text/plain": [
              "count    2477.000000\n",
              "mean        6.384457\n",
              "std         1.143071\n",
              "min         1.500000\n",
              "25%         5.700000\n",
              "50%         6.500000\n",
              "75%         7.200000\n",
              "max         9.300000\n",
              "Name: imdb_score, dtype: float64"
            ],
            "text/html": [
              "<div>\n",
              "<style scoped>\n",
              "    .dataframe tbody tr th:only-of-type {\n",
              "        vertical-align: middle;\n",
              "    }\n",
              "\n",
              "    .dataframe tbody tr th {\n",
              "        vertical-align: top;\n",
              "    }\n",
              "\n",
              "    .dataframe thead th {\n",
              "        text-align: right;\n",
              "    }\n",
              "</style>\n",
              "<table border=\"1\" class=\"dataframe\">\n",
              "  <thead>\n",
              "    <tr style=\"text-align: right;\">\n",
              "      <th></th>\n",
              "      <th>imdb_score</th>\n",
              "    </tr>\n",
              "  </thead>\n",
              "  <tbody>\n",
              "    <tr>\n",
              "      <th>count</th>\n",
              "      <td>2477.000000</td>\n",
              "    </tr>\n",
              "    <tr>\n",
              "      <th>mean</th>\n",
              "      <td>6.384457</td>\n",
              "    </tr>\n",
              "    <tr>\n",
              "      <th>std</th>\n",
              "      <td>1.143071</td>\n",
              "    </tr>\n",
              "    <tr>\n",
              "      <th>min</th>\n",
              "      <td>1.500000</td>\n",
              "    </tr>\n",
              "    <tr>\n",
              "      <th>25%</th>\n",
              "      <td>5.700000</td>\n",
              "    </tr>\n",
              "    <tr>\n",
              "      <th>50%</th>\n",
              "      <td>6.500000</td>\n",
              "    </tr>\n",
              "    <tr>\n",
              "      <th>75%</th>\n",
              "      <td>7.200000</td>\n",
              "    </tr>\n",
              "    <tr>\n",
              "      <th>max</th>\n",
              "      <td>9.300000</td>\n",
              "    </tr>\n",
              "  </tbody>\n",
              "</table>\n",
              "</div><br><label><b>dtype:</b> float64</label>"
            ]
          },
          "metadata": {},
          "execution_count": 94
        },
        {
          "output_type": "display_data",
          "data": {
            "text/plain": [
              "<Figure size 640x480 with 1 Axes>"
            ],
            "image/png": "[encoded data removed]"
          },
          "metadata": {}
        }
      ]
    },
    {
      "cell_type": "markdown",
      "source": [
        "**Outliers for imdb_votes**\n",
        "*   The imdb_votes column holds the number of votes a movie reveived for its imdb_score. The distribution has a median at 2731, a std of 80048.3, and a strong positive skew.\n",
        "\n",
        "*   The extreme distance between the median and the outliers on this column is expected because the difference in vote counts varies exponentially and is highly dependent on things like popularity, director, actors.\n",
        "\n",
        "*   These outliers will be useful in our analysis along with imdb_score to see if vote count is directly related to a higher imdb_score or if it contributes to certain directors or cast members."
      ],
      "metadata": {
        "id": "-I7N9zy8iqmH"
      },
      "id": "-I7N9zy8iqmH"
    },
    {
      "cell_type": "code",
      "source": [
        "# imdb_votes outliers\n",
        "col = 'imdb_votes'\n",
        "iqr = netflix_film_imdb_data[col].quantile(0.75) - netflix_film_imdb_data[col].quantile(0.25)\n",
        "\n",
        "lower_bound = netflix_film_imdb_data[col].quantile(0.25) - 1.5 * iqr\n",
        "upper_bound = netflix_film_imdb_data[col].quantile(0.75) + 1.5 * iqr\n",
        "\n",
        "print(f\"Number of '{col}' outliers: {((netflix_film_imdb_data[col] < lower_bound) | (netflix_film_imdb_data[col] > upper_bound)).sum()}\")\n",
        "print(f\"Upper Bound: {upper_bound}\")\n",
        "print(f\"Lower Bound: {lower_bound}\")\n",
        "print(f\"Median: {netflix_film_imdb_data[col].median()}\")\n",
        "print(f\"Skew: {netflix_film_imdb_data[col].skew()}\")\n",
        "netflix_film_imdb_data.boxplot(column=[col])\n",
        "netflix_film_imdb_data[col].describe()"
      ],
      "metadata": {
        "colab": {
          "base_uri": "https://localhost:8080/",
          "height": 850
        },
        "id": "ZvDW__vKhD2E",
        "outputId": "57aca843-22f6-47fe-ac4a-90d676d828d1"
      },
      "id": "ZvDW__vKhD2E",
      "execution_count": null,
      "outputs": [
        {
          "output_type": "stream",
          "name": "stdout",
          "text": [
            "Number of 'imdb_votes' outliers: 353\n",
            "Upper Bound: 27104.5\n",
            "Lower Bound: -15235.5\n",
            "Median: 2731.0\n",
            "Skew: 13.910962834300427\n"
          ]
        },
        {
          "output_type": "execute_result",
          "data": {
            "text/plain": [
              "count    2.477000e+03\n",
              "mean     2.103402e+04\n",
              "std      8.004830e+04\n",
              "min      6.000000e+00\n",
              "25%      6.420000e+02\n",
              "50%      2.731000e+03\n",
              "75%      1.122700e+04\n",
              "max      2.268288e+06\n",
              "Name: imdb_votes, dtype: float64"
            ],
            "text/html": [
              "<div>\n",
              "<style scoped>\n",
              "    .dataframe tbody tr th:only-of-type {\n",
              "        vertical-align: middle;\n",
              "    }\n",
              "\n",
              "    .dataframe tbody tr th {\n",
              "        vertical-align: top;\n",
              "    }\n",
              "\n",
              "    .dataframe thead th {\n",
              "        text-align: right;\n",
              "    }\n",
              "</style>\n",
              "<table border=\"1\" class=\"dataframe\">\n",
              "  <thead>\n",
              "    <tr style=\"text-align: right;\">\n",
              "      <th></th>\n",
              "      <th>imdb_votes</th>\n",
              "    </tr>\n",
              "  </thead>\n",
              "  <tbody>\n",
              "    <tr>\n",
              "      <th>count</th>\n",
              "      <td>2.477000e+03</td>\n",
              "    </tr>\n",
              "    <tr>\n",
              "      <th>mean</th>\n",
              "      <td>2.103402e+04</td>\n",
              "    </tr>\n",
              "    <tr>\n",
              "      <th>std</th>\n",
              "      <td>8.004830e+04</td>\n",
              "    </tr>\n",
              "    <tr>\n",
              "      <th>min</th>\n",
              "      <td>6.000000e+00</td>\n",
              "    </tr>\n",
              "    <tr>\n",
              "      <th>25%</th>\n",
              "      <td>6.420000e+02</td>\n",
              "    </tr>\n",
              "    <tr>\n",
              "      <th>50%</th>\n",
              "      <td>2.731000e+03</td>\n",
              "    </tr>\n",
              "    <tr>\n",
              "      <th>75%</th>\n",
              "      <td>1.122700e+04</td>\n",
              "    </tr>\n",
              "    <tr>\n",
              "      <th>max</th>\n",
              "      <td>2.268288e+06</td>\n",
              "    </tr>\n",
              "  </tbody>\n",
              "</table>\n",
              "</div><br><label><b>dtype:</b> float64</label>"
            ]
          },
          "metadata": {},
          "execution_count": 95
        },
        {
          "output_type": "display_data",
          "data": {
            "text/plain": [
              "<Figure size 640x480 with 1 Axes>"
            ],
            "image/png": "[encoded data removed]"
          },
          "metadata": {}
        }
      ]
    },
    {
      "cell_type": "markdown",
      "source": [
        "**Outliers for num_releases**\n",
        "*   The num_releases column holds the number of times the content went through a release cycle (1 for movies, X for X seasons of TV show). The distribution has a median of 1, a std of 0.28, and a strong positive skew.\n",
        "\n",
        "*   Because all movies have a num_releases value of 1, it is expected that there would be a positive skew due to TV shows with a variable number of seasons(or releases). These outliers should remain in the dataset and could give us insight to how different aspects of a show could contribute to it getting more seasons."
      ],
      "metadata": {
        "id": "YJaCywHDitK9"
      },
      "id": "YJaCywHDitK9"
    },
    {
      "cell_type": "code",
      "source": [
        "# num_releases outliers\n",
        "col = 'num_releases'\n",
        "iqr = netflix_film_imdb_data[col].quantile(0.75) - netflix_film_imdb_data[col].quantile(0.25)\n",
        "\n",
        "lower_bound = netflix_film_imdb_data[col].quantile(0.25) - 1.5 * iqr\n",
        "upper_bound = netflix_film_imdb_data[col].quantile(0.75) + 1.5 * iqr\n",
        "\n",
        "print(f\"Number of '{col}' outliers: {((netflix_film_imdb_data[col] < lower_bound) | (netflix_film_imdb_data[col] > upper_bound)).sum()}\")\n",
        "print(f\"Upper Bound: {upper_bound}\")\n",
        "print(f\"Lower Bound: {lower_bound}\")\n",
        "print(f\"Median: {netflix_film_imdb_data[col].median()}\")\n",
        "print(f\"Skew: {netflix_film_imdb_data[col].skew()}\")\n",
        "netflix_film_imdb_data.boxplot(column=[col])\n",
        "netflix_film_imdb_data[col].describe()"
      ],
      "metadata": {
        "colab": {
          "base_uri": "https://localhost:8080/",
          "height": 835
        },
        "id": "GuU2Kn8WhEAi",
        "outputId": "d08c420a-9a94-4db4-be22-1d4861f0e1f8"
      },
      "id": "GuU2Kn8WhEAi",
      "execution_count": null,
      "outputs": [
        {
          "output_type": "stream",
          "name": "stdout",
          "text": [
            "Number of 'num_releases' outliers: 46\n",
            "Upper Bound: 1.0\n",
            "Lower Bound: 1.0\n",
            "Median: 1.0\n",
            "Skew: 31.568575544766507\n"
          ]
        },
        {
          "output_type": "execute_result",
          "data": {
            "text/plain": [
              "count    2477.000000\n",
              "mean        1.024627\n",
              "std         0.283853\n",
              "min         1.000000\n",
              "25%         1.000000\n",
              "50%         1.000000\n",
              "75%         1.000000\n",
              "max        13.000000\n",
              "Name: num_releases, dtype: float64"
            ],
            "text/html": [
              "<div>\n",
              "<style scoped>\n",
              "    .dataframe tbody tr th:only-of-type {\n",
              "        vertical-align: middle;\n",
              "    }\n",
              "\n",
              "    .dataframe tbody tr th {\n",
              "        vertical-align: top;\n",
              "    }\n",
              "\n",
              "    .dataframe thead th {\n",
              "        text-align: right;\n",
              "    }\n",
              "</style>\n",
              "<table border=\"1\" class=\"dataframe\">\n",
              "  <thead>\n",
              "    <tr style=\"text-align: right;\">\n",
              "      <th></th>\n",
              "      <th>num_releases</th>\n",
              "    </tr>\n",
              "  </thead>\n",
              "  <tbody>\n",
              "    <tr>\n",
              "      <th>count</th>\n",
              "      <td>2477.000000</td>\n",
              "    </tr>\n",
              "    <tr>\n",
              "      <th>mean</th>\n",
              "      <td>1.024627</td>\n",
              "    </tr>\n",
              "    <tr>\n",
              "      <th>std</th>\n",
              "      <td>0.283853</td>\n",
              "    </tr>\n",
              "    <tr>\n",
              "      <th>min</th>\n",
              "      <td>1.000000</td>\n",
              "    </tr>\n",
              "    <tr>\n",
              "      <th>25%</th>\n",
              "      <td>1.000000</td>\n",
              "    </tr>\n",
              "    <tr>\n",
              "      <th>50%</th>\n",
              "      <td>1.000000</td>\n",
              "    </tr>\n",
              "    <tr>\n",
              "      <th>75%</th>\n",
              "      <td>1.000000</td>\n",
              "    </tr>\n",
              "    <tr>\n",
              "      <th>max</th>\n",
              "      <td>13.000000</td>\n",
              "    </tr>\n",
              "  </tbody>\n",
              "</table>\n",
              "</div><br><label><b>dtype:</b> float64</label>"
            ]
          },
          "metadata": {},
          "execution_count": 96
        },
        {
          "output_type": "display_data",
          "data": {
            "text/plain": [
              "<Figure size 640x480 with 1 Axes>"
            ],
            "image/png": "[encoded data removed]"
          },
          "metadata": {}
        }
      ]
    },
    {
      "cell_type": "markdown",
      "source": [
        "**Outliers for cast_freq_mean**\n",
        "*   The cast_freq_mean column holds the average frequency of actors in other films which acts as a popularity metric where higher means more popular. The distribution has a median of 2.75, a std of 2.86, and a strong positive skew.\n",
        "\n",
        "*   These outliers are expected because the majority of actors will have a low frequency while a small handfull of actors will be stars and very popular in other movies. These outliers are very important because these actors will likely be a good indicator of a movie's success."
      ],
      "metadata": {
        "id": "f9IxWhw5iwON"
      },
      "id": "f9IxWhw5iwON"
    },
    {
      "cell_type": "code",
      "source": [
        "# cast_freq_mean outliers\n",
        "col = 'cast_freq_mean'\n",
        "iqr = netflix_film_imdb_data[col].quantile(0.75) - netflix_film_imdb_data[col].quantile(0.25)\n",
        "\n",
        "lower_bound = netflix_film_imdb_data[col].quantile(0.25) - 1.5 * iqr\n",
        "upper_bound = netflix_film_imdb_data[col].quantile(0.75) + 1.5 * iqr\n",
        "\n",
        "print(f\"Number of '{col}' outliers: {((netflix_film_imdb_data[col] < lower_bound) | (netflix_film_imdb_data[col] > upper_bound)).sum()}\")\n",
        "print(f\"Upper Bound: {upper_bound}\")\n",
        "print(f\"Lower Bound: {lower_bound}\")\n",
        "print(f\"Median: {netflix_film_imdb_data[col].median()}\")\n",
        "print(f\"Skew: {netflix_film_imdb_data[col].skew()}\")\n",
        "netflix_film_imdb_data.boxplot(column=[col])\n",
        "netflix_film_imdb_data[col].describe()"
      ],
      "metadata": {
        "colab": {
          "base_uri": "https://localhost:8080/",
          "height": 835
        },
        "id": "wKIJGZAzhEG4",
        "outputId": "43eb0a83-f703-4732-fb85-d2a76fe5f141"
      },
      "id": "wKIJGZAzhEG4",
      "execution_count": null,
      "outputs": [
        {
          "output_type": "stream",
          "name": "stdout",
          "text": [
            "Number of 'cast_freq_mean' outliers: 124\n",
            "Upper Bound: 9.607954545454547\n",
            "Lower Bound: -3.1647727272727275\n",
            "Median: 2.75\n",
            "Skew: 1.9186911905176498\n"
          ]
        },
        {
          "output_type": "execute_result",
          "data": {
            "text/plain": [
              "count    2477.000000\n",
              "mean        3.653759\n",
              "std         2.861283\n",
              "min         1.000000\n",
              "25%         1.625000\n",
              "50%         2.750000\n",
              "75%         4.818182\n",
              "max        21.000000\n",
              "Name: cast_freq_mean, dtype: float64"
            ],
            "text/html": [
              "<div>\n",
              "<style scoped>\n",
              "    .dataframe tbody tr th:only-of-type {\n",
              "        vertical-align: middle;\n",
              "    }\n",
              "\n",
              "    .dataframe tbody tr th {\n",
              "        vertical-align: top;\n",
              "    }\n",
              "\n",
              "    .dataframe thead th {\n",
              "        text-align: right;\n",
              "    }\n",
              "</style>\n",
              "<table border=\"1\" class=\"dataframe\">\n",
              "  <thead>\n",
              "    <tr style=\"text-align: right;\">\n",
              "      <th></th>\n",
              "      <th>cast_freq_mean</th>\n",
              "    </tr>\n",
              "  </thead>\n",
              "  <tbody>\n",
              "    <tr>\n",
              "      <th>count</th>\n",
              "      <td>2477.000000</td>\n",
              "    </tr>\n",
              "    <tr>\n",
              "      <th>mean</th>\n",
              "      <td>3.653759</td>\n",
              "    </tr>\n",
              "    <tr>\n",
              "      <th>std</th>\n",
              "      <td>2.861283</td>\n",
              "    </tr>\n",
              "    <tr>\n",
              "      <th>min</th>\n",
              "      <td>1.000000</td>\n",
              "    </tr>\n",
              "    <tr>\n",
              "      <th>25%</th>\n",
              "      <td>1.625000</td>\n",
              "    </tr>\n",
              "    <tr>\n",
              "      <th>50%</th>\n",
              "      <td>2.750000</td>\n",
              "    </tr>\n",
              "    <tr>\n",
              "      <th>75%</th>\n",
              "      <td>4.818182</td>\n",
              "    </tr>\n",
              "    <tr>\n",
              "      <th>max</th>\n",
              "      <td>21.000000</td>\n",
              "    </tr>\n",
              "  </tbody>\n",
              "</table>\n",
              "</div><br><label><b>dtype:</b> float64</label>"
            ]
          },
          "metadata": {},
          "execution_count": 97
        },
        {
          "output_type": "display_data",
          "data": {
            "text/plain": [
              "<Figure size 640x480 with 1 Axes>"
            ],
            "image/png": "[encoded data removed]"
          },
          "metadata": {}
        }
      ]
    },
    {
      "cell_type": "markdown",
      "source": [
        "# Print CSV"
      ],
      "metadata": {
        "id": "ZJrjRAt3i9M0"
      },
      "id": "ZJrjRAt3i9M0"
    },
    {
      "cell_type": "code",
      "source": [
        "netflix_film_imdb_data.to_csv('netflix_film_imdb_data.csv')"
      ],
      "metadata": {
        "id": "Ps9ZplpHLPWH"
      },
      "id": "Ps9ZplpHLPWH",
      "execution_count": null,
      "outputs": []
    },
    {
      "cell_type": "markdown",
      "source": [
        "# Credit\n",
        "\n",
        "This notebook contains contributions from Anthony Brown and Fisher Eskew.\n",
        "\n",
        "The organization of this notebook is inspired by a notebook provided as a workshop for CSC 442 at NC State University. This workshop was created by Aditi Mallavarapu, Claire Cahoon and Walt Gurley, adapted from previous workshop materials by Scott Bailey and Simon Wiles, of Stanford Libraries."
      ],
      "metadata": {
        "id": "q1OSTOg5Kwmb"
      },
      "id": "q1OSTOg5Kwmb"
    }
  ],
  "metadata": {
    "kernelspec": {
      "display_name": "Python 3 (ipykernel)",
      "language": "python",
      "name": "python3"
    },
    "language_info": {
      "codemirror_mode": {
        "name": "ipython",
        "version": 3
      },
      "file_extension": ".py",
      "mimetype": "text/x-python",
      "name": "python",
      "nbconvert_exporter": "python",
      "pygments_lexer": "ipython3",
      "version": "3.8.3"
    },
    "colab": {
      "provenance": []
    }
  },
  "nbformat": 4,
  "nbformat_minor": 5
}