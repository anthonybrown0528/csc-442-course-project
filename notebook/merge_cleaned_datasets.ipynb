{
 "cells": [
  {
   "cell_type": "markdown",
   "id": "1QWzwpT5Gll3",
   "metadata": {
    "id": "1QWzwpT5Gll3"
   },
   "source": [
    "# Dataset"
   ]
  },
  {
   "cell_type": "code",
   "execution_count": 61,
   "id": "538b0ba1-21cd-4a31-bd7a-50c7c36c46af",
   "metadata": {
    "id": "538b0ba1-21cd-4a31-bd7a-50c7c36c46af"
   },
   "outputs": [],
   "source": [
    "import pandas as pd"
   ]
  },
  {
   "cell_type": "code",
   "execution_count": 62,
   "id": "ebd093ba-54a6-4aca-bd26-b1eff0bee7e5",
   "metadata": {
    "id": "ebd093ba-54a6-4aca-bd26-b1eff0bee7e5"
   },
   "outputs": [],
   "source": [
    "# Load the cleaned datasets\n",
    "netflix_df = pd.read_csv('https://raw.githubusercontent.com/anthonybrown0528/csc-442-course-project/refs/heads/main/dataset/clean/netflix_film_data.csv')\n",
    "imdb_df = pd.read_csv('https://raw.githubusercontent.com/anthonybrown0528/csc-442-course-project/refs/heads/main/dataset/clean/netflix_imdb_scores.csv')"
   ]
  },
  {
   "cell_type": "markdown",
   "id": "Om1P-61oG9-3",
   "metadata": {
    "id": "Om1P-61oG9-3"
   },
   "source": [
    "## 1. Data Merging"
   ]
  },
  {
   "cell_type": "markdown",
   "id": "QeW9yg3OHJQW",
   "metadata": {
    "id": "QeW9yg3OHJQW"
   },
   "source": [
    "### 1.1 Identify Common Columns"
   ]
  },
  {
   "cell_type": "code",
   "execution_count": 63,
   "id": "29ae4e4e-203f-4c58-9c62-6c182a34fca9",
   "metadata": {
    "colab": {
     "base_uri": "https://localhost:8080/"
    },
    "id": "29ae4e4e-203f-4c58-9c62-6c182a34fca9",
    "outputId": "b12f75a8-7989-4be0-8562-a9f8c9b01fa0"
   },
   "outputs": [
    {
     "name": "stdout",
     "output_type": "stream",
     "text": [
      "<class 'pandas.core.frame.DataFrame'>\n",
      "RangeIndex: 7293 entries, 0 to 7292\n",
      "Data columns (total 16 columns):\n",
      " #   Column           Non-Null Count  Dtype  \n",
      "---  ------           --------------  -----  \n",
      " 0   show_id          7293 non-null   object \n",
      " 1   type             7293 non-null   object \n",
      " 2   title            7293 non-null   object \n",
      " 3   director         7293 non-null   object \n",
      " 4   cast             7293 non-null   object \n",
      " 5   country          7293 non-null   object \n",
      " 6   date_added       7293 non-null   object \n",
      " 7   release_year     7293 non-null   int64  \n",
      " 8   rating           7290 non-null   object \n",
      " 9   num_releases     7293 non-null   int64  \n",
      " 10  listed_in        7293 non-null   object \n",
      " 11  description      7293 non-null   object \n",
      " 12  num_listed_in    7293 non-null   int64  \n",
      " 13  first_cast       7293 non-null   object \n",
      " 14  cast_freq_mean   7293 non-null   float64\n",
      " 15  genre_freq_mean  7293 non-null   float64\n",
      "dtypes: float64(2), int64(3), object(11)\n",
      "memory usage: 911.8+ KB\n"
     ]
    }
   ],
   "source": [
    "netflix_df.info()"
   ]
  },
  {
   "cell_type": "code",
   "execution_count": 64,
   "id": "agBEFD7vFb2s",
   "metadata": {
    "colab": {
     "base_uri": "https://localhost:8080/"
    },
    "id": "agBEFD7vFb2s",
    "outputId": "2e59958c-d2bf-4d0e-b66b-e0811a15b43c"
   },
   "outputs": [
    {
     "name": "stdout",
     "output_type": "stream",
     "text": [
      "<class 'pandas.core.frame.DataFrame'>\n",
      "RangeIndex: 5278 entries, 0 to 5277\n",
      "Data columns (total 9 columns):\n",
      " #   Column             Non-Null Count  Dtype  \n",
      "---  ------             --------------  -----  \n",
      " 0   title              5278 non-null   object \n",
      " 1   type               5278 non-null   object \n",
      " 2   description        5278 non-null   object \n",
      " 3   release_year       5278 non-null   int64  \n",
      " 4   age_certification  2996 non-null   object \n",
      " 5   runtime            5278 non-null   int64  \n",
      " 6   imdb_id            5278 non-null   object \n",
      " 7   imdb_score         5278 non-null   float64\n",
      " 8   imdb_votes         5278 non-null   int64  \n",
      "dtypes: float64(1), int64(3), object(5)\n",
      "memory usage: 371.2+ KB\n"
     ]
    }
   ],
   "source": [
    "imdb_df.info()"
   ]
  },
  {
   "cell_type": "code",
   "execution_count": 65,
   "id": "bxWyqdGmJ2Q0",
   "metadata": {
    "colab": {
     "base_uri": "https://localhost:8080/"
    },
    "id": "bxWyqdGmJ2Q0",
    "outputId": "5c3eb08c-09ce-49cb-ca6f-77f39fee05ca"
   },
   "outputs": [
    {
     "name": "stdout",
     "output_type": "stream",
     "text": [
      "Common Titles: 3177\n",
      "Common Release Years: 64\n",
      "Common Age Certifications: 12\n"
     ]
    }
   ],
   "source": [
    "common_titles = list(set(imdb_df[\"title\"]) & set(netflix_df[\"title\"]))\n",
    "print('Common Titles:', len(common_titles))\n",
    "\n",
    "common_release_year = list(set(imdb_df[\"release_year\"]) & set(netflix_df[\"release_year\"]))\n",
    "print('Common Release Years:', len(common_release_year))\n",
    "\n",
    "common_age_certification_year = list(set(imdb_df[\"age_certification\"]) & set(netflix_df[\"rating\"]))\n",
    "print('Common Age Certifications:', len(common_age_certification_year))"
   ]
  },
  {
   "cell_type": "markdown",
   "id": "8-au52AcHaem",
   "metadata": {
    "id": "8-au52AcHaem"
   },
   "source": [
    "The datasets share the `title`, `release_year`, and `age_certification` columns and contain common values. The title and release year are sufficient to identify a unique film in this dataset."
   ]
  },
  {
   "cell_type": "markdown",
   "id": "3lNfj64VIJe3",
   "metadata": {
    "id": "3lNfj64VIJe3"
   },
   "source": [
    "## 1.2 Broad Merge"
   ]
  },
  {
   "cell_type": "code",
   "execution_count": 66,
   "id": "7a6fc66d-58bb-4f09-99ce-a4d447083d47",
   "metadata": {
    "id": "7a6fc66d-58bb-4f09-99ce-a4d447083d47"
   },
   "outputs": [],
   "source": [
    "# Rename the rating column to age_certification to be consistent with the\n",
    "# column label in the other dataset\n",
    "netflix_df = netflix_df.rename(columns={'rating': 'age_certification'})"
   ]
  },
  {
   "cell_type": "code",
   "execution_count": 67,
   "id": "5ec81627-ea4c-455e-a81c-77a494f232e2",
   "metadata": {
    "colab": {
     "base_uri": "https://localhost:8080/",
     "height": 712
    },
    "id": "5ec81627-ea4c-455e-a81c-77a494f232e2",
    "outputId": "47a3c26c-ae58-4b36-e8c2-321730cb125c"
   },
   "outputs": [
    {
     "data": {
      "text/html": [
       "<div>\n",
       "<style scoped>\n",
       "    .dataframe tbody tr th:only-of-type {\n",
       "        vertical-align: middle;\n",
       "    }\n",
       "\n",
       "    .dataframe tbody tr th {\n",
       "        vertical-align: top;\n",
       "    }\n",
       "\n",
       "    .dataframe thead th {\n",
       "        text-align: right;\n",
       "    }\n",
       "</style>\n",
       "<table border=\"1\" class=\"dataframe\">\n",
       "  <thead>\n",
       "    <tr style=\"text-align: right;\">\n",
       "      <th></th>\n",
       "      <th>show_id</th>\n",
       "      <th>type</th>\n",
       "      <th>title</th>\n",
       "      <th>director</th>\n",
       "      <th>cast</th>\n",
       "      <th>country</th>\n",
       "      <th>date_added</th>\n",
       "      <th>release_year</th>\n",
       "      <th>age_certification</th>\n",
       "      <th>num_releases</th>\n",
       "      <th>listed_in</th>\n",
       "      <th>description</th>\n",
       "      <th>num_listed_in</th>\n",
       "      <th>first_cast</th>\n",
       "      <th>cast_freq_mean</th>\n",
       "      <th>genre_freq_mean</th>\n",
       "    </tr>\n",
       "  </thead>\n",
       "  <tbody>\n",
       "    <tr>\n",
       "      <th>0</th>\n",
       "      <td>s2</td>\n",
       "      <td>TV Show</td>\n",
       "      <td>Blood &amp; Water</td>\n",
       "      <td>Unknown</td>\n",
       "      <td>Ama Qamata, Khosi Ngema, Gail Mabalane, Thaban...</td>\n",
       "      <td>South Africa</td>\n",
       "      <td>September 24, 2021</td>\n",
       "      <td>2021</td>\n",
       "      <td>TV-MA</td>\n",
       "      <td>2</td>\n",
       "      <td>International TV Shows, TV Dramas, TV Mysteries</td>\n",
       "      <td>After crossing paths at a party, a Cape Town t...</td>\n",
       "      <td>3</td>\n",
       "      <td>Ama Qamata</td>\n",
       "      <td>1.157895</td>\n",
       "      <td>597.666667</td>\n",
       "    </tr>\n",
       "    <tr>\n",
       "      <th>1</th>\n",
       "      <td>s5</td>\n",
       "      <td>TV Show</td>\n",
       "      <td>Kota Factory</td>\n",
       "      <td>Unknown</td>\n",
       "      <td>Mayur More, Jitendra Kumar, Ranjan Raj, Alam K...</td>\n",
       "      <td>India</td>\n",
       "      <td>September 24, 2021</td>\n",
       "      <td>2021</td>\n",
       "      <td>TV-MA</td>\n",
       "      <td>2</td>\n",
       "      <td>International TV Shows, Romantic TV Shows, TV ...</td>\n",
       "      <td>In a city of coaching centers known to train I...</td>\n",
       "      <td>3</td>\n",
       "      <td>Mayur More</td>\n",
       "      <td>2.000000</td>\n",
       "      <td>608.000000</td>\n",
       "    </tr>\n",
       "    <tr>\n",
       "      <th>2</th>\n",
       "      <td>s8</td>\n",
       "      <td>Movie</td>\n",
       "      <td>Sankofa</td>\n",
       "      <td>Haile Gerima</td>\n",
       "      <td>Kofi Ghanaba, Oyafunmike Ogunlano, Alexandra D...</td>\n",
       "      <td>United States, Ghana, Burkina Faso, United Kin...</td>\n",
       "      <td>September 24, 2021</td>\n",
       "      <td>1993</td>\n",
       "      <td>TV-MA</td>\n",
       "      <td>1</td>\n",
       "      <td>Dramas, Independent Movies, International Movies</td>\n",
       "      <td>On a photo shoot in Ghana, an American model s...</td>\n",
       "      <td>3</td>\n",
       "      <td>Kofi Ghanaba</td>\n",
       "      <td>1.000000</td>\n",
       "      <td>1814.666667</td>\n",
       "    </tr>\n",
       "    <tr>\n",
       "      <th>3</th>\n",
       "      <td>s9</td>\n",
       "      <td>TV Show</td>\n",
       "      <td>The Great British Baking Show</td>\n",
       "      <td>Andy Devonshire</td>\n",
       "      <td>Mel Giedroyc, Sue Perkins, Mary Berry, Paul Ho...</td>\n",
       "      <td>United Kingdom</td>\n",
       "      <td>September 24, 2021</td>\n",
       "      <td>2021</td>\n",
       "      <td>TV-14</td>\n",
       "      <td>9</td>\n",
       "      <td>British TV Shows, Reality TV</td>\n",
       "      <td>A talented batch of amateur bakers face off in...</td>\n",
       "      <td>2</td>\n",
       "      <td>Mel Giedroyc</td>\n",
       "      <td>2.000000</td>\n",
       "      <td>171.000000</td>\n",
       "    </tr>\n",
       "    <tr>\n",
       "      <th>4</th>\n",
       "      <td>s10</td>\n",
       "      <td>Movie</td>\n",
       "      <td>The Starling</td>\n",
       "      <td>Theodore Melfi</td>\n",
       "      <td>Melissa McCarthy, Chris O'Dowd, Kevin Kline, T...</td>\n",
       "      <td>United States</td>\n",
       "      <td>September 24, 2021</td>\n",
       "      <td>2021</td>\n",
       "      <td>PG-13</td>\n",
       "      <td>1</td>\n",
       "      <td>Comedies, Dramas</td>\n",
       "      <td>A woman adjusting to life after a loss contend...</td>\n",
       "      <td>2</td>\n",
       "      <td>Melissa McCarthy</td>\n",
       "      <td>5.090909</td>\n",
       "      <td>1942.000000</td>\n",
       "    </tr>\n",
       "  </tbody>\n",
       "</table>\n",
       "</div>"
      ],
      "text/plain": [
       "  show_id     type                          title         director   \n",
       "0      s2  TV Show                  Blood & Water          Unknown  \\\n",
       "1      s5  TV Show                   Kota Factory          Unknown   \n",
       "2      s8    Movie                        Sankofa     Haile Gerima   \n",
       "3      s9  TV Show  The Great British Baking Show  Andy Devonshire   \n",
       "4     s10    Movie                   The Starling   Theodore Melfi   \n",
       "\n",
       "                                                cast   \n",
       "0  Ama Qamata, Khosi Ngema, Gail Mabalane, Thaban...  \\\n",
       "1  Mayur More, Jitendra Kumar, Ranjan Raj, Alam K...   \n",
       "2  Kofi Ghanaba, Oyafunmike Ogunlano, Alexandra D...   \n",
       "3  Mel Giedroyc, Sue Perkins, Mary Berry, Paul Ho...   \n",
       "4  Melissa McCarthy, Chris O'Dowd, Kevin Kline, T...   \n",
       "\n",
       "                                             country          date_added   \n",
       "0                                       South Africa  September 24, 2021  \\\n",
       "1                                              India  September 24, 2021   \n",
       "2  United States, Ghana, Burkina Faso, United Kin...  September 24, 2021   \n",
       "3                                     United Kingdom  September 24, 2021   \n",
       "4                                      United States  September 24, 2021   \n",
       "\n",
       "   release_year age_certification  num_releases   \n",
       "0          2021             TV-MA             2  \\\n",
       "1          2021             TV-MA             2   \n",
       "2          1993             TV-MA             1   \n",
       "3          2021             TV-14             9   \n",
       "4          2021             PG-13             1   \n",
       "\n",
       "                                           listed_in   \n",
       "0    International TV Shows, TV Dramas, TV Mysteries  \\\n",
       "1  International TV Shows, Romantic TV Shows, TV ...   \n",
       "2   Dramas, Independent Movies, International Movies   \n",
       "3                       British TV Shows, Reality TV   \n",
       "4                                   Comedies, Dramas   \n",
       "\n",
       "                                         description  num_listed_in   \n",
       "0  After crossing paths at a party, a Cape Town t...              3  \\\n",
       "1  In a city of coaching centers known to train I...              3   \n",
       "2  On a photo shoot in Ghana, an American model s...              3   \n",
       "3  A talented batch of amateur bakers face off in...              2   \n",
       "4  A woman adjusting to life after a loss contend...              2   \n",
       "\n",
       "         first_cast  cast_freq_mean  genre_freq_mean  \n",
       "0        Ama Qamata        1.157895       597.666667  \n",
       "1        Mayur More        2.000000       608.000000  \n",
       "2      Kofi Ghanaba        1.000000      1814.666667  \n",
       "3      Mel Giedroyc        2.000000       171.000000  \n",
       "4  Melissa McCarthy        5.090909      1942.000000  "
      ]
     },
     "execution_count": 67,
     "metadata": {},
     "output_type": "execute_result"
    }
   ],
   "source": [
    "netflix_df.head()"
   ]
  },
  {
   "cell_type": "code",
   "execution_count": 68,
   "id": "7e5c5a5a-8aa4-4d20-9864-6adc14661d48",
   "metadata": {
    "colab": {
     "base_uri": "https://localhost:8080/"
    },
    "id": "7e5c5a5a-8aa4-4d20-9864-6adc14661d48",
    "outputId": "9e36aa5e-365d-4248-a0a3-2e1b7299e728"
   },
   "outputs": [
    {
     "name": "stdout",
     "output_type": "stream",
     "text": [
      "<class 'pandas.core.frame.DataFrame'>\n",
      "RangeIndex: 2477 entries, 0 to 2476\n",
      "Data columns (total 21 columns):\n",
      " #   Column             Non-Null Count  Dtype  \n",
      "---  ------             --------------  -----  \n",
      " 0   title              2477 non-null   object \n",
      " 1   description_x      2477 non-null   object \n",
      " 2   release_year       2477 non-null   int64  \n",
      " 3   runtime            2477 non-null   int64  \n",
      " 4   imdb_id            2477 non-null   object \n",
      " 5   imdb_score         2477 non-null   float64\n",
      " 6   imdb_votes         2477 non-null   int64  \n",
      " 7   show_id            2477 non-null   object \n",
      " 8   type               2477 non-null   object \n",
      " 9   director           2477 non-null   object \n",
      " 10  cast               2477 non-null   object \n",
      " 11  country            2477 non-null   object \n",
      " 12  date_added         2477 non-null   object \n",
      " 13  age_certification  2477 non-null   object \n",
      " 14  num_releases       2477 non-null   int64  \n",
      " 15  listed_in          2477 non-null   object \n",
      " 16  description_y      2477 non-null   object \n",
      " 17  num_listed_in      2477 non-null   int64  \n",
      " 18  first_cast         2477 non-null   object \n",
      " 19  cast_freq_mean     2477 non-null   float64\n",
      " 20  genre_freq_mean    2477 non-null   float64\n",
      "dtypes: float64(3), int64(5), object(13)\n",
      "memory usage: 406.5+ KB\n"
     ]
    }
   ],
   "source": [
    "# Perform an inner join on film title and release year\n",
    "netflix_film_imdb_data = pd.merge(imdb_df, netflix_df, how='inner', on=['title', 'release_year'])\n",
    "\n",
    "# The duplicate type and age certification are redundant\n",
    "# Remove one of each from the merged data and retain the columns which\n",
    "# do not contain missing values\n",
    "#\n",
    "# Merging with duplicate columns forced a renaming,\n",
    "# so revert the columns back to the original naming\n",
    "netflix_film_imdb_data = netflix_film_imdb_data \\\n",
    "            .drop(columns=['type_x', 'age_certification_x']) \\\n",
    "            .rename(columns={'type_y': 'type', 'age_certification_y': 'age_certification'})\n",
    "\n",
    "netflix_film_imdb_data.info()"
   ]
  },
  {
   "cell_type": "code",
   "execution_count": 69,
   "id": "Ps9ZplpHLPWH",
   "metadata": {
    "id": "Ps9ZplpHLPWH"
   },
   "outputs": [],
   "source": [
    "netflix_film_imdb_data.to_csv('netflix_film_imdb_data.csv', index=False)"
   ]
  },
  {
   "cell_type": "markdown",
   "id": "q1OSTOg5Kwmb",
   "metadata": {
    "id": "q1OSTOg5Kwmb"
   },
   "source": [
    "# Credit\n",
    "\n",
    "This notebook contains contributions from Anthony Brown.\n",
    "\n",
    "The organization of this notebook is inspired by a notebook provided as a workshop for CSC 442 at NC State University. This workshop was created by Aditi Mallavarapu, Claire Cahoon and Walt Gurley, adapted from previous workshop materials by Scott Bailey and Simon Wiles, of Stanford Libraries."
   ]
  }
 ],
 "metadata": {
  "colab": {
   "provenance": []
  },
  "kernelspec": {
   "display_name": "Python 3 (ipykernel)",
   "language": "python",
   "name": "python3"
  },
  "language_info": {
   "codemirror_mode": {
    "name": "ipython",
    "version": 3
   },
   "file_extension": ".py",
   "mimetype": "text/x-python",
   "name": "python",
   "nbconvert_exporter": "python",
   "pygments_lexer": "ipython3",
   "version": "3.8.3"
  }
 },
 "nbformat": 4,
 "nbformat_minor": 5
}
